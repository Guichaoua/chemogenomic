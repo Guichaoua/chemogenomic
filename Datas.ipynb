{
  "cells": [
    {
      "attachments": {},
      "cell_type": "markdown",
      "metadata": {},
      "source": [
        "# Classification using BFGS -- Pytorch version\n",
        "\n",
        "This notebook details the implementation of a generic ridge-regularized classification solved by direct gradient-based optimization (here quasi-newton). \n",
        "It is implemented in the kernel space, i.e. representing the weights over the space of points."
      ]
    },
    {
      "cell_type": "code",
      "execution_count": 1,
      "metadata": {
        "id": "ij0BFq1STLcv"
      },
      "outputs": [
        {
          "name": "stdout",
          "output_type": "stream",
          "text": [
            "cpu\n"
          ]
        }
      ],
      "source": [
        "%load_ext autoreload\n",
        "%autoreload 2\n",
        "import torch\n",
        "import torch.optim as optim\n",
        "import matplotlib.pyplot as plt\n",
        "import numpy as np\n",
        "from sklearn import svm\n",
        "\n",
        "device = torch.device(\"cuda:0\" if torch.cuda.is_available() else \"cpu\")\n",
        "device_cpu = torch.device(\"cpu\")\n",
        "device_cpu = device\n",
        "print( device )\n",
        "\n",
        "mytype = torch.float16 # to save memory (only on GPU)\n",
        "mytype = torch.float32"
      ]
    },
    {
      "attachments": {},
      "cell_type": "markdown",
      "metadata": {
        "id": "I_pKDD-zj7Fa"
      },
      "source": [
        "# Data"
      ]
    },
    {
      "attachments": {},
      "cell_type": "markdown",
      "metadata": {},
      "source": [
        "## Kprot"
      ]
    },
    {
      "cell_type": "code",
      "execution_count": 6,
      "metadata": {},
      "outputs": [],
      "source": [
        "import pickle\n",
        "with open('data/CC_all2_base_K_prot.data', 'rb') as f:\n",
        "        K_prot = pickle.load(f)"
      ]
    },
    {
      "cell_type": "code",
      "execution_count": 7,
      "metadata": {},
      "outputs": [
        {
          "data": {
            "text/plain": [
              "(1647, 1647)"
            ]
          },
          "execution_count": 7,
          "metadata": {},
          "output_type": "execute_result"
        }
      ],
      "source": [
        "K_prot.shape"
      ]
    },
    {
      "attachments": {},
      "cell_type": "markdown",
      "metadata": {},
      "source": [
        "## liste des 152 844 smiles"
      ]
    },
    {
      "cell_type": "code",
      "execution_count": 8,
      "metadata": {},
      "outputs": [
        {
          "data": {
            "text/plain": [
              "152844"
            ]
          },
          "execution_count": 8,
          "metadata": {},
          "output_type": "execute_result"
        }
      ],
      "source": [
        "# same in zip format\n",
        "import pandas as pd\n",
        "import zipfile\n",
        "zf = zipfile.ZipFile('data/Consensus_CompoundBioactivity_Dataset_v1.1_Sh2_all2.csv.zip') \n",
        "df = pd.read_csv(zf.open('Consensus_CompoundBioactivity_Dataset_v1.1_Sh2_all2.csv'),low_memory=False)\n",
        "df_p = df[df['interaction+'] == True]\n",
        "#list of smiles strings\n",
        "smiles = df_p['standardized smiles'].drop_duplicates().values\n",
        "len(smiles)"
      ]
    },
    {
      "cell_type": "code",
      "execution_count": 5,
      "metadata": {},
      "outputs": [],
      "source": [
        "from rdkit import Chem\n",
        "from rdkit.Chem import AllChem\n",
        "\n",
        "import numpy as np\n",
        "\n",
        "nM = 10000 # len(smiles)\n",
        "MorganFP = np.zeros((nM,1024))\n",
        "for i in range(nM):\n",
        "    # Convert SMILES to RDKit molecule object\n",
        "    mol = Chem.MolFromSmiles(smiles[i])    \n",
        "    # Generate Morgan fingerprint of the molecule\n",
        "    fp = AllChem.GetMorganFingerprintAsBitVect(mol, 2, nBits=1024)\n",
        "    # Convert the fingerprint to a numpy array\n",
        "    arr = np.zeros((1,))\n",
        "    AllChem.DataStructs.ConvertToNumpyArray(fp, arr)\n",
        "    MorganFP[i,:] = arr\n",
        "MorganFP = MorganFP.astype(int)"
      ]
    },
    {
      "cell_type": "code",
      "execution_count": 121,
      "metadata": {},
      "outputs": [],
      "source": [
        "import Nystrom_method\n",
        "from  Nystrom_method import nystroem,KronKernel\n",
        "# random list of molecules \n",
        "kM = 3000 # number of molecule to compute nystrom\n",
        "rM = 1000 # final dimension of features\n",
        "I = np.random.permutation(nM)\n",
        "I = I[:kM]"
      ]
    },
    {
      "cell_type": "code",
      "execution_count": 122,
      "metadata": {},
      "outputs": [],
      "source": [
        "# compute Tanimoto kernel \n",
        "Km = ( MorganFP[I,:] @ MorganFP.T ) / ( 1024 - (1-MorganFP[I,:]) @ (1-MorganFP.T) )"
      ]
    },
    {
      "cell_type": "code",
      "execution_count": 137,
      "metadata": {},
      "outputs": [],
      "source": [
        "Xm,Lambda,LambdaC = nystroem(np.concatenate((Km[:,I], Km), axis=1),rM)"
      ]
    },
    {
      "cell_type": "code",
      "execution_count": 140,
      "metadata": {},
      "outputs": [
        {
          "data": {
            "text/plain": [
              "(13000, 1000)"
            ]
          },
          "execution_count": 140,
          "metadata": {},
          "output_type": "execute_result"
        }
      ],
      "source": []
    },
    {
      "attachments": {},
      "cell_type": "markdown",
      "metadata": {},
      "source": [
        "## liste des indices protéines/molécules avec que des 1"
      ]
    },
    {
      "cell_type": "code",
      "execution_count": 5,
      "metadata": {},
      "outputs": [
        {
          "name": "stdout",
          "output_type": "stream",
          "text": [
            "231964\n",
            "231964\n"
          ]
        }
      ],
      "source": [
        "# protein indices\n",
        "J = df_p['indfasta'].values\n",
        "print(len(J))\n",
        "# molecules indices\n",
        "I = df_p['indsmiles'].values\n",
        "print(len(I))"
      ]
    },
    {
      "attachments": {},
      "cell_type": "markdown",
      "metadata": {},
      "source": [
        "## train/test avec indices protéines/molécules et interactions balanced"
      ]
    },
    {
      "cell_type": "code",
      "execution_count": 8,
      "metadata": {},
      "outputs": [
        {
          "name": "stdout",
          "output_type": "stream",
          "text": [
            "371142\n"
          ]
        }
      ],
      "source": [
        "# load with pickle\n",
        "import pickle\n",
        "with open('data/train.data', 'rb') as f:\n",
        "        train = pickle.load(f)\n",
        "with open('data/test.data', 'rb') as f:\n",
        "        test = pickle.load(f)\n",
        "\n",
        "print(len(train))"
      ]
    },
    {
      "cell_type": "code",
      "execution_count": 9,
      "metadata": {},
      "outputs": [
        {
          "data": {
            "text/plain": [
              "array([[   145, 124184,      1],\n",
              "       [   145, 125039,      1],\n",
              "       [   145,  48320,      1],\n",
              "       ...,\n",
              "       [  1643, 150939,      0],\n",
              "       [  1647, 152928,      1],\n",
              "       [  1647, 126691,      0]])"
            ]
          },
          "execution_count": 9,
          "metadata": {},
          "output_type": "execute_result"
        }
      ],
      "source": [
        "# en premier l'indice de la protéine, puis l'indice du ligand puis l'interaction\n",
        "train"
      ]
    },
    {
      "cell_type": "code",
      "execution_count": null,
      "metadata": {},
      "outputs": [],
      "source": [
        "# enregistrement de la dataframe dans un fichier csv\n",
        "df_p.to_csv('data/df_p.csv', index=False)\n",
        "\n",
        "\n"
      ]
    }
  ],
  "metadata": {
    "colab": {
      "provenance": []
    },
    "kernelspec": {
      "display_name": "Python 3",
      "name": "python3"
    },
    "language_info": {
      "codemirror_mode": {
        "name": "ipython",
        "version": 3
      },
      "file_extension": ".py",
      "mimetype": "text/x-python",
      "name": "python",
      "nbconvert_exporter": "python",
      "pygments_lexer": "ipython3",
      "version": "3.9.13"
    }
  },
  "nbformat": 4,
  "nbformat_minor": 0
}

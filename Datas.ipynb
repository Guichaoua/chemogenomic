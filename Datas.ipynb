{
  "cells": [
    {
      "attachments": {},
      "cell_type": "markdown",
      "metadata": {},
      "source": [
        "# Classification using BFGS -- Pytorch version\n",
        "\n",
        "This notebook details the implementation of a generic ridge-regularized classification solved by direct gradient-based optimization (here quasi-newton). \n",
        "It is implemented in the kernel space, i.e. representing the weights over the space of points."
      ]
    },
    {
      "cell_type": "code",
      "execution_count": 1,
      "metadata": {
        "id": "ij0BFq1STLcv"
      },
      "outputs": [
        {
          "name": "stdout",
          "output_type": "stream",
          "text": [
            "cpu\n"
          ]
        }
      ],
      "source": [
        "%load_ext autoreload\n",
        "%autoreload 2\n",
        "import torch\n",
        "import torch.optim as optim\n",
        "import matplotlib.pyplot as plt\n",
        "import numpy as np\n",
        "from sklearn import svm\n",
        "\n",
        "device = torch.device(\"cuda:0\" if torch.cuda.is_available() else \"cpu\")\n",
        "device_cpu = torch.device(\"cpu\")\n",
        "device_cpu = device\n",
        "print( device )\n",
        "\n",
        "mytype = torch.float16 # to save memory (only on GPU)\n",
        "mytype = torch.float32"
      ]
    },
    {
      "attachments": {},
      "cell_type": "markdown",
      "metadata": {
        "id": "I_pKDD-zj7Fa"
      },
      "source": [
        "# Data"
      ]
    },
    {
      "attachments": {},
      "cell_type": "markdown",
      "metadata": {},
      "source": [
        "## Kprot"
      ]
    },
    {
      "cell_type": "code",
      "execution_count": 12,
      "metadata": {},
      "outputs": [],
      "source": [
        "import pickle\n",
        "with open('data/CC_all2_base_K_prot.data', 'rb') as f:\n",
        "        K_prot = pickle.load(f)"
      ]
    },
    {
      "cell_type": "code",
      "execution_count": 13,
      "metadata": {},
      "outputs": [
        {
          "data": {
            "text/plain": [
              "(1647, 1647)"
            ]
          },
          "execution_count": 13,
          "metadata": {},
          "output_type": "execute_result"
        }
      ],
      "source": [
        "K_prot.shape"
      ]
    },
    {
      "attachments": {},
      "cell_type": "markdown",
      "metadata": {},
      "source": [
        "## liste des 152 844 smiles"
      ]
    },
    {
      "cell_type": "code",
      "execution_count": 3,
      "metadata": {},
      "outputs": [
        {
          "data": {
            "text/html": [
              "<div>\n",
              "<style scoped>\n",
              "    .dataframe tbody tr th:only-of-type {\n",
              "        vertical-align: middle;\n",
              "    }\n",
              "\n",
              "    .dataframe tbody tr th {\n",
              "        vertical-align: top;\n",
              "    }\n",
              "\n",
              "    .dataframe thead th {\n",
              "        text-align: right;\n",
              "    }\n",
              "</style>\n",
              "<table border=\"1\" class=\"dataframe\">\n",
              "  <thead>\n",
              "    <tr style=\"text-align: right;\">\n",
              "      <th></th>\n",
              "      <th>smiles</th>\n",
              "      <th>fasta</th>\n",
              "      <th>ChEMBL ID</th>\n",
              "      <th>PubChem ID</th>\n",
              "      <th>IUPHAR ID</th>\n",
              "      <th>Ligand names</th>\n",
              "      <th>Target</th>\n",
              "      <th>uniprot</th>\n",
              "      <th>mean</th>\n",
              "      <th>pIC50</th>\n",
              "      <th>pKi</th>\n",
              "      <th>pKd</th>\n",
              "      <th>measure</th>\n",
              "      <th>score</th>\n",
              "      <th>interaction+</th>\n",
              "      <th>indsmiles</th>\n",
              "      <th>indfasta</th>\n",
              "    </tr>\n",
              "  </thead>\n",
              "  <tbody>\n",
              "    <tr>\n",
              "      <th>0</th>\n",
              "      <td>BrC1CCN(Cc2ccc(OCCCN3CCCCC3)cc2)CC1</td>\n",
              "      <td>MERAPPDGPLNASGALAGEAAAAGGARGFSAAWTAVLAALMALLIV...</td>\n",
              "      <td>CHEMBL472466</td>\n",
              "      <td>44592131.0</td>\n",
              "      <td>NaN</td>\n",
              "      <td>4-bromo-1-(4-(3-(piperidin-1-yl)propoxy)benzyl...</td>\n",
              "      <td>hrh3</td>\n",
              "      <td>Q9Y5N1</td>\n",
              "      <td>9.7</td>\n",
              "      <td>NaN</td>\n",
              "      <td>9.7</td>\n",
              "      <td>NaN</td>\n",
              "      <td>9.7</td>\n",
              "      <td>1.0</td>\n",
              "      <td>True</td>\n",
              "      <td>0.0</td>\n",
              "      <td>0.0</td>\n",
              "    </tr>\n",
              "    <tr>\n",
              "      <th>1</th>\n",
              "      <td>BrCC(Br)C1CCC(Br)C(Br)C1</td>\n",
              "      <td>MEVQLGLGRVYPRPPSKTYRGAFQNLFQSVREVIQNPGPRHPEAAS...</td>\n",
              "      <td>CHEMBL375107</td>\n",
              "      <td>18728.0</td>\n",
              "      <td>NaN</td>\n",
              "      <td>1,2-dibromo-4-(1,2-dibromoethyl)cyclohexane\\nn...</td>\n",
              "      <td>ar</td>\n",
              "      <td>P10275</td>\n",
              "      <td>7.4</td>\n",
              "      <td>7.4</td>\n",
              "      <td>NaN</td>\n",
              "      <td>NaN</td>\n",
              "      <td>7.4</td>\n",
              "      <td>1.0</td>\n",
              "      <td>True</td>\n",
              "      <td>1.0</td>\n",
              "      <td>1.0</td>\n",
              "    </tr>\n",
              "    <tr>\n",
              "      <th>2</th>\n",
              "      <td>Brc1c(C2=CN3CCC2CC3)oc2ccccc12</td>\n",
              "      <td>MANFTPVNGSSGNQSVRLVTSSSHNRYETVEMVFIATVTGSLSLVT...</td>\n",
              "      <td>CHEMBL415510</td>\n",
              "      <td>10494696.0</td>\n",
              "      <td>NaN</td>\n",
              "      <td>3-(3-bromo-benzofuran-2-yl)-1-aza-bicyclo[2.2....</td>\n",
              "      <td>chrm4</td>\n",
              "      <td>P08173</td>\n",
              "      <td>7.0</td>\n",
              "      <td>NaN</td>\n",
              "      <td>7.0</td>\n",
              "      <td>NaN</td>\n",
              "      <td>7.0</td>\n",
              "      <td>1.0</td>\n",
              "      <td>True</td>\n",
              "      <td>2.0</td>\n",
              "      <td>2.0</td>\n",
              "    </tr>\n",
              "    <tr>\n",
              "      <th>3</th>\n",
              "      <td>Brc1c(C2=CN3CCC2CC3)oc2ccccc12</td>\n",
              "      <td>MEGDSYHNATTVNGTPVNHQPLERHRLWEVITIAAVTAVVSLITIV...</td>\n",
              "      <td>CHEMBL415510</td>\n",
              "      <td>10494696.0</td>\n",
              "      <td>NaN</td>\n",
              "      <td>3-(3-bromo-benzofuran-2-yl)-1-aza-bicyclo[2.2....</td>\n",
              "      <td>chrm5</td>\n",
              "      <td>P08912</td>\n",
              "      <td>7.0</td>\n",
              "      <td>NaN</td>\n",
              "      <td>7.0</td>\n",
              "      <td>NaN</td>\n",
              "      <td>7.0</td>\n",
              "      <td>1.0</td>\n",
              "      <td>True</td>\n",
              "      <td>2.0</td>\n",
              "      <td>3.0</td>\n",
              "    </tr>\n",
              "    <tr>\n",
              "      <th>4</th>\n",
              "      <td>Brc1c(C2=CN3CCC2CC3)oc2ccccc12</td>\n",
              "      <td>MNNSTNSSNNSLALTSPYKTFEVVFIVLVAGSLSLVTIIGNILVMV...</td>\n",
              "      <td>CHEMBL415510</td>\n",
              "      <td>10494696.0</td>\n",
              "      <td>NaN</td>\n",
              "      <td>3-(3-bromo-benzofuran-2-yl)-1-aza-bicyclo[2.2....</td>\n",
              "      <td>chrm2</td>\n",
              "      <td>P08172</td>\n",
              "      <td>7.0</td>\n",
              "      <td>NaN</td>\n",
              "      <td>7.0</td>\n",
              "      <td>NaN</td>\n",
              "      <td>7.0</td>\n",
              "      <td>1.0</td>\n",
              "      <td>True</td>\n",
              "      <td>2.0</td>\n",
              "      <td>4.0</td>\n",
              "    </tr>\n",
              "  </tbody>\n",
              "</table>\n",
              "</div>"
            ],
            "text/plain": [
              "                                smiles  \\\n",
              "0  BrC1CCN(Cc2ccc(OCCCN3CCCCC3)cc2)CC1   \n",
              "1             BrCC(Br)C1CCC(Br)C(Br)C1   \n",
              "2       Brc1c(C2=CN3CCC2CC3)oc2ccccc12   \n",
              "3       Brc1c(C2=CN3CCC2CC3)oc2ccccc12   \n",
              "4       Brc1c(C2=CN3CCC2CC3)oc2ccccc12   \n",
              "\n",
              "                                               fasta     ChEMBL ID  \\\n",
              "0  MERAPPDGPLNASGALAGEAAAAGGARGFSAAWTAVLAALMALLIV...  CHEMBL472466   \n",
              "1  MEVQLGLGRVYPRPPSKTYRGAFQNLFQSVREVIQNPGPRHPEAAS...  CHEMBL375107   \n",
              "2  MANFTPVNGSSGNQSVRLVTSSSHNRYETVEMVFIATVTGSLSLVT...  CHEMBL415510   \n",
              "3  MEGDSYHNATTVNGTPVNHQPLERHRLWEVITIAAVTAVVSLITIV...  CHEMBL415510   \n",
              "4  MNNSTNSSNNSLALTSPYKTFEVVFIVLVAGSLSLVTIIGNILVMV...  CHEMBL415510   \n",
              "\n",
              "   PubChem ID IUPHAR ID                                       Ligand names  \\\n",
              "0  44592131.0       NaN  4-bromo-1-(4-(3-(piperidin-1-yl)propoxy)benzyl...   \n",
              "1     18728.0       NaN  1,2-dibromo-4-(1,2-dibromoethyl)cyclohexane\\nn...   \n",
              "2  10494696.0       NaN  3-(3-bromo-benzofuran-2-yl)-1-aza-bicyclo[2.2....   \n",
              "3  10494696.0       NaN  3-(3-bromo-benzofuran-2-yl)-1-aza-bicyclo[2.2....   \n",
              "4  10494696.0       NaN  3-(3-bromo-benzofuran-2-yl)-1-aza-bicyclo[2.2....   \n",
              "\n",
              "  Target uniprot  mean  pIC50  pKi  pKd  measure  score  interaction+  \\\n",
              "0   hrh3  Q9Y5N1   9.7    NaN  9.7  NaN      9.7    1.0          True   \n",
              "1     ar  P10275   7.4    7.4  NaN  NaN      7.4    1.0          True   \n",
              "2  chrm4  P08173   7.0    NaN  7.0  NaN      7.0    1.0          True   \n",
              "3  chrm5  P08912   7.0    NaN  7.0  NaN      7.0    1.0          True   \n",
              "4  chrm2  P08172   7.0    NaN  7.0  NaN      7.0    1.0          True   \n",
              "\n",
              "   indsmiles  indfasta  \n",
              "0        0.0       0.0  \n",
              "1        1.0       1.0  \n",
              "2        2.0       2.0  \n",
              "3        2.0       3.0  \n",
              "4        2.0       4.0  "
            ]
          },
          "execution_count": 3,
          "metadata": {},
          "output_type": "execute_result"
        }
      ],
      "source": [
        "import pandas as pd\n",
        "import zipfile\n",
        "base_name = 'Consensus_CompoundBioactivity_Dataset_v1.1_Sh2_all2'\n",
        "zf = zipfile.ZipFile('data/CC/' + base_name + '.csv.zip') \n",
        "df = pd.read_csv(zf.open(base_name + '.csv'),low_memory=False)\n",
        "df.rename(columns={'standardized smiles':'smiles'}, inplace=True)\n",
        "df.head()"
      ]
    },
    {
      "cell_type": "code",
      "execution_count": 4,
      "metadata": {},
      "outputs": [
        {
          "name": "stdout",
          "output_type": "stream",
          "text": [
            "152844\n"
          ]
        },
        {
          "data": {
            "text/plain": [
              "152844"
            ]
          },
          "execution_count": 4,
          "metadata": {},
          "output_type": "execute_result"
        }
      ],
      "source": [
        "df_p = df[df['interaction+'] == True]\n",
        "#list of smiles strings\n",
        "dict_ind2smiles = df_p[['indsmiles','smiles']].set_index('indsmiles').to_dict()['smiles']\n",
        "# ordonner les indices suivant les ind2mol\n",
        "dict_ind2smiles = {k:dict_ind2smiles[k] for k in sorted(dict_ind2smiles.keys())}\n",
        "print(len(dict_ind2smiles))\n",
        "smiles = list(dict_ind2smiles.values())\n",
        "len(smiles)"
      ]
    },
    {
      "cell_type": "code",
      "execution_count": 2,
      "metadata": {},
      "outputs": [
        {
          "data": {
            "text/plain": [
              "152844"
            ]
          },
          "execution_count": 2,
          "metadata": {},
          "output_type": "execute_result"
        }
      ],
      "source": [
        "# same in zip format\n",
        "import pandas as pd\n",
        "import zipfile\n",
        "zf = zipfile.ZipFile('data/CC/Consensus_CompoundBioactivity_Dataset_v1.1_Sh2_all2.csv.zip') \n",
        "df = pd.read_csv(zf.open('Consensus_CompoundBioactivity_Dataset_v1.1_Sh2_all2.csv'),low_memory=False)\n",
        "df_p = df[df['interaction+'] == True]\n",
        "#list of smiles strings\n",
        "smiles = df_p['standardized smiles'].drop_duplicates().values\n",
        "len(smiles)"
      ]
    },
    {
      "cell_type": "code",
      "execution_count": 15,
      "metadata": {},
      "outputs": [],
      "source": [
        "from rdkit import Chem\n",
        "from rdkit.Chem import AllChem\n",
        "\n",
        "import numpy as np\n",
        "\n",
        "nM = 10000 # len(smiles)\n",
        "MorganFP = np.zeros((nM,1024))\n",
        "for i in range(nM):\n",
        "    # Convert SMILES to RDKit molecule object\n",
        "    mol = Chem.MolFromSmiles(smiles[i])    \n",
        "    # Generate Morgan fingerprint of the molecule\n",
        "    fp = AllChem.GetMorganFingerprintAsBitVect(mol, 2, nBits=1024)\n",
        "    # Convert the fingerprint to a numpy array\n",
        "    arr = np.zeros((1,))\n",
        "    AllChem.DataStructs.ConvertToNumpyArray(fp, arr)\n",
        "    MorganFP[i,:] = arr\n",
        "MorganFP = MorganFP.astype(int)"
      ]
    },
    {
      "cell_type": "code",
      "execution_count": 16,
      "metadata": {},
      "outputs": [],
      "source": [
        "import Nystrom_method\n",
        "from  Nystrom_method import nystroem,KronKernel\n",
        "# random list of molecules \n",
        "kM = 3000 # number of molecule to compute nystrom\n",
        "rM = 1000 # final dimension of features\n",
        "I = np.random.permutation(nM)\n",
        "I = I[:kM]"
      ]
    },
    {
      "cell_type": "code",
      "execution_count": 17,
      "metadata": {},
      "outputs": [],
      "source": [
        "# compute Tanimoto kernel \n",
        "Km = ( MorganFP[I,:] @ MorganFP.T ) / ( 1024 - (1-MorganFP[I,:]) @ (1-MorganFP.T) )"
      ]
    },
    {
      "cell_type": "code",
      "execution_count": 18,
      "metadata": {},
      "outputs": [],
      "source": [
        "Xm,Lambda,LambdaC = nystroem(np.concatenate((Km[:,I], Km), axis=1),rM)"
      ]
    },
    {
      "attachments": {},
      "cell_type": "markdown",
      "metadata": {},
      "source": [
        "## liste des indices protéines/molécules avec que des 1"
      ]
    },
    {
      "cell_type": "code",
      "execution_count": 5,
      "metadata": {},
      "outputs": [
        {
          "name": "stdout",
          "output_type": "stream",
          "text": [
            "231964\n",
            "231964\n"
          ]
        }
      ],
      "source": [
        "# protein indices\n",
        "J = df_p['indfasta'].values\n",
        "print(len(J))\n",
        "# molecules indices\n",
        "I = df_p['indsmiles'].values\n",
        "print(len(I))"
      ]
    },
    {
      "attachments": {},
      "cell_type": "markdown",
      "metadata": {},
      "source": [
        "## train/test avec indices protéines/molécules et interactions balanced"
      ]
    },
    {
      "cell_type": "code",
      "execution_count": 8,
      "metadata": {},
      "outputs": [
        {
          "name": "stdout",
          "output_type": "stream",
          "text": [
            "371142\n"
          ]
        }
      ],
      "source": [
        "# load with pickle\n",
        "import pickle\n",
        "with open('data/train.data', 'rb') as f:\n",
        "        train = pickle.load(f)\n",
        "with open('data/test.data', 'rb') as f:\n",
        "        test = pickle.load(f)\n",
        "\n",
        "print(len(train))"
      ]
    },
    {
      "cell_type": "code",
      "execution_count": 9,
      "metadata": {},
      "outputs": [
        {
          "data": {
            "text/plain": [
              "array([[   145, 124184,      1],\n",
              "       [   145, 125039,      1],\n",
              "       [   145,  48320,      1],\n",
              "       ...,\n",
              "       [  1643, 150939,      0],\n",
              "       [  1647, 152928,      1],\n",
              "       [  1647, 126691,      0]])"
            ]
          },
          "execution_count": 9,
          "metadata": {},
          "output_type": "execute_result"
        }
      ],
      "source": [
        "# en premier l'indice de la protéine, puis l'indice du ligand puis l'interaction\n",
        "train"
      ]
    },
    {
      "cell_type": "code",
      "execution_count": 20,
      "metadata": {},
      "outputs": [
        {
          "name": "stdout",
          "output_type": "stream",
          "text": [
            "train (366418, 3)\n",
            "test (91606, 3)\n",
            "train (366418, 3)\n",
            "test (91606, 3)\n",
            "train (366420, 3)\n",
            "test (91604, 3)\n",
            "train (366420, 3)\n",
            "test (91604, 3)\n",
            "train (366420, 3)\n",
            "test (91604, 3)\n",
            "Train/test datasets prepared.\n"
          ]
        }
      ],
      "source": [
        "from utils import make_train_test\n",
        "all_train_interactions_arr, all_test_interactions_arr = make_train_test(df,5,1)"
      ]
    },
    {
      "cell_type": "code",
      "execution_count": 21,
      "metadata": {},
      "outputs": [],
      "source": [
        "with open('data/CC_train_arr.data', 'wb') as f:\n",
        "    pickle.dump(all_train_interactions_arr, f)\n",
        "with open('data/CC_test_arr.data', 'wb') as f:\n",
        "    pickle.dump(all_test_interactions_arr, f)"
      ]
    },
    {
      "cell_type": "code",
      "execution_count": 5,
      "metadata": {},
      "outputs": [
        {
          "name": "stdout",
          "output_type": "stream",
          "text": [
            "train (366418, 3)\n",
            "test (91606, 3)\n",
            "train (366418, 3)\n",
            "test (91606, 3)\n",
            "train (366420, 3)\n",
            "test (91604, 3)\n",
            "train (366420, 3)\n",
            "test (91604, 3)\n",
            "train (366420, 3)\n",
            "test (91604, 3)\n",
            "Train/test datasets prepared.\n"
          ]
        }
      ],
      "source": [
        "from utils import make_train_test_prot_orphan\n",
        "\n",
        "all_train_interactions_arr, all_test_interactions_arr = make_train_test_prot_orphan(df,5)"
      ]
    },
    {
      "cell_type": "code",
      "execution_count": 6,
      "metadata": {},
      "outputs": [
        {
          "name": "stdout",
          "output_type": "stream",
          "text": [
            "train (366418, 3)\n",
            "test (91606, 3)\n",
            "train (366418, 3)\n",
            "test (91606, 3)\n",
            "train (366420, 3)\n",
            "test (91604, 3)\n",
            "train (366420, 3)\n",
            "test (91604, 3)\n",
            "train (366420, 3)\n",
            "test (91604, 3)\n",
            "Train/test datasets prepared.\n"
          ]
        }
      ],
      "source": [
        "from utils import make_train_test_mol_orphan\n",
        "\n",
        "all_train_interactions_arr, all_test_interactions_arr = make_train_test_mol_orphan(df,5)"
      ]
    },
    {
      "cell_type": "code",
      "execution_count": 3,
      "metadata": {},
      "outputs": [
        {
          "name": "stdout",
          "output_type": "stream",
          "text": [
            "The autoreload extension is already loaded. To reload it, use:\n",
            "  %reload_ext autoreload\n",
            "train (184470, 3)\n",
            "test (36376, 3)\n",
            "train (202894, 3)\n",
            "test (30838, 3)\n",
            "train (195680, 3)\n",
            "test (32855, 3)\n",
            "train (192080, 3)\n",
            "test (33824, 3)\n",
            "train (186702, 3)\n",
            "test (35373, 3)\n",
            "Train/test datasets prepared.\n"
          ]
        }
      ],
      "source": [
        "%load_ext autoreload\n",
        "%autoreload 2\n",
        "\n",
        "import utils\n",
        "from utils import make_train_test_prot_mol_orphan\n",
        "\n",
        "all_train_interactions_arr, all_test_interactions_arr = make_train_test_prot_mol_orphan(df,5)"
      ]
    },
    {
      "cell_type": "code",
      "execution_count": 4,
      "metadata": {},
      "outputs": [
        {
          "ename": "NameError",
          "evalue": "name 'pickle' is not defined",
          "output_type": "error",
          "traceback": [
            "\u001b[0;31m---------------------------------------------------------------------------\u001b[0m",
            "\u001b[0;31mNameError\u001b[0m                                 Traceback (most recent call last)",
            "\u001b[1;32m/Users/gguichaoua/Dropbox/gwenn/these/TNBC/chemogenomic-git/Datas.ipynb Cellule 23\u001b[0m in \u001b[0;36m<cell line: 1>\u001b[0;34m()\u001b[0m\n\u001b[1;32m      <a href='vscode-notebook-cell:/Users/gguichaoua/Dropbox/gwenn/these/TNBC/chemogenomic-git/Datas.ipynb#X34sZmlsZQ%3D%3D?line=0'>1</a>\u001b[0m \u001b[39mwith\u001b[39;00m \u001b[39mopen\u001b[39m(\u001b[39m'\u001b[39m\u001b[39mdata/CC/train_arr_prot_mol_orphan.data\u001b[39m\u001b[39m'\u001b[39m, \u001b[39m'\u001b[39m\u001b[39mwb\u001b[39m\u001b[39m'\u001b[39m) \u001b[39mas\u001b[39;00m f:\n\u001b[0;32m----> <a href='vscode-notebook-cell:/Users/gguichaoua/Dropbox/gwenn/these/TNBC/chemogenomic-git/Datas.ipynb#X34sZmlsZQ%3D%3D?line=1'>2</a>\u001b[0m     pickle\u001b[39m.\u001b[39mdump(all_train_interactions_arr, f)\n\u001b[1;32m      <a href='vscode-notebook-cell:/Users/gguichaoua/Dropbox/gwenn/these/TNBC/chemogenomic-git/Datas.ipynb#X34sZmlsZQ%3D%3D?line=2'>3</a>\u001b[0m \u001b[39mwith\u001b[39;00m \u001b[39mopen\u001b[39m(\u001b[39m'\u001b[39m\u001b[39mdata/CC/test_arr_prot_mol_orphan.data\u001b[39m\u001b[39m'\u001b[39m, \u001b[39m'\u001b[39m\u001b[39mwb\u001b[39m\u001b[39m'\u001b[39m) \u001b[39mas\u001b[39;00m f:\n\u001b[1;32m      <a href='vscode-notebook-cell:/Users/gguichaoua/Dropbox/gwenn/these/TNBC/chemogenomic-git/Datas.ipynb#X34sZmlsZQ%3D%3D?line=3'>4</a>\u001b[0m     pickle\u001b[39m.\u001b[39mdump(all_test_interactions_arr, f)\n",
            "\u001b[0;31mNameError\u001b[0m: name 'pickle' is not defined"
          ]
        }
      ],
      "source": [
        "with open('data/CC/train_arr_prot_mol_orphan.data', 'wb') as f:\n",
        "    pickle.dump(all_train_interactions_arr, f)\n",
        "with open('data/CC/test_arr_prot_mol_orphan.data', 'wb') as f:\n",
        "    pickle.dump(all_test_interactions_arr, f)"
      ]
    },
    {
      "cell_type": "code",
      "execution_count": 12,
      "metadata": {},
      "outputs": [
        {
          "ename": "NameError",
          "evalue": "name 'train' is not defined",
          "output_type": "error",
          "traceback": [
            "\u001b[0;31m---------------------------------------------------------------------------\u001b[0m",
            "\u001b[0;31mNameError\u001b[0m                                 Traceback (most recent call last)",
            "\u001b[1;32m/Users/gguichaoua/Dropbox/gwenn/these/TNBC/chemogenomic-git/Datas.ipynb Cellule 23\u001b[0m in \u001b[0;36m<cell line: 1>\u001b[0;34m()\u001b[0m\n\u001b[0;32m----> <a href='vscode-notebook-cell:/Users/gguichaoua/Dropbox/gwenn/these/TNBC/chemogenomic-git/Datas.ipynb#X31sZmlsZQ%3D%3D?line=0'>1</a>\u001b[0m S_train \u001b[39m=\u001b[39m \u001b[39mset\u001b[39m(\u001b[39mmap\u001b[39m(\u001b[39mtuple\u001b[39m, train))\n\u001b[1;32m      <a href='vscode-notebook-cell:/Users/gguichaoua/Dropbox/gwenn/these/TNBC/chemogenomic-git/Datas.ipynb#X31sZmlsZQ%3D%3D?line=1'>2</a>\u001b[0m S_test \u001b[39m=\u001b[39m \u001b[39mset\u001b[39m(\u001b[39mmap\u001b[39m(\u001b[39mtuple\u001b[39m, test))\n\u001b[1;32m      <a href='vscode-notebook-cell:/Users/gguichaoua/Dropbox/gwenn/these/TNBC/chemogenomic-git/Datas.ipynb#X31sZmlsZQ%3D%3D?line=2'>3</a>\u001b[0m S_train\u001b[39m.\u001b[39mintersection(S_test)\n",
            "\u001b[0;31mNameError\u001b[0m: name 'train' is not defined"
          ]
        }
      ],
      "source": [
        "S_train = set(map(tuple, train))\n",
        "S_test = set(map(tuple, test))\n",
        "S_train.intersection(S_test)"
      ]
    },
    {
      "cell_type": "code",
      "execution_count": null,
      "metadata": {},
      "outputs": [],
      "source": [
        "for elt in test:\n",
        "    for x in train:\n",
        "        if elt[0]==x[0]:\n",
        "            print(elt,x)"
      ]
    },
    {
      "cell_type": "code",
      "execution_count": null,
      "metadata": {},
      "outputs": [],
      "source": [
        "for elt in test:\n",
        "    for x in train:\n",
        "        if elt[1]==x[1]:\n",
        "            print(elt,x)"
      ]
    }
  ],
  "metadata": {
    "colab": {
      "provenance": []
    },
    "kernelspec": {
      "display_name": "Python 3",
      "name": "python3"
    },
    "language_info": {
      "codemirror_mode": {
        "name": "ipython",
        "version": 3
      },
      "file_extension": ".py",
      "mimetype": "text/x-python",
      "name": "python",
      "nbconvert_exporter": "python",
      "pygments_lexer": "ipython3",
      "version": "3.7.12"
    }
  },
  "nbformat": 4,
  "nbformat_minor": 0
}

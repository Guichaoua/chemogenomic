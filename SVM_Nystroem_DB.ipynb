{
  "cells": [
    {
      "cell_type": "code",
      "execution_count": 1,
      "metadata": {
        "colab": {
          "base_uri": "https://localhost:8080/"
        },
        "id": "mOmX08VBb83O",
        "outputId": "7b016000-7ac1-4f2c-bacf-5d6fa7a52e29"
      },
      "outputs": [
        {
          "output_type": "stream",
          "name": "stdout",
          "text": [
            "cuda:0\n"
          ]
        }
      ],
      "source": [
        "%load_ext autoreload\n",
        "%autoreload 2\n",
        "import torch\n",
        "import torch.optim as optim\n",
        "import matplotlib.pyplot as plt\n",
        "import numpy as np\n",
        "from sklearn import svm\n",
        "import time \n",
        "\n",
        "device = torch.device(\"cuda:0\" if torch.cuda.is_available() else \"cpu\")\n",
        "device_cpu = torch.device(\"cpu\")\n",
        "device_cpu = device\n",
        "print( device )\n",
        "\n",
        "mytype = torch.float16 # to save memory (only on GPU)\n",
        "mytype = torch.float32\n"
      ]
    },
    {
      "cell_type": "code",
      "execution_count": 2,
      "metadata": {
        "colab": {
          "base_uri": "https://localhost:8080/"
        },
        "id": "i14SEuG-gpif",
        "outputId": "f080c139-6edd-429c-9498-c879cd522134"
      },
      "outputs": [
        {
          "output_type": "stream",
          "name": "stdout",
          "text": [
            "Looking in indexes: https://pypi.org/simple, https://us-python.pkg.dev/colab-wheels/public/simple/\n",
            "Collecting rdkit\n",
            "  Downloading rdkit-2022.9.5-cp39-cp39-manylinux_2_17_x86_64.manylinux2014_x86_64.whl (29.4 MB)\n",
            "\u001b[2K     \u001b[90m━━━━━━━━━━━━━━━━━━━━━━━━━━━━━━━━━━━━━━━━\u001b[0m \u001b[32m29.4/29.4 MB\u001b[0m \u001b[31m34.2 MB/s\u001b[0m eta \u001b[36m0:00:00\u001b[0m\n",
            "\u001b[?25hRequirement already satisfied: numpy in /usr/local/lib/python3.9/dist-packages (from rdkit) (1.22.4)\n",
            "Requirement already satisfied: Pillow in /usr/local/lib/python3.9/dist-packages (from rdkit) (8.4.0)\n",
            "Installing collected packages: rdkit\n",
            "Successfully installed rdkit-2022.9.5\n"
          ]
        }
      ],
      "source": [
        "!pip install rdkit"
      ]
    },
    {
      "cell_type": "markdown",
      "metadata": {
        "id": "Ikcs2o-RgW7Y"
      },
      "source": [
        "# Download the data from a GitHub repo."
      ]
    },
    {
      "cell_type": "code",
      "execution_count": 3,
      "metadata": {
        "id": "rC8IgvrPc2Ic"
      },
      "outputs": [],
      "source": [
        "!mkdir data/\n",
        "!wget -q https://github.com/Guichaoua/chemogenomic/raw/main/data/drugbank_K_prot.data\n",
        "!mv drugbank_K_prot.data data/\n",
        "!wget -q https://github.com/Guichaoua/chemogenomic/raw/main/data/drugbank.csv.zip\n",
        "!mv drugbank.csv.zip data/\n",
        "!wget -q https://github.com/Guichaoua/chemogenomic/raw/main/data/drugbank_train_arr.data\n",
        "!mv drugbank_train_arr.data data/\n",
        "!wget -q https://github.com/Guichaoua/chemogenomic/raw/main/data/drugbank_test_arr.data\n",
        "!mv drugbank_test_arr.data data/"
      ]
    },
    {
      "cell_type": "code",
      "execution_count": 4,
      "metadata": {
        "colab": {
          "base_uri": "https://localhost:8080/",
          "height": 250
        },
        "id": "3JwwqqaKVYNC",
        "outputId": "1f016307-bec9-4a6d-9476-2daa83be6933"
      },
      "outputs": [
        {
          "output_type": "execute_result",
          "data": {
            "text/plain": [
              "      uniprot     DBid                                             smiles  \\\n",
              "0  A0A024R8I1  DB00381  CCOC(=O)C1=C(COCCN)NC(C)=C(C1C1=CC=CC=C1Cl)C(=...   \n",
              "1  A0A024R8I1  DB00996                                NCC1(CC(O)=O)CCCCC1   \n",
              "2      A1L3X4  DB12965                                               [Ag]   \n",
              "3      A5X5Y0  DB00715  FC1=CC=C(C=C1)[C@@H]1CCNC[C@H]1COC1=CC2=C(OCO2...   \n",
              "4      A5X5Y0  DB09304              CN1CCC2=C(C1)C1=CC=CC=C1CC1=CC=CC=C21   \n",
              "\n",
              "   ind2mol                                              fasta  ind2prot  inter  \n",
              "0      213  MVRFGDELGGRYGGPGGGERARGGGAGGAGGPGPGGLQPGQRVLYK...         0      1  \n",
              "1      686  MVRFGDELGGRYGGPGGGERARGGGAGGAGGPGPGGLQPGQRVLYK...         0      1  \n",
              "2     4672  MDLSCSCATGGSCTCASSCKCKEYKCTSCKKNCCSCCPMGCAKCAQGCT         1      1  \n",
              "3      462  MEGSWFHRKRFSFYLLLGFLLQGRGVTFTINCSGFGQHGADPTALN...         2      1  \n",
              "4     4467  MEGSWFHRKRFSFYLLLGFLLQGRGVTFTINCSGFGQHGADPTALN...         2      1  "
            ],
            "text/html": [
              "\n",
              "  <div id=\"df-589d9b24-fe4a-4856-badb-6a4aae6d1a66\">\n",
              "    <div class=\"colab-df-container\">\n",
              "      <div>\n",
              "<style scoped>\n",
              "    .dataframe tbody tr th:only-of-type {\n",
              "        vertical-align: middle;\n",
              "    }\n",
              "\n",
              "    .dataframe tbody tr th {\n",
              "        vertical-align: top;\n",
              "    }\n",
              "\n",
              "    .dataframe thead th {\n",
              "        text-align: right;\n",
              "    }\n",
              "</style>\n",
              "<table border=\"1\" class=\"dataframe\">\n",
              "  <thead>\n",
              "    <tr style=\"text-align: right;\">\n",
              "      <th></th>\n",
              "      <th>uniprot</th>\n",
              "      <th>DBid</th>\n",
              "      <th>smiles</th>\n",
              "      <th>ind2mol</th>\n",
              "      <th>fasta</th>\n",
              "      <th>ind2prot</th>\n",
              "      <th>inter</th>\n",
              "    </tr>\n",
              "  </thead>\n",
              "  <tbody>\n",
              "    <tr>\n",
              "      <th>0</th>\n",
              "      <td>A0A024R8I1</td>\n",
              "      <td>DB00381</td>\n",
              "      <td>CCOC(=O)C1=C(COCCN)NC(C)=C(C1C1=CC=CC=C1Cl)C(=...</td>\n",
              "      <td>213</td>\n",
              "      <td>MVRFGDELGGRYGGPGGGERARGGGAGGAGGPGPGGLQPGQRVLYK...</td>\n",
              "      <td>0</td>\n",
              "      <td>1</td>\n",
              "    </tr>\n",
              "    <tr>\n",
              "      <th>1</th>\n",
              "      <td>A0A024R8I1</td>\n",
              "      <td>DB00996</td>\n",
              "      <td>NCC1(CC(O)=O)CCCCC1</td>\n",
              "      <td>686</td>\n",
              "      <td>MVRFGDELGGRYGGPGGGERARGGGAGGAGGPGPGGLQPGQRVLYK...</td>\n",
              "      <td>0</td>\n",
              "      <td>1</td>\n",
              "    </tr>\n",
              "    <tr>\n",
              "      <th>2</th>\n",
              "      <td>A1L3X4</td>\n",
              "      <td>DB12965</td>\n",
              "      <td>[Ag]</td>\n",
              "      <td>4672</td>\n",
              "      <td>MDLSCSCATGGSCTCASSCKCKEYKCTSCKKNCCSCCPMGCAKCAQGCT</td>\n",
              "      <td>1</td>\n",
              "      <td>1</td>\n",
              "    </tr>\n",
              "    <tr>\n",
              "      <th>3</th>\n",
              "      <td>A5X5Y0</td>\n",
              "      <td>DB00715</td>\n",
              "      <td>FC1=CC=C(C=C1)[C@@H]1CCNC[C@H]1COC1=CC2=C(OCO2...</td>\n",
              "      <td>462</td>\n",
              "      <td>MEGSWFHRKRFSFYLLLGFLLQGRGVTFTINCSGFGQHGADPTALN...</td>\n",
              "      <td>2</td>\n",
              "      <td>1</td>\n",
              "    </tr>\n",
              "    <tr>\n",
              "      <th>4</th>\n",
              "      <td>A5X5Y0</td>\n",
              "      <td>DB09304</td>\n",
              "      <td>CN1CCC2=C(C1)C1=CC=CC=C1CC1=CC=CC=C21</td>\n",
              "      <td>4467</td>\n",
              "      <td>MEGSWFHRKRFSFYLLLGFLLQGRGVTFTINCSGFGQHGADPTALN...</td>\n",
              "      <td>2</td>\n",
              "      <td>1</td>\n",
              "    </tr>\n",
              "  </tbody>\n",
              "</table>\n",
              "</div>\n",
              "      <button class=\"colab-df-convert\" onclick=\"convertToInteractive('df-589d9b24-fe4a-4856-badb-6a4aae6d1a66')\"\n",
              "              title=\"Convert this dataframe to an interactive table.\"\n",
              "              style=\"display:none;\">\n",
              "        \n",
              "  <svg xmlns=\"http://www.w3.org/2000/svg\" height=\"24px\"viewBox=\"0 0 24 24\"\n",
              "       width=\"24px\">\n",
              "    <path d=\"M0 0h24v24H0V0z\" fill=\"none\"/>\n",
              "    <path d=\"M18.56 5.44l.94 2.06.94-2.06 2.06-.94-2.06-.94-.94-2.06-.94 2.06-2.06.94zm-11 1L8.5 8.5l.94-2.06 2.06-.94-2.06-.94L8.5 2.5l-.94 2.06-2.06.94zm10 10l.94 2.06.94-2.06 2.06-.94-2.06-.94-.94-2.06-.94 2.06-2.06.94z\"/><path d=\"M17.41 7.96l-1.37-1.37c-.4-.4-.92-.59-1.43-.59-.52 0-1.04.2-1.43.59L10.3 9.45l-7.72 7.72c-.78.78-.78 2.05 0 2.83L4 21.41c.39.39.9.59 1.41.59.51 0 1.02-.2 1.41-.59l7.78-7.78 2.81-2.81c.8-.78.8-2.07 0-2.86zM5.41 20L4 18.59l7.72-7.72 1.47 1.35L5.41 20z\"/>\n",
              "  </svg>\n",
              "      </button>\n",
              "      \n",
              "  <style>\n",
              "    .colab-df-container {\n",
              "      display:flex;\n",
              "      flex-wrap:wrap;\n",
              "      gap: 12px;\n",
              "    }\n",
              "\n",
              "    .colab-df-convert {\n",
              "      background-color: #E8F0FE;\n",
              "      border: none;\n",
              "      border-radius: 50%;\n",
              "      cursor: pointer;\n",
              "      display: none;\n",
              "      fill: #1967D2;\n",
              "      height: 32px;\n",
              "      padding: 0 0 0 0;\n",
              "      width: 32px;\n",
              "    }\n",
              "\n",
              "    .colab-df-convert:hover {\n",
              "      background-color: #E2EBFA;\n",
              "      box-shadow: 0px 1px 2px rgba(60, 64, 67, 0.3), 0px 1px 3px 1px rgba(60, 64, 67, 0.15);\n",
              "      fill: #174EA6;\n",
              "    }\n",
              "\n",
              "    [theme=dark] .colab-df-convert {\n",
              "      background-color: #3B4455;\n",
              "      fill: #D2E3FC;\n",
              "    }\n",
              "\n",
              "    [theme=dark] .colab-df-convert:hover {\n",
              "      background-color: #434B5C;\n",
              "      box-shadow: 0px 1px 3px 1px rgba(0, 0, 0, 0.15);\n",
              "      filter: drop-shadow(0px 1px 2px rgba(0, 0, 0, 0.3));\n",
              "      fill: #FFFFFF;\n",
              "    }\n",
              "  </style>\n",
              "\n",
              "      <script>\n",
              "        const buttonEl =\n",
              "          document.querySelector('#df-589d9b24-fe4a-4856-badb-6a4aae6d1a66 button.colab-df-convert');\n",
              "        buttonEl.style.display =\n",
              "          google.colab.kernel.accessAllowed ? 'block' : 'none';\n",
              "\n",
              "        async function convertToInteractive(key) {\n",
              "          const element = document.querySelector('#df-589d9b24-fe4a-4856-badb-6a4aae6d1a66');\n",
              "          const dataTable =\n",
              "            await google.colab.kernel.invokeFunction('convertToInteractive',\n",
              "                                                     [key], {});\n",
              "          if (!dataTable) return;\n",
              "\n",
              "          const docLinkHtml = 'Like what you see? Visit the ' +\n",
              "            '<a target=\"_blank\" href=https://colab.research.google.com/notebooks/data_table.ipynb>data table notebook</a>'\n",
              "            + ' to learn more about interactive tables.';\n",
              "          element.innerHTML = '';\n",
              "          dataTable['output_type'] = 'display_data';\n",
              "          await google.colab.output.renderOutput(dataTable, element);\n",
              "          const docLink = document.createElement('div');\n",
              "          docLink.innerHTML = docLinkHtml;\n",
              "          element.appendChild(docLink);\n",
              "        }\n",
              "      </script>\n",
              "    </div>\n",
              "  </div>\n",
              "  "
            ]
          },
          "metadata": {},
          "execution_count": 4
        }
      ],
      "source": [
        "import pandas as pd\n",
        "import zipfile\n",
        "base_name = 'drugbank'\n",
        "zf = zipfile.ZipFile('data/' + base_name + '.csv.zip') \n",
        "df = pd.read_csv(zf.open(base_name + '.csv'),low_memory=False)\n",
        "df.head()"
      ]
    },
    {
      "cell_type": "code",
      "source": [
        "df_p = df[df['inter'] == True]\n",
        "#list of smiles strings\n",
        "dict_ind2smiles = df[['ind2mol','smiles']].set_index('ind2mol').to_dict()['smiles']\n",
        "# ordonner les indices suivant les ind2mol\n",
        "dict_ind2smiles = {k:dict_ind2smiles[k] for k in sorted(dict_ind2smiles.keys())}\n",
        "print(len(dict_ind2smiles))\n",
        "smiles = list(dict_ind2smiles.values())\n",
        "len(smiles)"
      ],
      "metadata": {
        "colab": {
          "base_uri": "https://localhost:8080/"
        },
        "id": "vgL62nM5TZLn",
        "outputId": "7af1830c-e826-4a3a-9232-fa1e32b72570"
      },
      "execution_count": 5,
      "outputs": [
        {
          "output_type": "stream",
          "name": "stdout",
          "text": [
            "4814\n"
          ]
        },
        {
          "output_type": "execute_result",
          "data": {
            "text/plain": [
              "4814"
            ]
          },
          "metadata": {},
          "execution_count": 5
        }
      ]
    },
    {
      "cell_type": "markdown",
      "metadata": {
        "id": "zJsGFqTPgt3e"
      },
      "source": [
        "# mol kernel\n",
        "Compute all Morgan Fingerprints."
      ]
    },
    {
      "cell_type": "code",
      "execution_count": 6,
      "metadata": {
        "colab": {
          "base_uri": "https://localhost:8080/"
        },
        "id": "xg84GZS4Z8cp",
        "outputId": "daefb384-5dbe-4fcf-b976-b2f23ebcf7ed"
      },
      "outputs": [
        {
          "output_type": "stream",
          "name": "stderr",
          "text": [
            " 45% (2194 of 4814) |#########           | Elapsed Time: 0:00:00 ETA:   0:00:00[07:40:37] Unusual charge on atom 0 number of radical electrons set to zero\n",
            "100% (4814 of 4814) |####################| Elapsed Time: 0:00:01 Time:  0:00:01\n"
          ]
        }
      ],
      "source": [
        "from rdkit import Chem\n",
        "from rdkit.Chem import AllChem\n",
        "import progressbar\n",
        "nM =  len(smiles)\n",
        "MorganFP = np.zeros((nM,1024))\n",
        "for i in progressbar.progressbar(range(nM)):\n",
        "    # Convert SMILES to RDKit molecule object\n",
        "    mol = Chem.MolFromSmiles(smiles[i])   \n",
        "    # Generate Morgan fingerprint of the molecule\n",
        "    fp = AllChem.GetMorganFingerprintAsBitVect(mol, 2, nBits=1024)\n",
        "    # Convert the fingerprint to a numpy array\n",
        "    arr = np.zeros((1,))\n",
        "    AllChem.DataStructs.ConvertToNumpyArray(fp, arr)\n",
        "    MorganFP[i,:] = arr\n",
        "\n",
        "MorganFP = MorganFP.astype(int)"
      ]
    },
    {
      "cell_type": "code",
      "execution_count": 7,
      "metadata": {
        "id": "GDPG6ovXep4l"
      },
      "outputs": [],
      "source": [
        "# go to GPU to compute the kernel\n",
        "MorganFP = torch.tensor(MorganFP, dtype=mytype).to(device)"
      ]
    },
    {
      "cell_type": "markdown",
      "metadata": {
        "id": "SyDPN5BvhtpS"
      },
      "source": [
        "Select a random subset $S$ of $k$ molecules."
      ]
    },
    {
      "cell_type": "code",
      "execution_count": 17,
      "metadata": {
        "id": "b-FxqSz6hmh5",
        "colab": {
          "base_uri": "https://localhost:8080/"
        },
        "outputId": "dd2f1570-1b44-4735-ec64-d03ba4001bb2"
      },
      "outputs": [
        {
          "output_type": "execute_result",
          "data": {
            "text/plain": [
              "array([   0,    1,    2, ..., 4811, 4812, 4813])"
            ]
          },
          "metadata": {},
          "execution_count": 17
        }
      ],
      "source": [
        "k = nM # number of molecule to compute nystrom\n",
        "rM = nM #2000 # final dimension of features for molecules\n",
        "S = np.random.permutation(nM)[:k]\n",
        "S = np.arange(0,nM,1)\n",
        "S"
      ]
    },
    {
      "cell_type": "markdown",
      "metadata": {
        "id": "H98qBenZfso3"
      },
      "source": [
        "Compute Tanimoto kernel between $S$ and all the molecules. When viewed as vectors of $\\{0,1\\}$ $x=1_A$, $y=1_B$, the formula is \n",
        "$$\n",
        "  K(x,y) = \\frac{|A \\cap B|}{|A \\cup B|}\n",
        "  = \\frac{|A \\cap B|}{1024 - |A^c \\cap B^c|}\n",
        "  = \\frac{\\langle x,y \\rangle}{1024 - \\langle 1-x,1-y \\rangle}\n",
        "$$"
      ]
    },
    {
      "cell_type": "code",
      "execution_count": 18,
      "metadata": {
        "colab": {
          "base_uri": "https://localhost:8080/"
        },
        "id": "9rHKuAbKb6xs",
        "outputId": "0c2e3adc-2feb-4c1d-ee32-1c4766c3337b"
      },
      "outputs": [
        {
          "output_type": "stream",
          "name": "stdout",
          "text": [
            "time: 3.3282 seconds\n"
          ]
        }
      ],
      "source": [
        "tic = time.perf_counter()\n",
        "K = ( MorganFP[S,:] @ MorganFP.T ) / ( 1024 - (1-MorganFP[S,:]) @ (1-MorganFP.T) )\n",
        "print(f\"time: {time.perf_counter() - tic:0.4f} seconds\")"
      ]
    },
    {
      "cell_type": "code",
      "source": [
        "K.shape"
      ],
      "metadata": {
        "colab": {
          "base_uri": "https://localhost:8080/"
        },
        "id": "ujoDZcZmh0nD",
        "outputId": "d77e5339-8af7-4c86-91f2-b71f9753424f"
      },
      "execution_count": 19,
      "outputs": [
        {
          "output_type": "execute_result",
          "data": {
            "text/plain": [
              "torch.Size([4814, 4814])"
            ]
          },
          "metadata": {},
          "execution_count": 19
        }
      ]
    },
    {
      "cell_type": "markdown",
      "metadata": {
        "id": "ILfFEg3qfudC"
      },
      "source": [
        "Apply Nyström"
      ]
    },
    {
      "cell_type": "code",
      "execution_count": 20,
      "metadata": {
        "colab": {
          "base_uri": "https://localhost:8080/",
          "height": 467
        },
        "id": "TwLAEV34epsa",
        "outputId": "492a5f2a-04ab-4f9f-ee93-911425b7ed98"
      },
      "outputs": [
        {
          "output_type": "stream",
          "name": "stdout",
          "text": [
            "time: 23.0376 seconds\n"
          ]
        },
        {
          "output_type": "execute_result",
          "data": {
            "text/plain": [
              "[<matplotlib.lines.Line2D at 0x7f9297670790>]"
            ]
          },
          "metadata": {},
          "execution_count": 20
        },
        {
          "output_type": "display_data",
          "data": {
            "text/plain": [
              "<Figure size 640x480 with 1 Axes>"
            ],
            "image/png": "[encoded data removed]"
          },
          "metadata": {}
        }
      ],
      "source": [
        "tic = time.perf_counter()\n",
        "U, Lambda, VT = torch.svd(K[:,S])\n",
        "epsi = 1e-8  # be careful when we divide by Lambda near 0\n",
        "X = K.T @ U[:,:rM] @ torch.diag(1./torch.sqrt(epsi + Lambda[:rM]))\n",
        "print(f\"time: {time.perf_counter() - tic:0.4f} seconds\")\n",
        "plt.plot(Lambda.cpu())"
      ]
    },
    {
      "cell_type": "code",
      "source": [
        "X.shape"
      ],
      "metadata": {
        "colab": {
          "base_uri": "https://localhost:8080/"
        },
        "id": "53VgPTCSiOHJ",
        "outputId": "f86057af-3185-4235-b4b3-f546e0ec75c7"
      },
      "execution_count": 21,
      "outputs": [
        {
          "output_type": "execute_result",
          "data": {
            "text/plain": [
              "torch.Size([4814, 4814])"
            ]
          },
          "metadata": {},
          "execution_count": 21
        }
      ]
    },
    {
      "cell_type": "markdown",
      "source": [
        "Normalise X"
      ],
      "metadata": {
        "id": "5aK21v18nci5"
      }
    },
    {
      "cell_type": "code",
      "source": [
        "X_c = X - X.mean(axis = 0)\n",
        "X_cn = X_c / torch.norm(X_c,dim = 1)[:,None] "
      ],
      "metadata": {
        "id": "TkEJbC0hLOy6"
      },
      "execution_count": 22,
      "outputs": []
    },
    {
      "cell_type": "markdown",
      "source": [
        "# prot kernel"
      ],
      "metadata": {
        "id": "j3S4lGo5n77C"
      }
    },
    {
      "cell_type": "markdown",
      "metadata": {
        "id": "tfT2Fjt0lIRb"
      },
      "source": [
        "Load protein kernel and compute its features $Y$."
      ]
    },
    {
      "cell_type": "code",
      "execution_count": 23,
      "metadata": {
        "colab": {
          "base_uri": "https://localhost:8080/",
          "height": 448
        },
        "id": "2YFdVoz2klUV",
        "outputId": "0fed9b23-e4c8-464f-abf8-d4578df2966a"
      },
      "outputs": [
        {
          "output_type": "execute_result",
          "data": {
            "text/plain": [
              "[<matplotlib.lines.Line2D at 0x7f9296558820>]"
            ]
          },
          "metadata": {},
          "execution_count": 23
        },
        {
          "output_type": "display_data",
          "data": {
            "text/plain": [
              "<Figure size 640x480 with 1 Axes>"
            ],
            "image/png": "[encoded data removed]"
          },
          "metadata": {}
        }
      ],
      "source": [
        "import pickle\n",
        "with open('data/drugbank_K_prot.data', 'rb') as f:\n",
        "  KP = pickle.load(f)\n",
        "KP = torch.tensor(KP, dtype=mytype).to(device)\n",
        "# computation of feature for protein (no nystrom, just PCA)\n",
        "rP = KP.shape[0]#min(KP.shape[0],500)\n",
        "U, Lambda, VT = torch.svd(KP)\n",
        "Y = U[:,:rP] @ torch.diag(torch.sqrt(Lambda[:rP]))\n",
        "torch.norm(KP - Y@Y.T)/torch.norm(KP)\n",
        "plt.plot(Lambda.cpu())"
      ]
    },
    {
      "cell_type": "markdown",
      "source": [
        "Normalise Y"
      ],
      "metadata": {
        "id": "VJsKcA2ZnrvB"
      }
    },
    {
      "cell_type": "code",
      "source": [
        "Y_c = Y - Y.mean(axis = 0)\n",
        "Y_cn = Y_c / torch.norm(Y_c,dim = 1)[:,None]"
      ],
      "metadata": {
        "id": "w-5pNXmBNDDg"
      },
      "execution_count": 24,
      "outputs": []
    },
    {
      "cell_type": "markdown",
      "source": [
        "# train"
      ],
      "metadata": {
        "id": "Q3XpBFstnvcX"
      }
    },
    {
      "cell_type": "code",
      "execution_count": 27,
      "metadata": {
        "colab": {
          "base_uri": "https://localhost:8080/"
        },
        "id": "pWz-8YyCkHPw",
        "outputId": "ccda6a7f-321f-4ebf-b805-67ac1d2d6455"
      },
      "outputs": [
        {
          "output_type": "stream",
          "name": "stdout",
          "text": [
            "5\n",
            "21944\n"
          ]
        }
      ],
      "source": [
        "# load with pickle\n",
        "import pickle\n",
        "with open('data/drugbank_train_arr.data', 'rb') as f:\n",
        "        train_arr = pickle.load(f)\n",
        "\n",
        "print(len(train_arr))\n",
        "print(len(train_arr[0]))\n",
        "i_arr = 0\n",
        "train = train_arr[i_arr]"
      ]
    },
    {
      "cell_type": "code",
      "execution_count": 28,
      "metadata": {
        "id": "Zk8KSwZYe0Ti",
        "colab": {
          "base_uri": "https://localhost:8080/"
        },
        "outputId": "f90ade23-2ce5-4201-d352-b5ecc03ab3df"
      },
      "outputs": [
        {
          "output_type": "stream",
          "name": "stdout",
          "text": [
            "21944\n"
          ]
        }
      ],
      "source": [
        "\n",
        "J0 = train[:,0] # proteins\n",
        "I0 = train[:,1] # molecules\n",
        "y = train[:,2] # labels\n",
        "print(len(I0))"
      ]
    },
    {
      "cell_type": "code",
      "execution_count": 29,
      "metadata": {
        "colab": {
          "base_uri": "https://localhost:8080/"
        },
        "id": "ssKRmxa3kaRI",
        "outputId": "9582c9fc-92f0-4c0a-a725-2715f179472a"
      },
      "outputs": [
        {
          "output_type": "stream",
          "name": "stdout",
          "text": [
            "21944\n"
          ]
        }
      ],
      "source": [
        "# sub-select those I and J within the loaded database\n",
        "I = I0[I0<nM]\n",
        "J = J0[I0<nM]\n",
        "y = y[I0<nM]\n",
        "I = torch.tensor(I, dtype=torch.long).to(device)\n",
        "J = torch.tensor(J, dtype=torch.long).to(device)\n",
        "y = torch.tensor( np.sign(y-.5) ).to(device)\n",
        "n = len(I)\n",
        "print(n)"
      ]
    },
    {
      "cell_type": "code",
      "execution_count": 30,
      "metadata": {
        "id": "mZjh6jyDlVAR"
      },
      "outputs": [],
      "source": [
        "# compute the features of the Kronecker kernel for the train\n",
        "XI, YJ = X_cn[I,:], Y_cn[J,:]\n",
        "def U(w): return torch.sum( (YJ@w) * XI, axis=1 )\n",
        "def U(w): return torch.sum( (Y_cn@w)[J,:] * XI, axis=1 ) # FAST\n",
        "def UT(z): return YJ.T @ ( z[:,None] * XI )  # TODO : modify this"
      ]
    },
    {
      "cell_type": "code",
      "execution_count": 31,
      "metadata": {
        "colab": {
          "base_uri": "https://localhost:8080/"
        },
        "id": "eUwh_zkyNvuT",
        "outputId": "ff4aabd6-26dc-4ffc-8c34-9fdfedb8a3e6"
      },
      "outputs": [
        {
          "output_type": "stream",
          "name": "stdout",
          "text": [
            "time: 0.1910 seconds\n",
            "time: 0.0319 seconds\n"
          ]
        }
      ],
      "source": [
        "# a comparison of 2 ways to apply YJ\n",
        "\n",
        "w = torch.randn(rP,rM).to(device)\n",
        "\n",
        "tic = time.perf_counter()\n",
        "z = torch.sum( (YJ@w) * XI, axis=1 )\n",
        "a = torch.norm(z).item()\n",
        "print(f\"time: {time.perf_counter() - tic:0.4f} seconds\")\n",
        "\n",
        "tic = time.perf_counter()\n",
        "z = torch.sum( (Y@w)[J,:] * XI, axis=1 )\n",
        "a = torch.norm(z).item()\n",
        "print(f\"time: {time.perf_counter() - tic:0.4f} seconds\")\n"
      ]
    },
    {
      "cell_type": "code",
      "execution_count": 32,
      "metadata": {
        "colab": {
          "base_uri": "https://localhost:8080/"
        },
        "id": "ZHA7QmN6nkr1",
        "outputId": "53992ff5-7486-4819-acf4-8ff412521b36"
      },
      "outputs": [
        {
          "output_type": "stream",
          "name": "stdout",
          "text": [
            "time: 0.0004 seconds\n",
            "time: 0.0380 seconds\n",
            "time: 0.0004 seconds\n"
          ]
        }
      ],
      "source": [
        "w = torch.randn(rP,rM).to(device)\n",
        "z = torch.randn(n).to(device)\n",
        "\n",
        "tic = time.perf_counter()\n",
        "z = U(w)\n",
        "print(f\"time: {time.perf_counter() - tic:0.4f} seconds\")\n",
        "\n",
        "tic = time.perf_counter()\n",
        "z = U(w)\n",
        "z[0].item()\n",
        "print(f\"time: {time.perf_counter() - tic:0.4f} seconds\")\n",
        "\n",
        "tic = time.perf_counter()\n",
        "w = UT(z)\n",
        "print(f\"time: {time.perf_counter() - tic:0.4f} seconds\")"
      ]
    },
    {
      "cell_type": "code",
      "execution_count": 33,
      "metadata": {
        "colab": {
          "base_uri": "https://localhost:8080/"
        },
        "id": "k1jP2skznrzM",
        "outputId": "2f95eeb9-8649-49f3-ac22-febcfd10ef0e"
      },
      "outputs": [
        {
          "output_type": "stream",
          "name": "stdout",
          "text": [
            "Thu Apr  6 07:45:06 2023       \n",
            "+-----------------------------------------------------------------------------+\n",
            "| NVIDIA-SMI 525.85.12    Driver Version: 525.85.12    CUDA Version: 12.0     |\n",
            "|-------------------------------+----------------------+----------------------+\n",
            "| GPU  Name        Persistence-M| Bus-Id        Disp.A | Volatile Uncorr. ECC |\n",
            "| Fan  Temp  Perf  Pwr:Usage/Cap|         Memory-Usage | GPU-Util  Compute M. |\n",
            "|                               |                      |               MIG M. |\n",
            "|===============================+======================+======================|\n",
            "|   0  Tesla T4            Off  | 00000000:00:04.0 Off |                    0 |\n",
            "| N/A   74C    P0    70W /  70W |   3111MiB / 15360MiB |     30%      Default |\n",
            "|                               |                      |                  N/A |\n",
            "+-------------------------------+----------------------+----------------------+\n",
            "                                                                               \n",
            "+-----------------------------------------------------------------------------+\n",
            "| Processes:                                                                  |\n",
            "|  GPU   GI   CI        PID   Type   Process name                  GPU Memory |\n",
            "|        ID   ID                                                   Usage      |\n",
            "|=============================================================================|\n",
            "+-----------------------------------------------------------------------------+\n"
          ]
        }
      ],
      "source": [
        "!nvidia-smi"
      ]
    },
    {
      "cell_type": "code",
      "execution_count": 34,
      "metadata": {
        "id": "8W37IMcYpmCw"
      },
      "outputs": [],
      "source": [
        "def Loss(u): return 1/n * torch.sum(torch.maximum(1+u,torch.tensor(0)))\n",
        "lamb = 1e-05\n",
        "def g(w,b): return Loss(-y * (U(w)+b)) + lamb/2 * (w**2).sum() "
      ]
    },
    {
      "cell_type": "code",
      "execution_count": 35,
      "metadata": {
        "colab": {
          "base_uri": "https://localhost:8080/"
        },
        "id": "l-s5i453gbxm",
        "outputId": "759938c1-f362-41ad-f555-49cf0d625e06"
      },
      "outputs": [
        {
          "output_type": "stream",
          "name": "stdout",
          "text": [
            "time: 7.1679 seconds\n",
            "tensor(0.1631, device='cuda:0', dtype=torch.float64, grad_fn=<AddBackward0>)\n"
          ]
        }
      ],
      "source": [
        "# L-BFGS\n",
        "def closure():\n",
        "    lbfgs.zero_grad()\n",
        "    objective = g(w_bfgs,b_bfgs)\n",
        "    objective.backward()\n",
        "    return objective\n",
        "\n",
        "w_bfgs = torch.randn(rP,rM).to(device)\n",
        "b_bfgs = torch.randn(1).to(device)\n",
        "w_bfgs.requires_grad = True\n",
        "b_bfgs.requires_grad = True\n",
        "\n",
        "lbfgs = optim.LBFGS([w_bfgs,b_bfgs],\n",
        "                    history_size=10,\n",
        "                    max_iter=4,\n",
        "                    line_search_fn=\"strong_wolfe\")\n",
        "niter = 20\n",
        "history_lbfgs = []\n",
        "tic = time.perf_counter()\n",
        "for i in range(niter):\n",
        "    history_lbfgs.append(g(w_bfgs,b_bfgs).item())\n",
        "    lbfgs.step(closure)\n",
        "print(f\"time: {time.perf_counter() - tic:0.4f} seconds\")\n",
        "print( g(w_bfgs,b_bfgs) )"
      ]
    },
    {
      "cell_type": "code",
      "execution_count": 36,
      "metadata": {
        "colab": {
          "base_uri": "https://localhost:8080/",
          "height": 430
        },
        "id": "hYdtIWezhykG",
        "outputId": "2cb8ce65-ecf0-46c4-f8fd-34d41b84443b"
      },
      "outputs": [
        {
          "output_type": "display_data",
          "data": {
            "text/plain": [
              "<Figure size 640x480 with 1 Axes>"
            ],
            "image/png": "[encoded data removed]"
          },
          "metadata": {}
        }
      ],
      "source": [
        "plt.plot( torch.tensor( history_lbfgs ), '.-' );"
      ]
    },
    {
      "cell_type": "code",
      "source": [
        "# prediction\n",
        "with open('data/drugbank_test_arr.data', 'rb') as f:\n",
        "        test_arr = pickle.load(f)\n",
        "test = test_arr[i_arr]\n",
        "J0_test = test[:,0] # proteins  #IP_test\n",
        "I0_test = test[:,1] # molecules IM_test\n",
        "y_test = test[:,2] # labels\n",
        "\n",
        "# sub-select those I and J within the loaded database\n",
        "I_test = I0_test[I0_test<nM]\n",
        "J_test = J0_test[I0_test<nM]\n",
        "y_test = y_test[I0_test<nM]\n",
        "I_test = torch.tensor(I_test, dtype=torch.long).to(device)\n",
        "J_test = torch.tensor(J_test, dtype=torch.long).to(device)\n",
        "y_test = torch.tensor( np.sign(y_test-.5) ).to(device)\n",
        "n_test = len(I_test)\n",
        "print(n_test)"
      ],
      "metadata": {
        "colab": {
          "base_uri": "https://localhost:8080/"
        },
        "id": "cdLgT8o6osY3",
        "outputId": "d896f0ce-e2f9-409d-8005-fe2b936a3b7f"
      },
      "execution_count": 37,
      "outputs": [
        {
          "output_type": "stream",
          "name": "stdout",
          "text": [
            "5488\n"
          ]
        }
      ]
    },
    {
      "cell_type": "markdown",
      "source": [
        "Test if no pairs in train and test"
      ],
      "metadata": {
        "id": "iotBh7Q1kj6j"
      }
    },
    {
      "cell_type": "code",
      "source": [
        "#I_test = I_test.type(torch.long)\n",
        "#J_test = J_test.type(torch.long)\n",
        "\n",
        "# compute the features of the Kronecker kernel\n",
        "XI_test = X_cn[I_test,:].to(device)\n",
        "YJ_test = Y_cn[J_test,:].to(device)\n",
        "print(XI_test.shape,YJ_test.shape)\n",
        "\n",
        "def U_test(w): \n",
        "  #w = w.reshape(rP,rM)\n",
        "  return torch.sum( (Y_cn@w)[J_test,:] * XI_test, axis=1 )\n",
        "\n",
        "pr_f = torch.sign( U_test(w_bfgs).detach() + b_bfgs.detach() )"
      ],
      "metadata": {
        "colab": {
          "base_uri": "https://localhost:8080/"
        },
        "id": "ImAOHUUTpGgV",
        "outputId": "b33329a0-2169-46a9-cd41-c76a8f440353"
      },
      "execution_count": 38,
      "outputs": [
        {
          "output_type": "stream",
          "name": "stdout",
          "text": [
            "torch.Size([5488, 4814]) torch.Size([5488, 2513])\n"
          ]
        }
      ]
    },
    {
      "cell_type": "code",
      "source": [
        "print(\"accuracy\", torch.sum( y_test == pr_f ) / len(y_test) )"
      ],
      "metadata": {
        "colab": {
          "base_uri": "https://localhost:8080/"
        },
        "id": "SU7PsFSgrD8u",
        "outputId": "d09abf1b-ff43-4a40-a78f-10240bf7b880"
      },
      "execution_count": 39,
      "outputs": [
        {
          "output_type": "stream",
          "name": "stdout",
          "text": [
            "accuracy tensor(0.8723, device='cuda:0')\n"
          ]
        }
      ]
    },
    {
      "cell_type": "markdown",
      "source": [
        "Plot accuracy in function of lambda"
      ],
      "metadata": {
        "id": "8Bi3j5rtsYyk"
      }
    },
    {
      "cell_type": "code",
      "source": [
        "# calculate accuraccy for differetn lmabda\n",
        "lambdas = np.logspace(-12, 3, num=16)\n",
        "accs = []\n",
        "for lamb in lambdas:\n",
        "  def g(w,b): return Loss(-y * (U(w)+b)) + lamb/2 * (w**2).sum() \n",
        "\n",
        "  # L-BFGS\n",
        "  def closure():\n",
        "      lbfgs.zero_grad()\n",
        "      objective = g(w_bfgs,b_bfgs)\n",
        "      objective.backward()\n",
        "      return objective\n",
        "\n",
        "  w_bfgs = torch.randn(rP,rM).to(device)\n",
        "  b_bfgs = torch.randn(1).to(device)\n",
        "  w_bfgs.requires_grad = True\n",
        "  b_bfgs.requires_grad = True\n",
        "\n",
        "  lbfgs = optim.LBFGS([w_bfgs,b_bfgs],\n",
        "                      history_size=10,\n",
        "                      max_iter=4,\n",
        "                      line_search_fn=\"strong_wolfe\")\n",
        "  niter = 20\n",
        "  history_lbfgs = []\n",
        "  tic = time.perf_counter()\n",
        "  for i in range(niter):\n",
        "      history_lbfgs.append(g(w_bfgs,b_bfgs).item())\n",
        "      lbfgs.step(closure)\n",
        "  print(f\"time: {time.perf_counter() - tic:0.4f} seconds\")\n",
        "  print( g(w_bfgs,b_bfgs) )\n",
        "\n",
        "  pr_f = torch.sign( U_test(w_bfgs).detach() + b_bfgs.detach() )\n",
        "  acc = torch.sum( y_test == pr_f ) / len(y_test)\n",
        "  accs.append(acc.item())\n",
        "  print(\"lambda=\",lamb,\"accuracy=\",acc.item())"
      ],
      "metadata": {
        "id": "cObqn232seZA",
        "colab": {
          "base_uri": "https://localhost:8080/"
        },
        "outputId": "3af93ea4-e21a-4201-f8a6-797c0009096a"
      },
      "execution_count": 65,
      "outputs": [
        {
          "output_type": "stream",
          "name": "stdout",
          "text": [
            "time: 7.1558 seconds\n",
            "tensor(0.0006, device='cuda:0', dtype=torch.float64, grad_fn=<AddBackward0>)\n",
            "lambda= 1e-12 accuracy= 0.8314504623413086\n",
            "time: 6.6117 seconds\n",
            "tensor(0.0006, device='cuda:0', dtype=torch.float64, grad_fn=<AddBackward0>)\n",
            "lambda= 1e-11 accuracy= 0.8369169235229492\n",
            "time: 6.7141 seconds\n",
            "tensor(0.0012, device='cuda:0', dtype=torch.float64, grad_fn=<AddBackward0>)\n",
            "lambda= 1e-10 accuracy= 0.8241618275642395\n",
            "time: 7.2595 seconds\n",
            "tensor(0.0068, device='cuda:0', dtype=torch.float64, grad_fn=<AddBackward0>)\n",
            "lambda= 1e-09 accuracy= 0.8268950581550598\n",
            "time: 7.2088 seconds\n",
            "tensor(0.0612, device='cuda:0', dtype=torch.float64, grad_fn=<AddBackward0>)\n",
            "lambda= 1e-08 accuracy= 0.8299927711486816\n",
            "time: 7.2321 seconds\n",
            "tensor(0.4038, device='cuda:0', dtype=torch.float64, grad_fn=<AddBackward0>)\n",
            "lambda= 1e-07 accuracy= 0.8378280401229858\n",
            "time: 7.3821 seconds\n",
            "tensor(0.3597, device='cuda:0', dtype=torch.float64, grad_fn=<AddBackward0>)\n",
            "lambda= 1e-06 accuracy= 0.8573250770568848\n",
            "time: 7.2946 seconds\n",
            "tensor(0.1624, device='cuda:0', dtype=torch.float64, grad_fn=<AddBackward0>)\n",
            "lambda= 1e-05 accuracy= 0.8748177886009216\n",
            "time: 7.2981 seconds\n",
            "tensor(0.5324, device='cuda:0', dtype=torch.float64, grad_fn=<AddBackward0>)\n",
            "lambda= 0.0001 accuracy= 0.7999271154403687\n",
            "time: 7.5737 seconds\n",
            "tensor(0.9168, device='cuda:0', dtype=torch.float64, grad_fn=<AddBackward0>)\n",
            "lambda= 0.001 accuracy= 0.5686953663825989\n",
            "time: 3.1697 seconds\n",
            "tensor(0.9916, device='cuda:0', dtype=torch.float64, grad_fn=<AddBackward0>)\n",
            "lambda= 0.01 accuracy= 0.5\n",
            "time: 2.2198 seconds\n",
            "tensor(0.9992, device='cuda:0', dtype=torch.float64, grad_fn=<AddBackward0>)\n",
            "lambda= 0.1 accuracy= 0.5\n",
            "time: 2.0886 seconds\n",
            "tensor(0.9999, device='cuda:0', dtype=torch.float64, grad_fn=<AddBackward0>)\n",
            "lambda= 1.0 accuracy= 0.5\n",
            "time: 2.3375 seconds\n",
            "tensor(1.0000, device='cuda:0', dtype=torch.float64, grad_fn=<AddBackward0>)\n",
            "lambda= 10.0 accuracy= 0.5\n",
            "time: 2.0508 seconds\n",
            "tensor(1.0000, device='cuda:0', dtype=torch.float64, grad_fn=<AddBackward0>)\n",
            "lambda= 100.0 accuracy= 0.5\n",
            "time: 2.9849 seconds\n",
            "tensor(1.0000, device='cuda:0', dtype=torch.float64, grad_fn=<AddBackward0>)\n",
            "lambda= 1000.0 accuracy= 0.5\n"
          ]
        }
      ]
    },
    {
      "cell_type": "code",
      "source": [
        "plt.plot(lambdas,accs)\n",
        "plt.xscale('log')\n",
        "plt.show()"
      ],
      "metadata": {
        "colab": {
          "base_uri": "https://localhost:8080/",
          "height": 434
        },
        "id": "-2H0tF-wxS-r",
        "outputId": "f956090b-1df4-4d83-a7d2-54b26a7743ba"
      },
      "execution_count": 66,
      "outputs": [
        {
          "output_type": "display_data",
          "data": {
            "text/plain": [
              "<Figure size 640x480 with 1 Axes>"
            ],
            "image/png": "[encoded data removed]"
          },
          "metadata": {}
        }
      ]
    },
    {
      "cell_type": "markdown",
      "source": [
        "# Platt scaling\n",
        "\n",
        "Once the weight $w$ have been computed, Platt scaling compute a probability using the formula\n",
        "$$\n",
        "    p_i := \\sigma(-y_i ( s \\langle x_i,w \\rangle + t ))\n",
        "    \\text{ where }\n",
        "    \\sigma(u)=\\frac{e^u}{1+e^u}\n",
        "$$\n",
        "where the scale $s$ (leven of confidence in some sense) and offset $t$ needs to be optimized. They are found by minimlizing the same energy as the logistic classification.\n",
        "$$\n",
        "    \\min_{s,t} E(s,t) := \\sum_i \\ell(-y_i ( s \\langle x_i,w \\rangle + t)) \n",
        "    = L( - y \\odot (s m  + t ) )\n",
        "$$\n",
        "where $\\ell(u) := \\log( 1 + e^u )$ and $m:=Xw$."
      ],
      "metadata": {
        "id": "XItkW-qtsoT3"
      }
    },
    {
      "cell_type": "code",
      "source": [
        "m = U_test(w_bfgs).detach() # do not forget to detach (do not backprop through it)!"
      ],
      "metadata": {
        "id": "sOtgAHyUsstp"
      },
      "execution_count": 40,
      "outputs": []
    },
    {
      "cell_type": "code",
      "source": [
        "def E(s,t): return 1/n * torch.sum( torch.log( 1+torch.exp(-y_test*(s*m+t)) ) )"
      ],
      "metadata": {
        "id": "T1LpbvnWsvJA"
      },
      "execution_count": 41,
      "outputs": []
    },
    {
      "cell_type": "code",
      "source": [
        "# L-BFGS\n",
        "def closure():\n",
        "    lbfgs.zero_grad()\n",
        "    objective = E(s,t)\n",
        "    objective.backward()\n",
        "    return objective\n",
        "s = torch.ones(1).to(device)\n",
        "t = torch.zeros(1).to(device)\n",
        "s.requires_grad = True\n",
        "t.requires_grad = True\n",
        "lbfgs = optim.LBFGS([s,t],\n",
        "                    history_size=10,\n",
        "                    max_iter=4,\n",
        "                    line_search_fn=\"strong_wolfe\")\n",
        "niter = 20\n",
        "history_lbfgs = []\n",
        "for i in range(niter):\n",
        "    history_lbfgs.append(E(s,t).item())\n",
        "    lbfgs.step(closure)"
      ],
      "metadata": {
        "id": "G5aqVFyzsxfO"
      },
      "execution_count": 42,
      "outputs": []
    },
    {
      "cell_type": "code",
      "source": [
        "plt.plot( history_lbfgs, '.-' ) "
      ],
      "metadata": {
        "colab": {
          "base_uri": "https://localhost:8080/",
          "height": 448
        },
        "id": "oVc8ouJQtTzU",
        "outputId": "82e14c18-2fe6-4666-9641-d77cf6b6bd0c"
      },
      "execution_count": 43,
      "outputs": [
        {
          "output_type": "execute_result",
          "data": {
            "text/plain": [
              "[<matplotlib.lines.Line2D at 0x7f9296416100>]"
            ]
          },
          "metadata": {},
          "execution_count": 43
        },
        {
          "output_type": "display_data",
          "data": {
            "text/plain": [
              "<Figure size 640x480 with 1 Axes>"
            ],
            "image/png": "[encoded data removed]"
          },
          "metadata": {}
        }
      ]
    },
    {
      "cell_type": "code",
      "source": [
        "print(E(s,t))"
      ],
      "metadata": {
        "colab": {
          "base_uri": "https://localhost:8080/"
        },
        "id": "Gz0ht6JotYWx",
        "outputId": "213b7991-a63e-4c3b-847a-1868db4ee6b3"
      },
      "execution_count": 44,
      "outputs": [
        {
          "output_type": "stream",
          "name": "stdout",
          "text": [
            "tensor(0.0796, device='cuda:0', dtype=torch.float64, grad_fn=<MulBackward0>)\n"
          ]
        }
      ]
    },
    {
      "cell_type": "code",
      "source": [
        "def sigma(u): return torch.exp(u) / (1+torch.exp(u))\n",
        "p = sigma( (s*m+t) ).detach()"
      ],
      "metadata": {
        "id": "nRBh0dK6tZ3v"
      },
      "execution_count": 45,
      "outputs": []
    },
    {
      "cell_type": "code",
      "source": [
        "plt.plot( m.cpu().numpy(), (y_test.cpu()+1)/2, 'ro' )\n",
        "\n",
        "plt.plot( m.cpu().numpy(), p.cpu().numpy(), '.' )"
      ],
      "metadata": {
        "colab": {
          "base_uri": "https://localhost:8080/",
          "height": 448
        },
        "id": "8HjQGAOLtcE6",
        "outputId": "864152fb-66b3-4383-d11c-5a5b1ecf0d24"
      },
      "execution_count": 46,
      "outputs": [
        {
          "output_type": "execute_result",
          "data": {
            "text/plain": [
              "[<matplotlib.lines.Line2D at 0x7f929638b700>]"
            ]
          },
          "metadata": {},
          "execution_count": 46
        },
        {
          "output_type": "display_data",
          "data": {
            "text/plain": [
              "<Figure size 640x480 with 1 Axes>"
            ],
            "image/png": "[encoded data removed]"
          },
          "metadata": {}
        }
      ]
    },
    {
      "cell_type": "code",
      "source": [
        "# plot distribution (density) of p when y_test=1\n",
        "plt.hist(p.cpu().numpy()[y_test.cpu().numpy()==1],bins=10,alpha=0.8);\n",
        "plt.hist(p.cpu().numpy()[y_test.cpu()==-1],bins=10,alpha=0.5);\n",
        "plt.show()"
      ],
      "metadata": {
        "colab": {
          "base_uri": "https://localhost:8080/",
          "height": 430
        },
        "id": "l09_xnLBQy99",
        "outputId": "884049f9-fab8-4a74-8ab4-4d78eac1897c"
      },
      "execution_count": 47,
      "outputs": [
        {
          "output_type": "display_data",
          "data": {
            "text/plain": [
              "<Figure size 640x480 with 1 Axes>"
            ],
            "image/png": "[encoded data removed]"
          },
          "metadata": {}
        }
      ]
    },
    {
      "cell_type": "markdown",
      "source": [
        "Roc AUC"
      ],
      "metadata": {
        "id": "FTtKlwsNiNbu"
      }
    },
    {
      "cell_type": "code",
      "source": [
        "# plot ROC curve et afficher roc auc\n",
        "from sklearn.metrics import roc_curve, auc\n",
        "fpr, tpr, thresholds = roc_curve(y_test.cpu().numpy(), p.cpu().numpy())\n",
        "roc_auc = auc(fpr, tpr)\n",
        "plt.figure()\n",
        "lw = 2\n",
        "\n",
        "plt.plot(fpr, tpr, color='darkorange',\n",
        "            lw=lw, label='ROC curve (area = %0.2f)' % roc_auc)\n",
        "plt.plot([0, 1], [0, 1], color='navy', lw=lw, linestyle='--')\n",
        "plt.xlim([0.0, 1.0])\n",
        "\n",
        "plt.ylim([0.0, 1.05])\n",
        "plt.xlabel('False Positive Rate')\n",
        "plt.ylabel('True Positive Rate')\n",
        "plt.title('Receiver operating characteristic')\n",
        "plt.legend(loc=\"lower right\")\n",
        "plt.show()"
      ],
      "metadata": {
        "colab": {
          "base_uri": "https://localhost:8080/",
          "height": 472
        },
        "id": "vY69KgxHi_JC",
        "outputId": "339b7590-494e-4bcc-b0a3-4fa653459f0d"
      },
      "execution_count": 56,
      "outputs": [
        {
          "output_type": "display_data",
          "data": {
            "text/plain": [
              "<Figure size 640x480 with 1 Axes>"
            ],
            "image/png": "[encoded data removed]"
          },
          "metadata": {}
        }
      ]
    },
    {
      "cell_type": "code",
      "source": [
        "# plot PR curve et afficher AUPR\n",
        "from sklearn.metrics import precision_recall_curve\n",
        "from sklearn.metrics import average_precision_score\n",
        "precision, recall, thresholds = precision_recall_curve(y_test.cpu().numpy(), p.cpu().numpy())\n",
        "average_precision = average_precision_score(y_test.cpu().numpy(), p.cpu().numpy())\n",
        "plt.figure()\n",
        "lw = 2\n",
        "plt.plot(recall, precision, color='darkorange',\n",
        "            lw=lw, label='PR curve (area = %0.2f)' % average_precision)\n",
        "plt.xlim([0.0, 1.0])\n",
        "plt.ylim([0.0, 1.05])\n",
        "plt.xlabel('Recall')\n",
        "plt.ylabel('Precision')\n",
        "plt.title('Precision-Recall curve')\n",
        "plt.legend(loc=\"lower right\")\n",
        "plt.show()"
      ],
      "metadata": {
        "colab": {
          "base_uri": "https://localhost:8080/",
          "height": 472
        },
        "id": "2CEgnU3qjeUW",
        "outputId": "1ea0d348-182d-40c9-e646-3f64a4f5f587"
      },
      "execution_count": 55,
      "outputs": [
        {
          "output_type": "display_data",
          "data": {
            "text/plain": [
              "<Figure size 640x480 with 1 Axes>"
            ],
            "image/png": "[encoded data removed]"
          },
          "metadata": {}
        }
      ]
    },
    {
      "cell_type": "code",
      "source": [
        "for elt in train:\n",
        "    for x in test:\n",
        "        if elt[0]==x[0] and elt[1]==x[1]:\n",
        "            print(elt)"
      ],
      "metadata": {
        "colab": {
          "base_uri": "https://localhost:8080/"
        },
        "id": "yxTg3VArjqrX",
        "outputId": "b9bfe7f7-d425-4bb6-e5d3-67f427f7c9a5"
      },
      "execution_count": 60,
      "outputs": [
        {
          "output_type": "stream",
          "name": "stdout",
          "text": [
            "5442\n",
            "5488\n"
          ]
        }
      ]
    },
    {
      "cell_type": "code",
      "source": [],
      "metadata": {
        "id": "24EFQBqAp5yT"
      },
      "execution_count": null,
      "outputs": []
    }
  ],
  "metadata": {
    "accelerator": "GPU",
    "colab": {
      "provenance": []
    },
    "gpuClass": "standard",
    "kernelspec": {
      "display_name": "Python 3",
      "name": "python3"
    },
    "language_info": {
      "name": "python"
    }
  },
  "nbformat": 4,
  "nbformat_minor": 0
}
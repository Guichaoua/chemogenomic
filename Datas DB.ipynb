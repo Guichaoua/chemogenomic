{
  "cells": [
    {
      "attachments": {},
      "cell_type": "markdown",
      "metadata": {},
      "source": [
        "# Classification using BFGS -- Pytorch version\n",
        "\n",
        "This notebook details the implementation of a generic ridge-regularized classification solved by direct gradient-based optimization (here quasi-newton). \n",
        "It is implemented in the kernel space, i.e. representing the weights over the space of points."
      ]
    },
    {
      "cell_type": "code",
      "execution_count": 2,
      "metadata": {
        "id": "ij0BFq1STLcv"
      },
      "outputs": [
        {
          "name": "stdout",
          "output_type": "stream",
          "text": [
            "cpu\n"
          ]
        }
      ],
      "source": [
        "%load_ext autoreload\n",
        "%autoreload 2\n",
        "import torch\n",
        "import torch.optim as optim\n",
        "import matplotlib.pyplot as plt\n",
        "import numpy as np\n",
        "from sklearn import svm\n",
        "\n",
        "device = torch.device(\"cuda:0\" if torch.cuda.is_available() else \"cpu\")\n",
        "device_cpu = torch.device(\"cpu\")\n",
        "device_cpu = device\n",
        "print( device )\n",
        "\n",
        "mytype = torch.float16 # to save memory (only on GPU)\n",
        "mytype = torch.float32"
      ]
    },
    {
      "attachments": {},
      "cell_type": "markdown",
      "metadata": {
        "id": "I_pKDD-zj7Fa"
      },
      "source": [
        "# Data"
      ]
    },
    {
      "cell_type": "code",
      "execution_count": 2,
      "metadata": {},
      "outputs": [],
      "source": [
        "%load_ext autoreload\n",
        "%autoreload 2\n",
        "\n",
        "import utils\n",
        "from utils import load_data"
      ]
    },
    {
      "cell_type": "code",
      "execution_count": 3,
      "metadata": {},
      "outputs": [
        {
          "name": "stdout",
          "output_type": "stream",
          "text": [
            "(13717, 7)\n"
          ]
        },
        {
          "data": {
            "text/html": [
              "<div>\n",
              "<style scoped>\n",
              "    .dataframe tbody tr th:only-of-type {\n",
              "        vertical-align: middle;\n",
              "    }\n",
              "\n",
              "    .dataframe tbody tr th {\n",
              "        vertical-align: top;\n",
              "    }\n",
              "\n",
              "    .dataframe thead th {\n",
              "        text-align: right;\n",
              "    }\n",
              "</style>\n",
              "<table border=\"1\" class=\"dataframe\">\n",
              "  <thead>\n",
              "    <tr style=\"text-align: right;\">\n",
              "      <th></th>\n",
              "      <th>uniprot</th>\n",
              "      <th>DBid</th>\n",
              "      <th>smiles</th>\n",
              "      <th>ind2mol</th>\n",
              "      <th>fasta</th>\n",
              "      <th>ind2prot</th>\n",
              "      <th>inter</th>\n",
              "    </tr>\n",
              "  </thead>\n",
              "  <tbody>\n",
              "    <tr>\n",
              "      <th>0</th>\n",
              "      <td>A0A024R8I1</td>\n",
              "      <td>DB00381</td>\n",
              "      <td>CCOC(=O)C1=C(COCCN)NC(C)=C(C1C1=CC=CC=C1Cl)C(=...</td>\n",
              "      <td>213</td>\n",
              "      <td>MVRFGDELGGRYGGPGGGERARGGGAGGAGGPGPGGLQPGQRVLYK...</td>\n",
              "      <td>0</td>\n",
              "      <td>1</td>\n",
              "    </tr>\n",
              "    <tr>\n",
              "      <th>1</th>\n",
              "      <td>A0A024R8I1</td>\n",
              "      <td>DB00996</td>\n",
              "      <td>NCC1(CC(O)=O)CCCCC1</td>\n",
              "      <td>686</td>\n",
              "      <td>MVRFGDELGGRYGGPGGGERARGGGAGGAGGPGPGGLQPGQRVLYK...</td>\n",
              "      <td>0</td>\n",
              "      <td>1</td>\n",
              "    </tr>\n",
              "    <tr>\n",
              "      <th>2</th>\n",
              "      <td>A1L3X4</td>\n",
              "      <td>DB12965</td>\n",
              "      <td>[Ag]</td>\n",
              "      <td>4672</td>\n",
              "      <td>MDLSCSCATGGSCTCASSCKCKEYKCTSCKKNCCSCCPMGCAKCAQGCT</td>\n",
              "      <td>1</td>\n",
              "      <td>1</td>\n",
              "    </tr>\n",
              "    <tr>\n",
              "      <th>3</th>\n",
              "      <td>A5X5Y0</td>\n",
              "      <td>DB00715</td>\n",
              "      <td>FC1=CC=C(C=C1)[C@@H]1CCNC[C@H]1COC1=CC2=C(OCO2...</td>\n",
              "      <td>462</td>\n",
              "      <td>MEGSWFHRKRFSFYLLLGFLLQGRGVTFTINCSGFGQHGADPTALN...</td>\n",
              "      <td>2</td>\n",
              "      <td>1</td>\n",
              "    </tr>\n",
              "    <tr>\n",
              "      <th>4</th>\n",
              "      <td>A5X5Y0</td>\n",
              "      <td>DB09304</td>\n",
              "      <td>CN1CCC2=C(C1)C1=CC=CC=C1CC1=CC=CC=C21</td>\n",
              "      <td>4467</td>\n",
              "      <td>MEGSWFHRKRFSFYLLLGFLLQGRGVTFTINCSGFGQHGADPTALN...</td>\n",
              "      <td>2</td>\n",
              "      <td>1</td>\n",
              "    </tr>\n",
              "  </tbody>\n",
              "</table>\n",
              "</div>"
            ],
            "text/plain": [
              "      uniprot     DBid                                             smiles  \\\n",
              "0  A0A024R8I1  DB00381  CCOC(=O)C1=C(COCCN)NC(C)=C(C1C1=CC=CC=C1Cl)C(=...   \n",
              "1  A0A024R8I1  DB00996                                NCC1(CC(O)=O)CCCCC1   \n",
              "2      A1L3X4  DB12965                                               [Ag]   \n",
              "3      A5X5Y0  DB00715  FC1=CC=C(C=C1)[C@@H]1CCNC[C@H]1COC1=CC2=C(OCO2...   \n",
              "4      A5X5Y0  DB09304              CN1CCC2=C(C1)C1=CC=CC=C1CC1=CC=CC=C21   \n",
              "\n",
              "   ind2mol                                              fasta  ind2prot  inter  \n",
              "0      213  MVRFGDELGGRYGGPGGGERARGGGAGGAGGPGPGGLQPGQRVLYK...         0      1  \n",
              "1      686  MVRFGDELGGRYGGPGGGERARGGGAGGAGGPGPGGLQPGQRVLYK...         0      1  \n",
              "2     4672  MDLSCSCATGGSCTCASSCKCKEYKCTSCKKNCCSCCPMGCAKCAQGCT         1      1  \n",
              "3      462  MEGSWFHRKRFSFYLLLGFLLQGRGVTFTINCSGFGQHGADPTALN...         2      1  \n",
              "4     4467  MEGSWFHRKRFSFYLLLGFLLQGRGVTFTINCSGFGQHGADPTALN...         2      1  "
            ]
          },
          "execution_count": 3,
          "metadata": {},
          "output_type": "execute_result"
        }
      ],
      "source": [
        "df_DB = load_data()\n",
        "print(df_DB.shape)\n",
        "df_DB.head()"
      ]
    },
    {
      "cell_type": "code",
      "execution_count": 8,
      "metadata": {},
      "outputs": [
        {
          "name": "stdout",
          "output_type": "stream",
          "text": [
            "      uniprot     DBid                                  smiles  ind2mol  \\\n",
            "12222  Q86XF0  DB01929  NC1=C(C2=C(N)N=C(N)N=C2C=C1)[Cl](=O)=O     1169   \n",
            "\n",
            "                                                   fasta  ind2prot  inter  \n",
            "12222  MFLLLNCIVAVSQNMGIGKNGDLPRPPLRNEFRYFQRMTTTSSVEG...      1989      1  \n"
          ]
        },
        {
          "data": {
            "text/html": [
              "<div>\n",
              "<style scoped>\n",
              "    .dataframe tbody tr th:only-of-type {\n",
              "        vertical-align: middle;\n",
              "    }\n",
              "\n",
              "    .dataframe tbody tr th {\n",
              "        vertical-align: top;\n",
              "    }\n",
              "\n",
              "    .dataframe thead th {\n",
              "        text-align: right;\n",
              "    }\n",
              "</style>\n",
              "<table border=\"1\" class=\"dataframe\">\n",
              "  <thead>\n",
              "    <tr style=\"text-align: right;\">\n",
              "      <th></th>\n",
              "      <th>uniprot</th>\n",
              "      <th>DBid</th>\n",
              "      <th>smiles</th>\n",
              "      <th>ind2mol</th>\n",
              "      <th>fasta</th>\n",
              "      <th>ind2prot</th>\n",
              "      <th>inter</th>\n",
              "    </tr>\n",
              "  </thead>\n",
              "  <tbody>\n",
              "  </tbody>\n",
              "</table>\n",
              "</div>"
            ],
            "text/plain": [
              "Empty DataFrame\n",
              "Columns: [uniprot, DBid, smiles, ind2mol, fasta, ind2prot, inter]\n",
              "Index: []"
            ]
          },
          "execution_count": 8,
          "metadata": {},
          "output_type": "execute_result"
        }
      ],
      "source": [
        "print(df_DB[df_DB[\"smiles\"] ==\"NC1=C(C2=C(N)N=C(N)N=C2C=C1)[Cl](=O)=O\"])\n",
        "# drop the molecule with the error in rdkit\n",
        "df_DB = df_DB.drop(12222)\n",
        "df_DB[df_DB[\"smiles\"] ==\"NC1=C(C2=C(N)N=C(N)N=C2C=C1)[Cl](=O)=O\"]\n"
      ]
    },
    {
      "cell_type": "code",
      "execution_count": 6,
      "metadata": {},
      "outputs": [
        {
          "data": {
            "text/plain": [
              "(13716, 7)"
            ]
          },
          "execution_count": 6,
          "metadata": {},
          "output_type": "execute_result"
        }
      ],
      "source": [
        "df_DB.shape"
      ]
    },
    {
      "cell_type": "code",
      "execution_count": 20,
      "metadata": {},
      "outputs": [
        {
          "data": {
            "text/plain": [
              "array([ True,  True,  True, ..., False, False, False])"
            ]
          },
          "execution_count": 20,
          "metadata": {},
          "output_type": "execute_result"
        }
      ],
      "source": [
        "# il faut renuméroter in2mol car il manque le numéro 1169\n",
        "np.sort(df_DB[\"ind2mol\"].unique()) == np.arange(0,df_DB[\"ind2mol\"].unique().shape[0])"
      ]
    },
    {
      "cell_type": "code",
      "execution_count": 22,
      "metadata": {},
      "outputs": [
        {
          "name": "stdout",
          "output_type": "stream",
          "text": [
            "nombre de smiles:  4813\n"
          ]
        }
      ],
      "source": [
        "# make dict smiles2ind and dict ind2smiles\n",
        "df_sm = df_DB[[\"smiles\"]].drop_duplicates().reset_index()\n",
        "#df_sm = df_DB[[\"standardized smiles\"]].drop_duplicates().reset_index()\n",
        "df_sm.drop(columns=[\"index\"],inplace=True)\n",
        "dict_ind2smiles = df_sm.to_dict()[\"smiles\"]\n",
        "#dict_ind2smiles = df_sm.to_dict()[\"standardized smiles\"]\n",
        "print(\"nombre de smiles: \",len(dict_ind2smiles))\n",
        "dict_smiles2ind = {v: k for k, v in dict_ind2smiles.items()}"
      ]
    },
    {
      "cell_type": "code",
      "execution_count": 25,
      "metadata": {},
      "outputs": [
        {
          "data": {
            "text/html": [
              "<div>\n",
              "<style scoped>\n",
              "    .dataframe tbody tr th:only-of-type {\n",
              "        vertical-align: middle;\n",
              "    }\n",
              "\n",
              "    .dataframe tbody tr th {\n",
              "        vertical-align: top;\n",
              "    }\n",
              "\n",
              "    .dataframe thead th {\n",
              "        text-align: right;\n",
              "    }\n",
              "</style>\n",
              "<table border=\"1\" class=\"dataframe\">\n",
              "  <thead>\n",
              "    <tr style=\"text-align: right;\">\n",
              "      <th></th>\n",
              "      <th>uniprot</th>\n",
              "      <th>DBid</th>\n",
              "      <th>smiles</th>\n",
              "      <th>ind2mol</th>\n",
              "      <th>fasta</th>\n",
              "      <th>ind2prot</th>\n",
              "      <th>inter</th>\n",
              "      <th>indsmiles</th>\n",
              "    </tr>\n",
              "  </thead>\n",
              "  <tbody>\n",
              "    <tr>\n",
              "      <th>0</th>\n",
              "      <td>A0A024R8I1</td>\n",
              "      <td>DB00381</td>\n",
              "      <td>CCOC(=O)C1=C(COCCN)NC(C)=C(C1C1=CC=CC=C1Cl)C(=...</td>\n",
              "      <td>213</td>\n",
              "      <td>MVRFGDELGGRYGGPGGGERARGGGAGGAGGPGPGGLQPGQRVLYK...</td>\n",
              "      <td>0</td>\n",
              "      <td>1</td>\n",
              "      <td>0</td>\n",
              "    </tr>\n",
              "    <tr>\n",
              "      <th>1</th>\n",
              "      <td>A0A024R8I1</td>\n",
              "      <td>DB00996</td>\n",
              "      <td>NCC1(CC(O)=O)CCCCC1</td>\n",
              "      <td>686</td>\n",
              "      <td>MVRFGDELGGRYGGPGGGERARGGGAGGAGGPGPGGLQPGQRVLYK...</td>\n",
              "      <td>0</td>\n",
              "      <td>1</td>\n",
              "      <td>1</td>\n",
              "    </tr>\n",
              "    <tr>\n",
              "      <th>2</th>\n",
              "      <td>A1L3X4</td>\n",
              "      <td>DB12965</td>\n",
              "      <td>[Ag]</td>\n",
              "      <td>4672</td>\n",
              "      <td>MDLSCSCATGGSCTCASSCKCKEYKCTSCKKNCCSCCPMGCAKCAQGCT</td>\n",
              "      <td>1</td>\n",
              "      <td>1</td>\n",
              "      <td>2</td>\n",
              "    </tr>\n",
              "    <tr>\n",
              "      <th>3</th>\n",
              "      <td>A5X5Y0</td>\n",
              "      <td>DB00715</td>\n",
              "      <td>FC1=CC=C(C=C1)[C@@H]1CCNC[C@H]1COC1=CC2=C(OCO2...</td>\n",
              "      <td>462</td>\n",
              "      <td>MEGSWFHRKRFSFYLLLGFLLQGRGVTFTINCSGFGQHGADPTALN...</td>\n",
              "      <td>2</td>\n",
              "      <td>1</td>\n",
              "      <td>3</td>\n",
              "    </tr>\n",
              "    <tr>\n",
              "      <th>4</th>\n",
              "      <td>A5X5Y0</td>\n",
              "      <td>DB09304</td>\n",
              "      <td>CN1CCC2=C(C1)C1=CC=CC=C1CC1=CC=CC=C21</td>\n",
              "      <td>4467</td>\n",
              "      <td>MEGSWFHRKRFSFYLLLGFLLQGRGVTFTINCSGFGQHGADPTALN...</td>\n",
              "      <td>2</td>\n",
              "      <td>1</td>\n",
              "      <td>4</td>\n",
              "    </tr>\n",
              "  </tbody>\n",
              "</table>\n",
              "</div>"
            ],
            "text/plain": [
              "      uniprot     DBid                                             smiles  \\\n",
              "0  A0A024R8I1  DB00381  CCOC(=O)C1=C(COCCN)NC(C)=C(C1C1=CC=CC=C1Cl)C(=...   \n",
              "1  A0A024R8I1  DB00996                                NCC1(CC(O)=O)CCCCC1   \n",
              "2      A1L3X4  DB12965                                               [Ag]   \n",
              "3      A5X5Y0  DB00715  FC1=CC=C(C=C1)[C@@H]1CCNC[C@H]1COC1=CC2=C(OCO2...   \n",
              "4      A5X5Y0  DB09304              CN1CCC2=C(C1)C1=CC=CC=C1CC1=CC=CC=C21   \n",
              "\n",
              "   ind2mol                                              fasta  ind2prot  \\\n",
              "0      213  MVRFGDELGGRYGGPGGGERARGGGAGGAGGPGPGGLQPGQRVLYK...         0   \n",
              "1      686  MVRFGDELGGRYGGPGGGERARGGGAGGAGGPGPGGLQPGQRVLYK...         0   \n",
              "2     4672  MDLSCSCATGGSCTCASSCKCKEYKCTSCKKNCCSCCPMGCAKCAQGCT         1   \n",
              "3      462  MEGSWFHRKRFSFYLLLGFLLQGRGVTFTINCSGFGQHGADPTALN...         2   \n",
              "4     4467  MEGSWFHRKRFSFYLLLGFLLQGRGVTFTINCSGFGQHGADPTALN...         2   \n",
              "\n",
              "   inter  indsmiles  \n",
              "0      1          0  \n",
              "1      1          1  \n",
              "2      1          2  \n",
              "3      1          3  \n",
              "4      1          4  "
            ]
          },
          "execution_count": 25,
          "metadata": {},
          "output_type": "execute_result"
        }
      ],
      "source": [
        "# add this number to df_DB\n",
        "df_DB[\"indsmiles\"] = df_DB[\"smiles\"].map(dict_smiles2ind)\n",
        "# we drop when indsmiles is Nan\n",
        "indsmiles_index_with_nan = df_DB.index[df_DB.loc[:,\"indsmiles\"].isnull()]\n",
        "df_DB = df_DB.drop(indsmiles_index_with_nan,0)\n",
        "df_DB[\"indsmiles\"] = df_DB[\"indsmiles\"].astype(int)\n",
        "df_DB.head()"
      ]
    },
    {
      "cell_type": "code",
      "execution_count": 21,
      "metadata": {},
      "outputs": [
        {
          "data": {
            "text/plain": [
              "array([ True,  True,  True, ...,  True,  True,  True])"
            ]
          },
          "execution_count": 21,
          "metadata": {},
          "output_type": "execute_result"
        }
      ],
      "source": [
        "# pas de pb pour les protéines\n",
        "np.sort(df_DB[\"ind2prot\"].unique()) == np.arange(0,df_DB[\"ind2prot\"].unique().shape[0])"
      ]
    },
    {
      "cell_type": "code",
      "execution_count": 26,
      "metadata": {},
      "outputs": [
        {
          "data": {
            "text/html": [
              "<div>\n",
              "<style scoped>\n",
              "    .dataframe tbody tr th:only-of-type {\n",
              "        vertical-align: middle;\n",
              "    }\n",
              "\n",
              "    .dataframe tbody tr th {\n",
              "        vertical-align: top;\n",
              "    }\n",
              "\n",
              "    .dataframe thead th {\n",
              "        text-align: right;\n",
              "    }\n",
              "</style>\n",
              "<table border=\"1\" class=\"dataframe\">\n",
              "  <thead>\n",
              "    <tr style=\"text-align: right;\">\n",
              "      <th></th>\n",
              "      <th>uniprot</th>\n",
              "      <th>DBid</th>\n",
              "      <th>smiles</th>\n",
              "      <th>fasta</th>\n",
              "      <th>ind2prot</th>\n",
              "      <th>inter</th>\n",
              "      <th>indsmiles</th>\n",
              "    </tr>\n",
              "  </thead>\n",
              "  <tbody>\n",
              "    <tr>\n",
              "      <th>0</th>\n",
              "      <td>A0A024R8I1</td>\n",
              "      <td>DB00381</td>\n",
              "      <td>CCOC(=O)C1=C(COCCN)NC(C)=C(C1C1=CC=CC=C1Cl)C(=...</td>\n",
              "      <td>MVRFGDELGGRYGGPGGGERARGGGAGGAGGPGPGGLQPGQRVLYK...</td>\n",
              "      <td>0</td>\n",
              "      <td>1</td>\n",
              "      <td>0</td>\n",
              "    </tr>\n",
              "    <tr>\n",
              "      <th>1</th>\n",
              "      <td>A0A024R8I1</td>\n",
              "      <td>DB00996</td>\n",
              "      <td>NCC1(CC(O)=O)CCCCC1</td>\n",
              "      <td>MVRFGDELGGRYGGPGGGERARGGGAGGAGGPGPGGLQPGQRVLYK...</td>\n",
              "      <td>0</td>\n",
              "      <td>1</td>\n",
              "      <td>1</td>\n",
              "    </tr>\n",
              "    <tr>\n",
              "      <th>2</th>\n",
              "      <td>A1L3X4</td>\n",
              "      <td>DB12965</td>\n",
              "      <td>[Ag]</td>\n",
              "      <td>MDLSCSCATGGSCTCASSCKCKEYKCTSCKKNCCSCCPMGCAKCAQGCT</td>\n",
              "      <td>1</td>\n",
              "      <td>1</td>\n",
              "      <td>2</td>\n",
              "    </tr>\n",
              "    <tr>\n",
              "      <th>3</th>\n",
              "      <td>A5X5Y0</td>\n",
              "      <td>DB00715</td>\n",
              "      <td>FC1=CC=C(C=C1)[C@@H]1CCNC[C@H]1COC1=CC2=C(OCO2...</td>\n",
              "      <td>MEGSWFHRKRFSFYLLLGFLLQGRGVTFTINCSGFGQHGADPTALN...</td>\n",
              "      <td>2</td>\n",
              "      <td>1</td>\n",
              "      <td>3</td>\n",
              "    </tr>\n",
              "    <tr>\n",
              "      <th>4</th>\n",
              "      <td>A5X5Y0</td>\n",
              "      <td>DB09304</td>\n",
              "      <td>CN1CCC2=C(C1)C1=CC=CC=C1CC1=CC=CC=C21</td>\n",
              "      <td>MEGSWFHRKRFSFYLLLGFLLQGRGVTFTINCSGFGQHGADPTALN...</td>\n",
              "      <td>2</td>\n",
              "      <td>1</td>\n",
              "      <td>4</td>\n",
              "    </tr>\n",
              "  </tbody>\n",
              "</table>\n",
              "</div>"
            ],
            "text/plain": [
              "      uniprot     DBid                                             smiles  \\\n",
              "0  A0A024R8I1  DB00381  CCOC(=O)C1=C(COCCN)NC(C)=C(C1C1=CC=CC=C1Cl)C(=...   \n",
              "1  A0A024R8I1  DB00996                                NCC1(CC(O)=O)CCCCC1   \n",
              "2      A1L3X4  DB12965                                               [Ag]   \n",
              "3      A5X5Y0  DB00715  FC1=CC=C(C=C1)[C@@H]1CCNC[C@H]1COC1=CC2=C(OCO2...   \n",
              "4      A5X5Y0  DB09304              CN1CCC2=C(C1)C1=CC=CC=C1CC1=CC=CC=C21   \n",
              "\n",
              "                                               fasta  ind2prot  inter  \\\n",
              "0  MVRFGDELGGRYGGPGGGERARGGGAGGAGGPGPGGLQPGQRVLYK...         0      1   \n",
              "1  MVRFGDELGGRYGGPGGGERARGGGAGGAGGPGPGGLQPGQRVLYK...         0      1   \n",
              "2  MDLSCSCATGGSCTCASSCKCKEYKCTSCKKNCCSCCPMGCAKCAQGCT         1      1   \n",
              "3  MEGSWFHRKRFSFYLLLGFLLQGRGVTFTINCSGFGQHGADPTALN...         2      1   \n",
              "4  MEGSWFHRKRFSFYLLLGFLLQGRGVTFTINCSGFGQHGADPTALN...         2      1   \n",
              "\n",
              "   indsmiles  \n",
              "0          0  \n",
              "1          1  \n",
              "2          2  \n",
              "3          3  \n",
              "4          4  "
            ]
          },
          "execution_count": 26,
          "metadata": {},
          "output_type": "execute_result"
        }
      ],
      "source": [
        "# on enleve la colonne ind2mol \n",
        "df_DB.drop(columns=[\"ind2mol\"],inplace=True)\n",
        "df_DB.head()"
      ]
    },
    {
      "cell_type": "code",
      "execution_count": 27,
      "metadata": {},
      "outputs": [
        {
          "data": {
            "text/html": [
              "<div>\n",
              "<style scoped>\n",
              "    .dataframe tbody tr th:only-of-type {\n",
              "        vertical-align: middle;\n",
              "    }\n",
              "\n",
              "    .dataframe tbody tr th {\n",
              "        vertical-align: top;\n",
              "    }\n",
              "\n",
              "    .dataframe thead th {\n",
              "        text-align: right;\n",
              "    }\n",
              "</style>\n",
              "<table border=\"1\" class=\"dataframe\">\n",
              "  <thead>\n",
              "    <tr style=\"text-align: right;\">\n",
              "      <th></th>\n",
              "      <th>uniprot</th>\n",
              "      <th>DBid</th>\n",
              "      <th>smiles</th>\n",
              "      <th>fasta</th>\n",
              "      <th>indfasta</th>\n",
              "      <th>inter</th>\n",
              "      <th>indsmiles</th>\n",
              "    </tr>\n",
              "  </thead>\n",
              "  <tbody>\n",
              "    <tr>\n",
              "      <th>0</th>\n",
              "      <td>A0A024R8I1</td>\n",
              "      <td>DB00381</td>\n",
              "      <td>CCOC(=O)C1=C(COCCN)NC(C)=C(C1C1=CC=CC=C1Cl)C(=...</td>\n",
              "      <td>MVRFGDELGGRYGGPGGGERARGGGAGGAGGPGPGGLQPGQRVLYK...</td>\n",
              "      <td>0</td>\n",
              "      <td>1</td>\n",
              "      <td>0</td>\n",
              "    </tr>\n",
              "    <tr>\n",
              "      <th>1</th>\n",
              "      <td>A0A024R8I1</td>\n",
              "      <td>DB00996</td>\n",
              "      <td>NCC1(CC(O)=O)CCCCC1</td>\n",
              "      <td>MVRFGDELGGRYGGPGGGERARGGGAGGAGGPGPGGLQPGQRVLYK...</td>\n",
              "      <td>0</td>\n",
              "      <td>1</td>\n",
              "      <td>1</td>\n",
              "    </tr>\n",
              "    <tr>\n",
              "      <th>2</th>\n",
              "      <td>A1L3X4</td>\n",
              "      <td>DB12965</td>\n",
              "      <td>[Ag]</td>\n",
              "      <td>MDLSCSCATGGSCTCASSCKCKEYKCTSCKKNCCSCCPMGCAKCAQGCT</td>\n",
              "      <td>1</td>\n",
              "      <td>1</td>\n",
              "      <td>2</td>\n",
              "    </tr>\n",
              "    <tr>\n",
              "      <th>3</th>\n",
              "      <td>A5X5Y0</td>\n",
              "      <td>DB00715</td>\n",
              "      <td>FC1=CC=C(C=C1)[C@@H]1CCNC[C@H]1COC1=CC2=C(OCO2...</td>\n",
              "      <td>MEGSWFHRKRFSFYLLLGFLLQGRGVTFTINCSGFGQHGADPTALN...</td>\n",
              "      <td>2</td>\n",
              "      <td>1</td>\n",
              "      <td>3</td>\n",
              "    </tr>\n",
              "    <tr>\n",
              "      <th>4</th>\n",
              "      <td>A5X5Y0</td>\n",
              "      <td>DB09304</td>\n",
              "      <td>CN1CCC2=C(C1)C1=CC=CC=C1CC1=CC=CC=C21</td>\n",
              "      <td>MEGSWFHRKRFSFYLLLGFLLQGRGVTFTINCSGFGQHGADPTALN...</td>\n",
              "      <td>2</td>\n",
              "      <td>1</td>\n",
              "      <td>4</td>\n",
              "    </tr>\n",
              "  </tbody>\n",
              "</table>\n",
              "</div>"
            ],
            "text/plain": [
              "      uniprot     DBid                                             smiles  \\\n",
              "0  A0A024R8I1  DB00381  CCOC(=O)C1=C(COCCN)NC(C)=C(C1C1=CC=CC=C1Cl)C(=...   \n",
              "1  A0A024R8I1  DB00996                                NCC1(CC(O)=O)CCCCC1   \n",
              "2      A1L3X4  DB12965                                               [Ag]   \n",
              "3      A5X5Y0  DB00715  FC1=CC=C(C=C1)[C@@H]1CCNC[C@H]1COC1=CC2=C(OCO2...   \n",
              "4      A5X5Y0  DB09304              CN1CCC2=C(C1)C1=CC=CC=C1CC1=CC=CC=C21   \n",
              "\n",
              "                                               fasta  indfasta  inter  \\\n",
              "0  MVRFGDELGGRYGGPGGGERARGGGAGGAGGPGPGGLQPGQRVLYK...         0      1   \n",
              "1  MVRFGDELGGRYGGPGGGERARGGGAGGAGGPGPGGLQPGQRVLYK...         0      1   \n",
              "2  MDLSCSCATGGSCTCASSCKCKEYKCTSCKKNCCSCCPMGCAKCAQGCT         1      1   \n",
              "3  MEGSWFHRKRFSFYLLLGFLLQGRGVTFTINCSGFGQHGADPTALN...         2      1   \n",
              "4  MEGSWFHRKRFSFYLLLGFLLQGRGVTFTINCSGFGQHGADPTALN...         2      1   \n",
              "\n",
              "   indsmiles  \n",
              "0          0  \n",
              "1          1  \n",
              "2          2  \n",
              "3          3  \n",
              "4          4  "
            ]
          },
          "execution_count": 27,
          "metadata": {},
          "output_type": "execute_result"
        }
      ],
      "source": [
        "# on renomme ind2prot en indfasta\n",
        "df_DB.rename(columns={\"ind2prot\":\"indfasta\"},inplace=True)\n",
        "df_DB.head()\n"
      ]
    },
    {
      "cell_type": "code",
      "execution_count": 28,
      "metadata": {},
      "outputs": [],
      "source": [
        "df_DB.to_csv('data/drugbank.csv', index=False)"
      ]
    },
    {
      "attachments": {},
      "cell_type": "markdown",
      "metadata": {},
      "source": [
        "## Kprot"
      ]
    },
    {
      "cell_type": "code",
      "execution_count": 26,
      "metadata": {},
      "outputs": [],
      "source": [
        "import pickle\n",
        "with open('data/drugbank_K_prot.data', 'rb') as f:\n",
        "        K_prot = pickle.load(f)"
      ]
    },
    {
      "cell_type": "code",
      "execution_count": 27,
      "metadata": {},
      "outputs": [
        {
          "data": {
            "text/plain": [
              "(2513, 2513)"
            ]
          },
          "execution_count": 27,
          "metadata": {},
          "output_type": "execute_result"
        }
      ],
      "source": [
        "K_prot.shape"
      ]
    },
    {
      "attachments": {},
      "cell_type": "markdown",
      "metadata": {},
      "source": [
        "## liste des 4814 smiles"
      ]
    },
    {
      "cell_type": "code",
      "execution_count": 28,
      "metadata": {},
      "outputs": [
        {
          "data": {
            "text/plain": [
              "4813"
            ]
          },
          "execution_count": 28,
          "metadata": {},
          "output_type": "execute_result"
        }
      ],
      "source": [
        "# same in zip format\n",
        "import pandas as pd\n",
        "import zipfile\n",
        "zf = zipfile.ZipFile('data/drugbank.csv.zip') \n",
        "df = pd.read_csv(zf.open('drugbank.csv'),low_memory=False)\n",
        "df_p = df[df['inter'] == True]\n",
        "#list of smiles strings\n",
        "smiles = df_p['smiles'].drop_duplicates().values\n",
        "len(smiles)"
      ]
    },
    {
      "cell_type": "code",
      "execution_count": 29,
      "metadata": {},
      "outputs": [
        {
          "name": "stderr",
          "output_type": "stream",
          "text": [
            "[22:22:02] Unusual charge on atom 0 number of radical electrons set to zero\n"
          ]
        }
      ],
      "source": [
        "from rdkit import Chem\n",
        "from rdkit.Chem import AllChem\n",
        "\n",
        "import numpy as np\n",
        "\n",
        "nM =  len(smiles)\n",
        "MorganFP = np.zeros((nM,1024))\n",
        "for i in range(nM):\n",
        "    # Convert SMILES to RDKit molecule object\n",
        "    mol = Chem.MolFromSmiles(smiles[i])    \n",
        "    # Generate Morgan fingerprint of the molecule\n",
        "    fp = AllChem.GetMorganFingerprintAsBitVect(mol, 2, nBits=1024)\n",
        "    # Convert the fingerprint to a numpy array\n",
        "    arr = np.zeros((1,))\n",
        "    AllChem.DataStructs.ConvertToNumpyArray(fp, arr)\n",
        "    MorganFP[i,:] = arr\n",
        "MorganFP = MorganFP.astype(int)"
      ]
    },
    {
      "cell_type": "code",
      "execution_count": 30,
      "metadata": {},
      "outputs": [],
      "source": [
        "import Nystrom_method\n",
        "from  Nystrom_method import nystroem,KronKernel\n",
        "# random list of molecules \n",
        "kM = 4814 # number of molecule to compute nystrom\n",
        "rM = 1000 # final dimension of features\n",
        "I = np.random.permutation(nM)\n",
        "I = I[:kM]"
      ]
    },
    {
      "cell_type": "code",
      "execution_count": 31,
      "metadata": {},
      "outputs": [],
      "source": [
        "# compute Tanimoto kernel \n",
        "Km = ( MorganFP[I,:] @ MorganFP.T ) / ( 1024 - (1-MorganFP[I,:]) @ (1-MorganFP.T) )"
      ]
    },
    {
      "cell_type": "code",
      "execution_count": 32,
      "metadata": {},
      "outputs": [],
      "source": [
        "Xm,Lambda,LambdaC = nystroem(np.concatenate((Km[:,I], Km), axis=1),rM)"
      ]
    },
    {
      "attachments": {},
      "cell_type": "markdown",
      "metadata": {},
      "source": [
        "## liste des indices protéines/molécules avec que des 1"
      ]
    },
    {
      "cell_type": "code",
      "execution_count": 34,
      "metadata": {},
      "outputs": [
        {
          "name": "stdout",
          "output_type": "stream",
          "text": [
            "13716\n",
            "13716\n"
          ]
        }
      ],
      "source": [
        "# protein indices\n",
        "J = df_p['ind2prot'].values\n",
        "print(len(J))\n",
        "# molecules indices\n",
        "I = df_p['ind2mol'].values\n",
        "print(len(I))"
      ]
    },
    {
      "attachments": {},
      "cell_type": "markdown",
      "metadata": {},
      "source": [
        "## train/test avec indices protéines/molécules et interactions balanced\n",
        "\n",
        "en premier l'indice de la protéine, puis l'indice du ligand puis l'interaction"
      ]
    },
    {
      "cell_type": "code",
      "execution_count": 7,
      "metadata": {},
      "outputs": [
        {
          "data": {
            "text/html": [
              "<div>\n",
              "<style scoped>\n",
              "    .dataframe tbody tr th:only-of-type {\n",
              "        vertical-align: middle;\n",
              "    }\n",
              "\n",
              "    .dataframe tbody tr th {\n",
              "        vertical-align: top;\n",
              "    }\n",
              "\n",
              "    .dataframe thead th {\n",
              "        text-align: right;\n",
              "    }\n",
              "</style>\n",
              "<table border=\"1\" class=\"dataframe\">\n",
              "  <thead>\n",
              "    <tr style=\"text-align: right;\">\n",
              "      <th></th>\n",
              "      <th>uniprot</th>\n",
              "      <th>DBid</th>\n",
              "      <th>smiles</th>\n",
              "      <th>indsmiles</th>\n",
              "      <th>fasta</th>\n",
              "      <th>indfasta</th>\n",
              "      <th>score</th>\n",
              "    </tr>\n",
              "  </thead>\n",
              "  <tbody>\n",
              "    <tr>\n",
              "      <th>0</th>\n",
              "      <td>A0A024R8I1</td>\n",
              "      <td>DB00381</td>\n",
              "      <td>CCOC(=O)C1=C(COCCN)NC(C)=C(C1C1=CC=CC=C1Cl)C(=...</td>\n",
              "      <td>213</td>\n",
              "      <td>MVRFGDELGGRYGGPGGGERARGGGAGGAGGPGPGGLQPGQRVLYK...</td>\n",
              "      <td>0</td>\n",
              "      <td>1</td>\n",
              "    </tr>\n",
              "    <tr>\n",
              "      <th>1</th>\n",
              "      <td>A0A024R8I1</td>\n",
              "      <td>DB00996</td>\n",
              "      <td>NCC1(CC(O)=O)CCCCC1</td>\n",
              "      <td>686</td>\n",
              "      <td>MVRFGDELGGRYGGPGGGERARGGGAGGAGGPGPGGLQPGQRVLYK...</td>\n",
              "      <td>0</td>\n",
              "      <td>1</td>\n",
              "    </tr>\n",
              "    <tr>\n",
              "      <th>2</th>\n",
              "      <td>A1L3X4</td>\n",
              "      <td>DB12965</td>\n",
              "      <td>[Ag]</td>\n",
              "      <td>4672</td>\n",
              "      <td>MDLSCSCATGGSCTCASSCKCKEYKCTSCKKNCCSCCPMGCAKCAQGCT</td>\n",
              "      <td>1</td>\n",
              "      <td>1</td>\n",
              "    </tr>\n",
              "    <tr>\n",
              "      <th>3</th>\n",
              "      <td>A5X5Y0</td>\n",
              "      <td>DB00715</td>\n",
              "      <td>FC1=CC=C(C=C1)[C@@H]1CCNC[C@H]1COC1=CC2=C(OCO2...</td>\n",
              "      <td>462</td>\n",
              "      <td>MEGSWFHRKRFSFYLLLGFLLQGRGVTFTINCSGFGQHGADPTALN...</td>\n",
              "      <td>2</td>\n",
              "      <td>1</td>\n",
              "    </tr>\n",
              "    <tr>\n",
              "      <th>4</th>\n",
              "      <td>A5X5Y0</td>\n",
              "      <td>DB09304</td>\n",
              "      <td>CN1CCC2=C(C1)C1=CC=CC=C1CC1=CC=CC=C21</td>\n",
              "      <td>4467</td>\n",
              "      <td>MEGSWFHRKRFSFYLLLGFLLQGRGVTFTINCSGFGQHGADPTALN...</td>\n",
              "      <td>2</td>\n",
              "      <td>1</td>\n",
              "    </tr>\n",
              "  </tbody>\n",
              "</table>\n",
              "</div>"
            ],
            "text/plain": [
              "      uniprot     DBid                                             smiles  \\\n",
              "0  A0A024R8I1  DB00381  CCOC(=O)C1=C(COCCN)NC(C)=C(C1C1=CC=CC=C1Cl)C(=...   \n",
              "1  A0A024R8I1  DB00996                                NCC1(CC(O)=O)CCCCC1   \n",
              "2      A1L3X4  DB12965                                               [Ag]   \n",
              "3      A5X5Y0  DB00715  FC1=CC=C(C=C1)[C@@H]1CCNC[C@H]1COC1=CC2=C(OCO2...   \n",
              "4      A5X5Y0  DB09304              CN1CCC2=C(C1)C1=CC=CC=C1CC1=CC=CC=C21   \n",
              "\n",
              "   indsmiles                                              fasta  indfasta  \\\n",
              "0        213  MVRFGDELGGRYGGPGGGERARGGGAGGAGGPGPGGLQPGQRVLYK...         0   \n",
              "1        686  MVRFGDELGGRYGGPGGGERARGGGAGGAGGPGPGGLQPGQRVLYK...         0   \n",
              "2       4672  MDLSCSCATGGSCTCASSCKCKEYKCTSCKKNCCSCCPMGCAKCAQGCT         1   \n",
              "3        462  MEGSWFHRKRFSFYLLLGFLLQGRGVTFTINCSGFGQHGADPTALN...         2   \n",
              "4       4467  MEGSWFHRKRFSFYLLLGFLLQGRGVTFTINCSGFGQHGADPTALN...         2   \n",
              "\n",
              "   score  \n",
              "0      1  \n",
              "1      1  \n",
              "2      1  \n",
              "3      1  \n",
              "4      1  "
            ]
          },
          "execution_count": 7,
          "metadata": {},
          "output_type": "execute_result"
        }
      ],
      "source": [
        "# change name of the column 'ind2prot' in 'indfasta' in df\n",
        "df = df_DB.rename(columns={'ind2prot': 'indfasta', 'ind2mol': 'indsmiles', 'inter': 'score'})\n",
        "df.head()"
      ]
    },
    {
      "cell_type": "code",
      "execution_count": 30,
      "metadata": {},
      "outputs": [
        {
          "name": "stdout",
          "output_type": "stream",
          "text": [
            "train (21944, 3)\n",
            "test (5488, 3)\n",
            "train (21946, 3)\n",
            "test (5486, 3)\n",
            "train (21946, 3)\n",
            "test (5486, 3)\n",
            "train (21946, 3)\n",
            "test (5486, 3)\n",
            "train (21946, 3)\n",
            "test (5486, 3)\n",
            "Train/test datasets prepared.\n"
          ]
        }
      ],
      "source": [
        "from utils import make_train_test\n",
        "\n",
        "all_train_interactions_arr, all_test_interactions_arr = make_train_test(df_name,5,1)"
      ]
    },
    {
      "cell_type": "code",
      "execution_count": 29,
      "metadata": {},
      "outputs": [
        {
          "name": "stdout",
          "output_type": "stream",
          "text": [
            "train (21946, 3)\n",
            "test (5488, 3)\n",
            "train (21946, 3)\n",
            "test (5488, 3)\n",
            "train (21948, 3)\n",
            "test (5486, 3)\n",
            "train (21948, 3)\n",
            "test (5486, 3)\n",
            "train (21948, 3)\n",
            "test (5486, 3)\n",
            "Train/test datasets prepared.\n"
          ]
        }
      ],
      "source": [
        "from utils import make_train_test_mol_orphan\n",
        "\n",
        "all_train_interactions_arr, all_test_interactions_arr = make_train_test_mol_orphan(df,5)"
      ]
    },
    {
      "cell_type": "code",
      "execution_count": 30,
      "metadata": {},
      "outputs": [
        {
          "name": "stdout",
          "output_type": "stream",
          "text": [
            "train (21946, 3)\n",
            "test (5488, 3)\n",
            "train (21946, 3)\n",
            "test (5488, 3)\n",
            "train (21948, 3)\n",
            "test (5486, 3)\n",
            "train (21948, 3)\n",
            "test (5486, 3)\n",
            "train (21948, 3)\n",
            "test (5486, 3)\n",
            "Train/test datasets prepared.\n"
          ]
        }
      ],
      "source": [
        "from utils import make_train_test_prot_orphan\n",
        "\n",
        "all_train_interactions_arr, all_test_interactions_arr = make_train_test_prot_orphan(df,5)"
      ]
    },
    {
      "attachments": {},
      "cell_type": "markdown",
      "metadata": {},
      "source": [
        "## test de l'algo de train/test"
      ]
    },
    {
      "cell_type": "code",
      "execution_count": 31,
      "metadata": {},
      "outputs": [
        {
          "data": {
            "text/plain": [
              "array([[nan, nan, nan, ..., nan, nan, nan],\n",
              "       [nan, nan, nan, ..., nan, nan, nan],\n",
              "       [nan, nan, nan, ..., nan, nan, nan],\n",
              "       ...,\n",
              "       [nan, nan, nan, ..., nan, nan, nan],\n",
              "       [nan, nan, nan, ..., nan, nan, nan],\n",
              "       [nan, nan, nan, ..., nan, nan, nan]], dtype=float16)"
            ]
          },
          "execution_count": 31,
          "metadata": {},
          "output_type": "execute_result"
        }
      ],
      "source": [
        "# algo Matthieu corrected\n",
        "import numpy as np\n",
        "intMat = df.pivot(index='indfasta', columns=\"indsmiles\", values='score').to_numpy(dtype=np.float16)\n",
        "intMat"
      ]
    },
    {
      "cell_type": "code",
      "execution_count": 10,
      "metadata": {},
      "outputs": [
        {
          "name": "stdout",
          "output_type": "stream",
          "text": [
            "[   0    0    1 ... 2512 2512 2512] [ 213  686 4672 ... 1564 1671 3948] 1.0\n",
            "[   0    0    0 ... 2512 2512 2512] [   0    1    2 ... 4812 4813 4814] nan\n"
          ]
        }
      ],
      "source": [
        "n_p,n_m = intMat.shape\n",
        "Ip, Jm = np.where(intMat==1)\n",
        "print(Ip,Jm,intMat[0,213])\n",
        "nb_positive_inter = int(len(Ip))\n",
        "Inp, Jnm = np.where(intMat==0)\n",
        "Inkp, Jnkm = np.where(np.isnan(intMat))\n",
        "print(Inkp,Jnkm,intMat[0,0])\n"
      ]
    },
    {
      "cell_type": "code",
      "execution_count": 13,
      "metadata": {},
      "outputs": [
        {
          "name": "stdout",
          "output_type": "stream",
          "text": [
            "TRAIN: [    0     1     2 ... 13709 13710 13712] TEST: [    3     4     5 ... 13714 13715 13716]\n",
            "TRAIN: [    0     1     2 ... 13714 13715 13716] TEST: [    9    10    11 ... 13708 13709 13710]\n",
            "TRAIN: [    0     1     2 ... 13714 13715 13716] TEST: [   31    32    33 ... 13699 13705 13712]\n",
            "TRAIN: [    2     3     4 ... 13714 13715 13716] TEST: [    0     1    26 ... 13680 13682 13701]\n",
            "TRAIN: [    0     1     3 ... 13714 13715 13716] TEST: [    2    24    25 ... 13702 13703 13704]\n"
          ]
        }
      ],
      "source": [
        "#from sklearn import model_selection\n",
        "from sklearn.model_selection import GroupKFold\n",
        "groups = np.array(Ip)\n",
        "group_kfold = GroupKFold(n_splits=5)\n",
        "#skf_positive = model_selection.KFold(shuffle=True, n_splits=5)\n",
        "for train_index, test_index in group_kfold.split(range(nb_positive_inter), groups=groups):\n",
        "    print(\"TRAIN:\", train_index, \"TEST:\", test_index)"
      ]
    },
    {
      "cell_type": "code",
      "execution_count": 14,
      "metadata": {},
      "outputs": [
        {
          "data": {
            "text/plain": [
              "(array([   0,    0,    2, ..., 2512, 2512, 2512]),\n",
              " array([ 213,  686,  462, ..., 1564, 1671, 3948]),\n",
              " 1.0)"
            ]
          },
          "execution_count": 14,
          "metadata": {},
          "output_type": "execute_result"
        }
      ],
      "source": [
        "Ip[train_index],Jm[train_index],intMat[0,213]"
      ]
    },
    {
      "cell_type": "code",
      "execution_count": 15,
      "metadata": {},
      "outputs": [
        {
          "data": {
            "text/plain": [
              "(array([   1,    4,    4, ..., 2506, 2506, 2506]),\n",
              " array([4672, 4369, 4740, ...,  863,  887, 2668]),\n",
              " nan)"
            ]
          },
          "execution_count": 15,
          "metadata": {},
          "output_type": "execute_result"
        }
      ],
      "source": [
        "Ip[test_index],Jm[test_index],intMat[2,4675]"
      ]
    },
    {
      "cell_type": "code",
      "execution_count": 16,
      "metadata": {},
      "outputs": [
        {
          "data": {
            "text/plain": [
              "2010"
            ]
          },
          "execution_count": 16,
          "metadata": {},
          "output_type": "execute_result"
        }
      ],
      "source": [
        "Mm, bin_edges = np.histogram(Ip[train_index], bins = range(n_p+1)) \n",
        "Mp, bin_edges = np.histogram(Jm[train_index], bins = range(n_m+1))\n",
        "train = np.zeros([1,3], dtype=int)\n",
        "nb_prot = len(list(set(Ip[train_index])))\n",
        "nb_prot"
      ]
    },
    {
      "cell_type": "code",
      "execution_count": 17,
      "metadata": {},
      "outputs": [],
      "source": [
        "for i in range(nb_prot):\n",
        "\n",
        "        j = np.argmax(Mm) # choose protein with the maximum of interactions in the train\n",
        "\n",
        "        indice_P = Jm[train_index][np.where(Ip[train_index]==j)[0]]  #np.array with index of interactions + in train\n",
        "        indice_N = [k for k in Jm[train_index] if intMat[j][k]==0]\n",
        "        indice_NK = [k for k in Jm[train_index] if np.isnan(intMat[j][k])] #np.array  with index of interactions not known\n",
        "\n",
        "        indice_freq_mol = np.where(Mp>1)[0]  #drug's index with more than 2 interactions +\n",
        "        indice_poss_mol = np.where(Mp == 1)[0]  #drug's index with 1 interaction +\n",
        "\n",
        "        indice_freq_one_prot = np.intersect1d(indice_N, indice_freq_mol)\n",
        "        indice_poss_one_prot = np.intersect1d(indice_N, indice_poss_mol)\n",
        "\n",
        "        nb_positive_interactions = len(indice_P)\n",
        "        nb_frequent_hitters_negative_interactions = len(indice_freq_one_prot)\n",
        "\n",
        "        indice_freq_one_prot = np.intersect1d(indice_N, indice_freq_mol)\n",
        "        indice_poss_one_prot = np.intersect1d(indice_N, indice_poss_mol)\n",
        "        indice_freq_one_prot_NK = np.intersect1d(indice_NK, indice_freq_mol)\n",
        "        indice_poss_one_prot_NK = np.intersect1d(indice_NK, indice_poss_mol)\n",
        "\n",
        "        if len(indice_P) <= len(indice_freq_one_prot):\n",
        "            # we shoot at random nb_positive_interactions in drugs with a lot of interactions\n",
        "            indice_N_one_prot = np.random.choice(indice_freq_one_prot,\n",
        "                                                len(indice_P), replace = False)\n",
        "        elif len(indice_P) <= len(indice_freq_one_prot) + len(indice_poss_one_prot):\n",
        "            # we shoot at random nb_positive_interactions in drugs with a lot of interactions\n",
        "            nb_negative_interactions_remaining = len(indice_P) - len(indice_freq_one_prot)\n",
        "            indice_N_one_prot_poss = np.random.choice(indice_poss_one_prot,\n",
        "                                                    nb_negative_interactions_remaining, replace = False )\n",
        "            indice_N_one_prot = np.concatenate((indice_freq_one_prot,\n",
        "                                            indice_N_one_prot_poss))\n",
        "        elif len(indice_P) <= len(indice_freq_one_prot) + len(indice_poss_one_prot) + len(indice_freq_one_prot_NK):\n",
        "            # we shoot at random nb_positive_interactions in drugs with a lot of interactions\n",
        "            nb_negative_interactions_remaining = len(indice_P) - len(indice_freq_one_prot) - len(indice_poss_one_prot)\n",
        "            indice_N_one_prot_poss = np.random.choice(indice_freq_one_prot_NK,\n",
        "                                                    nb_negative_interactions_remaining, replace = False )\n",
        "            indice_N_one_prot = np.concatenate((indice_freq_one_prot,\n",
        "                                            indice_poss_one_prot, indice_N_one_prot_poss))\n",
        "        else:\n",
        "            # we shoot at random nb_positive_interactions in drugs with a lot of interactions\n",
        "            nb_negative_interactions_remaining = len(indice_P) - len(indice_freq_one_prot) - len(indice_poss_one_prot) - len(indice_freq_one_prot_NK)\n",
        "            #print(\"nb_negative_interactions_remaining\", nb_negative_interactions_remaining) # pas de solution...\n",
        "            #print(indice_poss_one_prot_NK.shape)\n",
        "            indice_N_one_prot_poss = np.random.choice(indice_poss_one_prot_NK,\n",
        "                                                    nb_negative_interactions_remaining, replace = False )\n",
        "            indice_N_one_prot = np.concatenate((indice_freq_one_prot,\n",
        "                                            indice_poss_one_prot, indice_freq_one_prot_NK, indice_N_one_prot_poss))\n",
        "\n",
        "        Mp[indice_N_one_prot.astype(int)]-=1\n",
        "\n",
        "        # this protein has been processed\n",
        "        Mm[j] = 0\n",
        "\n",
        "        indice = np.r_[indice_P,indice_N_one_prot].astype(int)\n",
        "        etiquette = [x if not np.isnan(x) else 0 for x in intMat[j][indice]]\n",
        "        A = np.stack((indice, etiquette), axis=-1)\n",
        "        B = np.c_[np.zeros(A.shape[0])+j,A].astype(int)\n",
        "        train = np.concatenate((train,B))\n",
        "\n",
        "        train = train[1:]"
      ]
    },
    {
      "cell_type": "code",
      "execution_count": 18,
      "metadata": {},
      "outputs": [
        {
          "data": {
            "text/plain": [
              "19939"
            ]
          },
          "execution_count": 18,
          "metadata": {},
          "output_type": "execute_result"
        }
      ],
      "source": [
        "len(train)"
      ]
    },
    {
      "cell_type": "code",
      "execution_count": 19,
      "metadata": {},
      "outputs": [],
      "source": [
        "# test\n",
        "#test_index =  np.random.choice(test_index, int(p*len(test_index)), replace=False)\n",
        "# interactions + in test\n",
        "indice_P_t = np.c_[Ip[test_index],Jm[test_index], np.ones(len(test_index))].astype(int)\n",
        "\n",
        "# interactions - in test\n",
        "a = np.r_[np.c_[Inp,Jnm]] # all the zeros in the matrix (and NK ?)\n",
        "a1 = set(map(tuple, a))\n",
        "b = train[:,:2]   # all the interactions in the train\n",
        "b1 = set(map(tuple, b))\n",
        "indice_N_t = np.array(list(a1 - b1))#[:indice_P_t.shape[0],:] # we keep the same number of interactions - than interactions + in test, choosing the 0 in the matrix\n",
        "#print(len(indice_N_t))\n",
        "\n",
        "# add interactions np.nan in test\n",
        "\n",
        "if len(indice_N_t) == 0:\n",
        "    # initialization\n",
        "    indice_N_t = np.array([-1, -1]).reshape(1,2)\n",
        "\n",
        "c = np.r_[np.c_[Inkp,Jnkm]] # all the np.nan in the matrix\n",
        "\n",
        "if len(indice_N_t) < indice_P_t.shape[0]:\n",
        "    # we add some interactions - in test to have the same number of interactions + and - in test choose in the np.nan in the matrix\n",
        "    k = 0\n",
        "    while len(indice_N_t) < indice_P_t.shape[0]+1:\n",
        "        i = np.random.randint(0, len(c))\n",
        "        if tuple(c[i]) not in b1:\n",
        "            indice_N_t = np.concatenate((indice_N_t, c[i].reshape(1,2)))\n",
        "            k += 1\n",
        "\n",
        "# we drop the first row of indice_N_t if is [-1, -1]\n",
        "if indice_N_t[0,0] == -1:\n",
        "    indice_N_t = indice_N_t[1:,:]\n",
        "\n",
        "indice_N_t = indice_N_t[:len(indice_P_t),:]\n",
        "\n",
        "# we add the column of 0 for the etiquette\n",
        "indice_N_t = np.c_[indice_N_t, np.zeros(len(indice_N_t))].astype(int)\n",
        "test = np.r_[indice_P_t,indice_N_t]\n",
        "\n",
        "      "
      ]
    },
    {
      "cell_type": "code",
      "execution_count": 20,
      "metadata": {},
      "outputs": [
        {
          "data": {
            "text/plain": [
              "(True, True)"
            ]
          },
          "execution_count": 20,
          "metadata": {},
          "output_type": "execute_result"
        }
      ],
      "source": [
        "np.where([0,213,1] in train),np.where([0,213,1] in test)\n",
        "[0,213,1] in train,[0,213,1] in test"
      ]
    },
    {
      "cell_type": "code",
      "execution_count": 21,
      "metadata": {},
      "outputs": [
        {
          "data": {
            "text/plain": [
              "((array([0]),), (array([0]),))"
            ]
          },
          "execution_count": 21,
          "metadata": {},
          "output_type": "execute_result"
        }
      ],
      "source": [
        "np.where([2,4675,1] in train),np.where([2,4675,1] in test)\n",
        "#[2,4675,1] in train,[2,4675,1] in test"
      ]
    },
    {
      "cell_type": "code",
      "execution_count": 22,
      "metadata": {},
      "outputs": [
        {
          "data": {
            "text/plain": [
              "(array([   1,    4,    4, ..., 2506, 2506, 2506]),\n",
              " array([4672, 4369, 4740, ...,  863,  887, 2668]))"
            ]
          },
          "execution_count": 22,
          "metadata": {},
          "output_type": "execute_result"
        }
      ],
      "source": [
        "Ip[test_index], Jm[test_index]"
      ]
    },
    {
      "cell_type": "code",
      "execution_count": 23,
      "metadata": {},
      "outputs": [],
      "source": [
        "for elt in train:\n",
        "    for x in test:\n",
        "        if elt[0]==x[0] and elt[1]==x[1]:\n",
        "            print(elt)\n"
      ]
    },
    {
      "cell_type": "code",
      "execution_count": 148,
      "metadata": {},
      "outputs": [
        {
          "data": {
            "text/plain": [
              "array([[ 740,  101],\n",
              "       [ 740,  103],\n",
              "       [ 740,  111],\n",
              "       ...,\n",
              "       [2510,  419],\n",
              "       [2511, 4596],\n",
              "       [2511,  750]])"
            ]
          },
          "execution_count": 148,
          "metadata": {},
          "output_type": "execute_result"
        }
      ],
      "source": [
        "train[:,:2]"
      ]
    },
    {
      "cell_type": "code",
      "execution_count": 156,
      "metadata": {},
      "outputs": [],
      "source": [
        "for elt in test:\n",
        "    if tuple(elt[:2]) in set(map(tuple, train[:,:2])):\n",
        "        print(elt)\n"
      ]
    },
    {
      "cell_type": "code",
      "execution_count": 157,
      "metadata": {},
      "outputs": [
        {
          "data": {
            "text/plain": [
              "set()"
            ]
          },
          "execution_count": 157,
          "metadata": {},
          "output_type": "execute_result"
        }
      ],
      "source": [
        "S_train = set(map(tuple, train))\n",
        "S_test = set(map(tuple, test))\n",
        "S_train.intersection(S_test)"
      ]
    },
    {
      "cell_type": "code",
      "execution_count": 104,
      "metadata": {},
      "outputs": [
        {
          "name": "stdout",
          "output_type": "stream",
          "text": [
            "969\n"
          ]
        },
        {
          "data": {
            "text/plain": [
              "array([1158, 1208, 1227, 1251, 1268, 1297, 1338, 1395, 1455, 1486, 1507,\n",
              "       1546, 1585, 1623, 1638, 1642, 1646, 1671, 1797, 1823, 1854, 1885,\n",
              "       1888, 1920, 1994, 2113, 2151, 2185, 2232, 2384, 2411, 2414, 2756,\n",
              "       2863, 2939, 3013, 3016, 3033, 3075, 3097, 3105, 3156, 3191, 3202,\n",
              "       3234, 3392, 3420, 3433, 3439, 3442, 3458, 3460, 3461, 3462, 3465,\n",
              "       3466, 3467, 3499, 3507, 3511, 3517, 3520, 3567, 3569, 3570, 3598,\n",
              "       3613, 3614, 3616, 3620, 3640, 3641, 3709, 3738, 3770, 3838, 3858,\n",
              "       3871, 3872, 3874, 3878, 3880, 3881, 3882, 3883, 3884, 3885, 3887,\n",
              "       3888, 3918, 3949, 3957, 3961, 3962, 3979, 3995, 3996, 4081, 4093,\n",
              "       4133, 4134, 4135, 4136, 4137, 4138, 4139, 4140, 4158, 4210, 4214,\n",
              "       4224, 4257])"
            ]
          },
          "execution_count": 104,
          "metadata": {},
          "output_type": "execute_result"
        }
      ],
      "source": [
        "intMat = df.pivot(index='indfasta', columns=\"indsmiles\", values='score').to_numpy(dtype=np.float16)\n",
        "n_p,n_m = intMat.shape\n",
        "Ip, Jm = np.where(intMat==1)\n",
        "nb_positive_inter = int(len(Ip))\n",
        "Inp, Jnm = np.where(intMat==0)\n",
        "Inkp, Jnkm = np.where(np.isnan(intMat))\n",
        "\n",
        "Mm, bin_edges = np.histogram(Ip[train_index], bins = range(n_p+1)) # np.array with  #interactions for each protein of the train at the beginning\n",
        "Mp, bin_edges = np.histogram(Jm[train_index], bins = range(n_m+1)) # np.array with  #interactions for each drugs at the beginning (how manu time it can be chosen)\n",
        "train = np.zeros([1,3], dtype=int)\n",
        "nb_prot = len(list(set(Ip[train_index]))) # number of different prot in train\n",
        "j = np.argmax(Mm)\n",
        "print(j)\n",
        "indice_P = Jm[train_index][np.where(Ip[train_index]==j)[0]]\n",
        "indice_P"
      ]
    },
    {
      "cell_type": "code",
      "execution_count": 105,
      "metadata": {},
      "outputs": [],
      "source": [
        "indice_N = [k for k in Jm[train_index] if intMat[j][k]==0]\n",
        "indice_NK = [k for k in Jm[train_index] if np.isnan(intMat[j][k])] #np.array  with index of interactions not known\n",
        "\n",
        "indice_freq_mol = np.where(Mp>1)[0]  #drug's index with more than 2 interactions +\n",
        "indice_poss_mol = np.where(Mp == 1)[0]  #drug's index with 1 interaction +\n",
        "\n",
        "indice_freq_one_prot = np.intersect1d(indice_N, indice_freq_mol)\n",
        "indice_poss_one_prot = np.intersect1d(indice_N, indice_poss_mol)\n",
        "\n",
        "nb_positive_interactions = len(indice_P)\n",
        "nb_frequent_hitters_negative_interactions = len(indice_freq_one_prot)\n",
        "\n",
        "indice_freq_one_prot = np.intersect1d(indice_N, indice_freq_mol)\n",
        "indice_poss_one_prot = np.intersect1d(indice_N, indice_poss_mol)\n",
        "indice_freq_one_prot_NK = np.intersect1d(indice_NK, indice_freq_mol)\n",
        "indice_poss_one_prot_NK = np.intersect1d(indice_NK, indice_poss_mol)"
      ]
    },
    {
      "cell_type": "code",
      "execution_count": 106,
      "metadata": {},
      "outputs": [
        {
          "name": "stdout",
          "output_type": "stream",
          "text": [
            "112 0\n",
            "112 0\n",
            "112 1479\n"
          ]
        }
      ],
      "source": [
        "print(len(indice_P),len(indice_freq_one_prot))\n",
        "print(len(indice_P), len(indice_freq_one_prot) + len(indice_poss_one_prot))\n",
        "print(len(indice_P) , len(indice_freq_one_prot) + len(indice_poss_one_prot) + len(indice_freq_one_prot_NK))"
      ]
    },
    {
      "cell_type": "code",
      "execution_count": 108,
      "metadata": {},
      "outputs": [
        {
          "name": "stdout",
          "output_type": "stream",
          "text": [
            "[4446.  684.  483. 2714. 1409. 4739. 4445. 4380. 2560. 2825.  467.  117.\n",
            " 1016.   55. 2334.  320. 3252.   10.  854.   72. 1379.  522. 4499. 2688.\n",
            "  606.  283.  962. 2617. 4014.  997. 1031. 1115. 1024.   93. 1009.  702.\n",
            "  686.  965.  499.  655. 4430. 4255. 4720. 3357.  828. 4716.  450.  250.\n",
            "  992.  339.  644. 2587. 1232.  806. 4768. 1147.   20. 3389.  938.  948.\n",
            " 4513.  374.   15.  514.  364. 2489.  236.  867. 4770. 2534. 1303.  318.\n",
            "  723.  206. 4477. 2689.  105. 4304. 3581. 4191.  305.  837. 2899.  134.\n",
            " 4741.  749. 2429. 1506. 1531.  672.  208.  630.  988.  772. 4637. 4614.\n",
            "   61.  978.   42.  991. 2809.  176.  447. 1871.  407.  559. 1120.  360.\n",
            "  133. 1037.  469. 4727.]\n"
          ]
        }
      ],
      "source": [
        "if len(indice_P) <= len(indice_freq_one_prot):\n",
        "    # we shoot at random nb_positive_interactions in drugs with a lot of interactions\n",
        "    indice_N_one_prot = np.random.choice(indice_freq_one_prot,\n",
        "                                        len(indice_P), replace = False)\n",
        "elif len(indice_P) <= len(indice_freq_one_prot) + len(indice_poss_one_prot):\n",
        "    # we shoot at random nb_positive_interactions in drugs with a lot of interactions\n",
        "    nb_negative_interactions_remaining = len(indice_P) - len(indice_freq_one_prot)\n",
        "    indice_N_one_prot_poss = np.random.choice(indice_poss_one_prot,\n",
        "                                            nb_negative_interactions_remaining, replace = False )\n",
        "    indice_N_one_prot = np.concatenate((indice_freq_one_prot,\n",
        "                                    indice_N_one_prot_poss))\n",
        "elif len(indice_P) <= len(indice_freq_one_prot) + len(indice_poss_one_prot) + len(indice_freq_one_prot_NK):\n",
        "    # we shoot at random nb_positive_interactions in drugs with a lot of interactions\n",
        "    nb_negative_interactions_remaining = len(indice_P) - len(indice_freq_one_prot) - len(indice_poss_one_prot)\n",
        "    indice_N_one_prot_poss = np.random.choice(indice_freq_one_prot_NK,\n",
        "                                            nb_negative_interactions_remaining, replace = False ).astype(int)\n",
        "    indice_N_one_prot = np.concatenate((indice_freq_one_prot,\n",
        "                                    indice_poss_one_prot, indice_N_one_prot_poss))\n",
        "    print(indice_N_one_prot)\n",
        "else:\n",
        "    # we shoot at random nb_positive_interactions in drugs with a lot of interactions\n",
        "    nb_negative_interactions_remaining = len(indice_P) - len(indice_freq_one_prot) - len(indice_poss_one_prot) - len(indice_freq_one_prot_NK)\n",
        "    #print(\"nb_negative_interactions_remaining\", nb_negative_interactions_remaining) # pas de solution...\n",
        "    #print(indice_poss_one_prot_NK.shape)\n",
        "    indice_N_one_prot_poss = np.random.choice(indice_poss_one_prot_NK,\n",
        "                                            nb_negative_interactions_remaining, replace = False )\n",
        "    indice_N_one_prot = np.concatenate((indice_freq_one_prot,\n",
        "                                    indice_poss_one_prot, indice_freq_one_prot_NK, indice_N_one_prot_poss))\n",
        "\n",
        "Mp[indice_N_one_prot.astype(int)]-=1"
      ]
    },
    {
      "cell_type": "code",
      "execution_count": 109,
      "metadata": {},
      "outputs": [],
      "source": [
        "Mm[j] = 0\n",
        "\n",
        "indice = np.r_[indice_P,indice_N_one_prot].astype(int)\n",
        "etiquette = [x if not np.isnan(x) else 0 for x in intMat[j][indice]]\n",
        "A = np.stack((indice, etiquette), axis=-1)\n",
        "B = np.c_[np.zeros(A.shape[0])+j,A].astype(int)\n",
        "train = np.concatenate((train,B))"
      ]
    },
    {
      "cell_type": "code",
      "execution_count": 110,
      "metadata": {},
      "outputs": [
        {
          "data": {
            "text/plain": [
              "array([[   0,    0,    0],\n",
              "       [ 969, 1158,    1],\n",
              "       [ 969, 1208,    1],\n",
              "       [ 969, 1227,    1],\n",
              "       [ 969, 1251,    1],\n",
              "       [ 969, 1268,    1],\n",
              "       [ 969, 1297,    1],\n",
              "       [ 969, 1338,    1],\n",
              "       [ 969, 1395,    1],\n",
              "       [ 969, 1455,    1],\n",
              "       [ 969, 1486,    1],\n",
              "       [ 969, 1507,    1],\n",
              "       [ 969, 1546,    1],\n",
              "       [ 969, 1585,    1],\n",
              "       [ 969, 1623,    1],\n",
              "       [ 969, 1638,    1],\n",
              "       [ 969, 1642,    1],\n",
              "       [ 969, 1646,    1],\n",
              "       [ 969, 1671,    1],\n",
              "       [ 969, 1797,    1],\n",
              "       [ 969, 1823,    1],\n",
              "       [ 969, 1854,    1],\n",
              "       [ 969, 1885,    1],\n",
              "       [ 969, 1888,    1],\n",
              "       [ 969, 1920,    1],\n",
              "       [ 969, 1994,    1],\n",
              "       [ 969, 2113,    1],\n",
              "       [ 969, 2151,    1],\n",
              "       [ 969, 2185,    1],\n",
              "       [ 969, 2232,    1],\n",
              "       [ 969, 2384,    1],\n",
              "       [ 969, 2411,    1],\n",
              "       [ 969, 2414,    1],\n",
              "       [ 969, 2756,    1],\n",
              "       [ 969, 2863,    1],\n",
              "       [ 969, 2939,    1],\n",
              "       [ 969, 3013,    1],\n",
              "       [ 969, 3016,    1],\n",
              "       [ 969, 3033,    1],\n",
              "       [ 969, 3075,    1],\n",
              "       [ 969, 3097,    1],\n",
              "       [ 969, 3105,    1],\n",
              "       [ 969, 3156,    1],\n",
              "       [ 969, 3191,    1],\n",
              "       [ 969, 3202,    1],\n",
              "       [ 969, 3234,    1],\n",
              "       [ 969, 3392,    1],\n",
              "       [ 969, 3420,    1],\n",
              "       [ 969, 3433,    1],\n",
              "       [ 969, 3439,    1],\n",
              "       [ 969, 3442,    1],\n",
              "       [ 969, 3458,    1],\n",
              "       [ 969, 3460,    1],\n",
              "       [ 969, 3461,    1],\n",
              "       [ 969, 3462,    1],\n",
              "       [ 969, 3465,    1],\n",
              "       [ 969, 3466,    1],\n",
              "       [ 969, 3467,    1],\n",
              "       [ 969, 3499,    1],\n",
              "       [ 969, 3507,    1],\n",
              "       [ 969, 3511,    1],\n",
              "       [ 969, 3517,    1],\n",
              "       [ 969, 3520,    1],\n",
              "       [ 969, 3567,    1],\n",
              "       [ 969, 3569,    1],\n",
              "       [ 969, 3570,    1],\n",
              "       [ 969, 3598,    1],\n",
              "       [ 969, 3613,    1],\n",
              "       [ 969, 3614,    1],\n",
              "       [ 969, 3616,    1],\n",
              "       [ 969, 3620,    1],\n",
              "       [ 969, 3640,    1],\n",
              "       [ 969, 3641,    1],\n",
              "       [ 969, 3709,    1],\n",
              "       [ 969, 3738,    1],\n",
              "       [ 969, 3770,    1],\n",
              "       [ 969, 3838,    1],\n",
              "       [ 969, 3858,    1],\n",
              "       [ 969, 3871,    1],\n",
              "       [ 969, 3872,    1],\n",
              "       [ 969, 3874,    1],\n",
              "       [ 969, 3878,    1],\n",
              "       [ 969, 3880,    1],\n",
              "       [ 969, 3881,    1],\n",
              "       [ 969, 3882,    1],\n",
              "       [ 969, 3883,    1],\n",
              "       [ 969, 3884,    1],\n",
              "       [ 969, 3885,    1],\n",
              "       [ 969, 3887,    1],\n",
              "       [ 969, 3888,    1],\n",
              "       [ 969, 3918,    1],\n",
              "       [ 969, 3949,    1],\n",
              "       [ 969, 3957,    1],\n",
              "       [ 969, 3961,    1],\n",
              "       [ 969, 3962,    1],\n",
              "       [ 969, 3979,    1],\n",
              "       [ 969, 3995,    1],\n",
              "       [ 969, 3996,    1],\n",
              "       [ 969, 4081,    1],\n",
              "       [ 969, 4093,    1],\n",
              "       [ 969, 4133,    1],\n",
              "       [ 969, 4134,    1],\n",
              "       [ 969, 4135,    1],\n",
              "       [ 969, 4136,    1],\n",
              "       [ 969, 4137,    1],\n",
              "       [ 969, 4138,    1],\n",
              "       [ 969, 4139,    1],\n",
              "       [ 969, 4140,    1],\n",
              "       [ 969, 4158,    1],\n",
              "       [ 969, 4210,    1],\n",
              "       [ 969, 4214,    1],\n",
              "       [ 969, 4224,    1],\n",
              "       [ 969, 4257,    1],\n",
              "       [ 969, 4446,    0],\n",
              "       [ 969,  684,    0],\n",
              "       [ 969,  483,    0],\n",
              "       [ 969, 2714,    0],\n",
              "       [ 969, 1409,    0],\n",
              "       [ 969, 4739,    0],\n",
              "       [ 969, 4445,    0],\n",
              "       [ 969, 4380,    0],\n",
              "       [ 969, 2560,    0],\n",
              "       [ 969, 2825,    0],\n",
              "       [ 969,  467,    0],\n",
              "       [ 969,  117,    0],\n",
              "       [ 969, 1016,    0],\n",
              "       [ 969,   55,    0],\n",
              "       [ 969, 2334,    0],\n",
              "       [ 969,  320,    0],\n",
              "       [ 969, 3252,    0],\n",
              "       [ 969,   10,    0],\n",
              "       [ 969,  854,    0],\n",
              "       [ 969,   72,    0],\n",
              "       [ 969, 1379,    0],\n",
              "       [ 969,  522,    0],\n",
              "       [ 969, 4499,    0],\n",
              "       [ 969, 2688,    0],\n",
              "       [ 969,  606,    0],\n",
              "       [ 969,  283,    0],\n",
              "       [ 969,  962,    0],\n",
              "       [ 969, 2617,    0],\n",
              "       [ 969, 4014,    0],\n",
              "       [ 969,  997,    0],\n",
              "       [ 969, 1031,    0],\n",
              "       [ 969, 1115,    0],\n",
              "       [ 969, 1024,    0],\n",
              "       [ 969,   93,    0],\n",
              "       [ 969, 1009,    0],\n",
              "       [ 969,  702,    0],\n",
              "       [ 969,  686,    0],\n",
              "       [ 969,  965,    0],\n",
              "       [ 969,  499,    0],\n",
              "       [ 969,  655,    0],\n",
              "       [ 969, 4430,    0],\n",
              "       [ 969, 4255,    0],\n",
              "       [ 969, 4720,    0],\n",
              "       [ 969, 3357,    0],\n",
              "       [ 969,  828,    0],\n",
              "       [ 969, 4716,    0],\n",
              "       [ 969,  450,    0],\n",
              "       [ 969,  250,    0],\n",
              "       [ 969,  992,    0],\n",
              "       [ 969,  339,    0],\n",
              "       [ 969,  644,    0],\n",
              "       [ 969, 2587,    0],\n",
              "       [ 969, 1232,    0],\n",
              "       [ 969,  806,    0],\n",
              "       [ 969, 4768,    0],\n",
              "       [ 969, 1147,    0],\n",
              "       [ 969,   20,    0],\n",
              "       [ 969, 3389,    0],\n",
              "       [ 969,  938,    0],\n",
              "       [ 969,  948,    0],\n",
              "       [ 969, 4513,    0],\n",
              "       [ 969,  374,    0],\n",
              "       [ 969,   15,    0],\n",
              "       [ 969,  514,    0],\n",
              "       [ 969,  364,    0],\n",
              "       [ 969, 2489,    0],\n",
              "       [ 969,  236,    0],\n",
              "       [ 969,  867,    0],\n",
              "       [ 969, 4770,    0],\n",
              "       [ 969, 2534,    0],\n",
              "       [ 969, 1303,    0],\n",
              "       [ 969,  318,    0],\n",
              "       [ 969,  723,    0],\n",
              "       [ 969,  206,    0],\n",
              "       [ 969, 4477,    0],\n",
              "       [ 969, 2689,    0],\n",
              "       [ 969,  105,    0],\n",
              "       [ 969, 4304,    0],\n",
              "       [ 969, 3581,    0],\n",
              "       [ 969, 4191,    0],\n",
              "       [ 969,  305,    0],\n",
              "       [ 969,  837,    0],\n",
              "       [ 969, 2899,    0],\n",
              "       [ 969,  134,    0],\n",
              "       [ 969, 4741,    0],\n",
              "       [ 969,  749,    0],\n",
              "       [ 969, 2429,    0],\n",
              "       [ 969, 1506,    0],\n",
              "       [ 969, 1531,    0],\n",
              "       [ 969,  672,    0],\n",
              "       [ 969,  208,    0],\n",
              "       [ 969,  630,    0],\n",
              "       [ 969,  988,    0],\n",
              "       [ 969,  772,    0],\n",
              "       [ 969, 4637,    0],\n",
              "       [ 969, 4614,    0],\n",
              "       [ 969,   61,    0],\n",
              "       [ 969,  978,    0],\n",
              "       [ 969,   42,    0],\n",
              "       [ 969,  991,    0],\n",
              "       [ 969, 2809,    0],\n",
              "       [ 969,  176,    0],\n",
              "       [ 969,  447,    0],\n",
              "       [ 969, 1871,    0],\n",
              "       [ 969,  407,    0],\n",
              "       [ 969,  559,    0],\n",
              "       [ 969, 1120,    0],\n",
              "       [ 969,  360,    0],\n",
              "       [ 969,  133,    0],\n",
              "       [ 969, 1037,    0],\n",
              "       [ 969,  469,    0],\n",
              "       [ 969, 4727,    0]])"
            ]
          },
          "execution_count": 110,
          "metadata": {},
          "output_type": "execute_result"
        }
      ],
      "source": [
        "train"
      ]
    },
    {
      "cell_type": "code",
      "execution_count": 76,
      "metadata": {},
      "outputs": [],
      "source": [
        "def make_train_test(df,nb_folds):\n",
        "  \"\"\"\n",
        "    make train and test sets\n",
        "  \"\"\"\n",
        "\n",
        "  # algo Matthieu corrected\n",
        "  intMat = df.pivot(index='indfasta', columns=\"indsmiles\", values='score').to_numpy(dtype=np.float16)\n",
        "\n",
        "  # Set the different folds\n",
        "  skf_positive = model_selection.KFold(shuffle=True, n_splits=nb_folds)\n",
        "\n",
        "  all_train_interactions_arr = []\n",
        "  all_test_interactions_arr = []\n",
        "\n",
        "  n_p,n_m = intMat.shape\n",
        "  Ip, Jm = np.where(intMat==1)\n",
        "  nb_positive_inter = int(len(Ip))\n",
        "  Inp, Jnm = np.where(intMat==0)\n",
        "  Inkp, Jnkm = np.where(np.isnan(intMat))\n",
        "\n",
        "  for train_index, test_index in skf_positive.split(range(nb_positive_inter)):\n",
        "      # 9' pour train\n",
        "      #train_index = np.random.choice(train_index, int(p*len(train_index)), replace=False)\n",
        "\n",
        "      Mm, bin_edges = np.histogram(Ip[train_index], bins = range(n_p+1)) # np.array with  #interactions for each protein of the train at the beginning\n",
        "\n",
        "      Mp, bin_edges = np.histogram(Jm[train_index], bins = range(n_m+1)) # np.array with  #interactions for each drugs at the beginning (how manu time it can be chosen)\n",
        "\n",
        "      train = np.zeros([1,3], dtype=int)\n",
        "\n",
        "      nb_prot = len(list(set(Ip[train_index]))) # number of different prot in train\n",
        "      for i in range(nb_prot):\n",
        "\n",
        "          j = np.argmax(Mm) # choose protein with the maximum of interactions in the train\n",
        "\n",
        "          indice_P = Jm[train_index][np.where(Ip[train_index]==j)[0]]  #np.array with index of interactions + in train\n",
        "          indice_N = [k for k in Jm[train_index] if intMat[j][k]==0]\n",
        "          indice_NK = [k for k in Jm[train_index] if np.isnan(intMat[j][k])] #np.array  with index of interactions not known\n",
        "\n",
        "          indice_freq_mol = np.where(Mp>1)[0]  #drug's index with more than 2 interactions +\n",
        "          indice_poss_mol = np.where(Mp == 1)[0]  #drug's index with 1 interaction +\n",
        "\n",
        "          indice_freq_one_prot = np.intersect1d(indice_N, indice_freq_mol)\n",
        "          indice_poss_one_prot = np.intersect1d(indice_N, indice_poss_mol)\n",
        "\n",
        "          nb_positive_interactions = len(indice_P)\n",
        "          nb_frequent_hitters_negative_interactions = len(indice_freq_one_prot)\n",
        "\n",
        "          indice_freq_one_prot = np.intersect1d(indice_N, indice_freq_mol)\n",
        "          indice_poss_one_prot = np.intersect1d(indice_N, indice_poss_mol)\n",
        "          indice_freq_one_prot_NK = np.intersect1d(indice_NK, indice_freq_mol)\n",
        "          indice_poss_one_prot_NK = np.intersect1d(indice_NK, indice_poss_mol)\n",
        "\n",
        "          if len(indice_P) <= len(indice_freq_one_prot):\n",
        "              # we shoot at random nb_positive_interactions in drugs with a lot of interactions\n",
        "              indice_N_one_prot = np.random.choice(indice_freq_one_prot,\n",
        "                                                  len(indice_P), replace = False)\n",
        "          elif len(indice_P) <= len(indice_freq_one_prot) + len(indice_poss_one_prot):\n",
        "              # we shoot at random nb_positive_interactions in drugs with a lot of interactions\n",
        "              nb_negative_interactions_remaining = len(indice_P) - len(indice_freq_one_prot)\n",
        "              indice_N_one_prot_poss = np.random.choice(indice_poss_one_prot,\n",
        "                                                      nb_negative_interactions_remaining, replace = False )\n",
        "              indice_N_one_prot = np.concatenate((indice_freq_one_prot,\n",
        "                                              indice_N_one_prot_poss))\n",
        "          elif len(indice_P) <= len(indice_freq_one_prot) + len(indice_poss_one_prot) + len(indice_freq_one_prot_NK):\n",
        "              # we shoot at random nb_positive_interactions in drugs with a lot of interactions\n",
        "              nb_negative_interactions_remaining = len(indice_P) - len(indice_freq_one_prot) - len(indice_poss_one_prot)\n",
        "              indice_N_one_prot_poss = np.random.choice(indice_freq_one_prot_NK,\n",
        "                                                      nb_negative_interactions_remaining, replace = False )\n",
        "              indice_N_one_prot = np.concatenate((indice_freq_one_prot,\n",
        "                                              indice_poss_one_prot, indice_N_one_prot_poss))\n",
        "          else:\n",
        "              # we shoot at random nb_positive_interactions in drugs with a lot of interactions\n",
        "              nb_negative_interactions_remaining = len(indice_P) - len(indice_freq_one_prot) - len(indice_poss_one_prot) - len(indice_freq_one_prot_NK)\n",
        "              #print(\"nb_negative_interactions_remaining\", nb_negative_interactions_remaining) # pas de solution...\n",
        "              #print(indice_poss_one_prot_NK.shape)\n",
        "              indice_N_one_prot_poss = np.random.choice(indice_poss_one_prot_NK,\n",
        "                                                      nb_negative_interactions_remaining, replace = False )\n",
        "              indice_N_one_prot = np.concatenate((indice_freq_one_prot,\n",
        "                                              indice_poss_one_prot, indice_freq_one_prot_NK, indice_N_one_prot_poss))\n",
        "\n",
        "          Mp[indice_N_one_prot.astype(int)]-=1\n",
        "\n",
        "          # this protein has been processed\n",
        "          Mm[j] = 0\n",
        "\n",
        "          indice = np.r_[indice_P,indice_N_one_prot].astype(int)\n",
        "          etiquette = [x if not np.isnan(x) else 0 for x in intMat[j][indice]]\n",
        "          A = np.stack((indice, etiquette), axis=-1)\n",
        "          B = np.c_[np.zeros(A.shape[0])+j,A].astype(int)\n",
        "          train = np.concatenate((train,B))\n",
        "\n",
        "      train = train[1:]\n",
        "      all_train_interactions_arr.append(train)\n",
        "      print(\"train\", train.shape)\n",
        "\n",
        "\n",
        "      # test\n",
        "      #test_index =  np.random.choice(test_index, int(p*len(test_index)), replace=False)\n",
        "      # interactions + in test\n",
        "      indice_P_t = np.c_[Ip[test_index],Jm[test_index], np.ones(len(test_index))].astype(int)\n",
        "\n",
        "      # interactions - in test\n",
        "      a = np.r_[np.c_[Inp,Jnm]] # all the zeros in the matrix (and NK ?)\n",
        "      a1 = set(map(tuple, a))\n",
        "      b = train[:,:2]   # all the interactions in the train\n",
        "      b1 = set(map(tuple, b))\n",
        "      indice_N_t = np.array(list(a1 - b1))#[:indice_P_t.shape[0],:] # we keep the same number of interactions - than interactions + in test, choosing the 0 in the matrix\n",
        "      #print(len(indice_N_t))\n",
        "\n",
        "      # add interactions np.nan in test\n",
        "\n",
        "      if len(indice_N_t) == 0:\n",
        "          # initialization\n",
        "          indice_N_t = np.array([-1, -1]).reshape(1,2)\n",
        "\n",
        "      c = np.r_[np.c_[Inkp,Jnkm]] # all the np.nan in the matrix\n",
        "\n",
        "      if len(indice_N_t) < indice_P_t.shape[0]:\n",
        "          # we add some interactions - in test to have the same number of interactions + and - in test choose in the np.nan in the matrix\n",
        "          k = 0\n",
        "          while len(indice_N_t) < indice_P_t.shape[0]+1:\n",
        "              i = np.random.randint(0, len(c))\n",
        "              if tuple(c[i]) not in b1:\n",
        "                  indice_N_t = np.concatenate((indice_N_t, c[i].reshape(1,2)))\n",
        "                  k += 1\n",
        "\n",
        "      # we drop the first row of indice_N_t if is [-1, -1]\n",
        "      if indice_N_t[0,0] == -1:\n",
        "          indice_N_t = indice_N_t[1:,:]\n",
        "\n",
        "      indice_N_t = indice_N_t[:len(indice_P_t),:]\n",
        "\n",
        "      # we add the column of 0 for the etiquette\n",
        "      indice_N_t = np.c_[indice_N_t, np.zeros(len(indice_N_t))].astype(int)\n",
        "      test = np.r_[indice_P_t,indice_N_t]\n",
        "\n",
        "      all_test_interactions_arr.append(test)\n",
        "      print(\"test\", test.shape)\n",
        "\n",
        "  print(\"Train/test datasets prepared.\")\n",
        "  return all_train_interactions_arr, all_test_interactions_arr"
      ]
    },
    {
      "attachments": {},
      "cell_type": "markdown",
      "metadata": {},
      "source": [
        "## algo pour faire test/train avec des molécules orphelines et des protéines orphelines\n",
        "## attention, indfasta différent et même fasta"
      ]
    },
    {
      "cell_type": "code",
      "execution_count": 36,
      "metadata": {},
      "outputs": [
        {
          "name": "stdout",
          "output_type": "stream",
          "text": [
            "(2513, 2)\n",
            "(2507, 2)\n"
          ]
        }
      ],
      "source": [
        "print(df[[\"indfasta\"]].drop_duplicates().reset_index().shape)\n",
        "print(df[[\"fasta\"]].drop_duplicates().reset_index().shape)"
      ]
    },
    {
      "cell_type": "code",
      "execution_count": 38,
      "metadata": {},
      "outputs": [
        {
          "name": "stdout",
          "output_type": "stream",
          "text": [
            "(11024, 7)\n",
            "(2693, 7)\n"
          ]
        }
      ],
      "source": [
        "# on garde 20% des fastas pour le test\n",
        "nP = df[[\"indfasta\"]].drop_duplicates().reset_index().shape[0]\n",
        "S = np.random.permutation(nP)\n",
        "\n",
        "# on garde les pairs avec ces protéines\n",
        "df_train = df[df[\"indfasta\"].isin(S[:int(0.8*nP)])]\n",
        "df_test = df[df[\"indfasta\"].isin(S[int(0.8*nP):])]\n",
        "df_train = df_train.reset_index(drop=True)\n",
        "df_test = df_test.reset_index(drop=True)\n",
        "print(df_train.shape)\n",
        "print(df_test.shape)\n",
        "\n"
      ]
    },
    {
      "cell_type": "code",
      "execution_count": null,
      "metadata": {},
      "outputs": [],
      "source": []
    }
  ],
  "metadata": {
    "colab": {
      "provenance": []
    },
    "kernelspec": {
      "display_name": "Python 3",
      "name": "python3"
    },
    "language_info": {
      "codemirror_mode": {
        "name": "ipython",
        "version": 3
      },
      "file_extension": ".py",
      "mimetype": "text/x-python",
      "name": "python",
      "nbconvert_exporter": "python",
      "pygments_lexer": "ipython3",
      "version": "3.9.13"
    }
  },
  "nbformat": 4,
  "nbformat_minor": 0
}

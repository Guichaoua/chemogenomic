{
  "cells": [
    {
      "attachments": {},
      "cell_type": "markdown",
      "metadata": {},
      "source": [
        "# Classification using BFGS -- Pytorch version\n",
        "\n",
        "This notebook details the implementation of a generic ridge-regularized classification solved by direct gradient-based optimization (here quasi-newton). \n",
        "It is implemented in the kernel space, i.e. representing the weights over the space of points."
      ]
    },
    {
      "cell_type": "code",
      "execution_count": 1,
      "metadata": {
        "id": "ij0BFq1STLcv"
      },
      "outputs": [
        {
          "name": "stdout",
          "output_type": "stream",
          "text": [
            "cpu\n"
          ]
        }
      ],
      "source": [
        "%load_ext autoreload\n",
        "%autoreload 2\n",
        "import torch\n",
        "import torch.optim as optim\n",
        "import matplotlib.pyplot as plt\n",
        "import numpy as np\n",
        "from sklearn import svm\n",
        "\n",
        "device = torch.device(\"cuda:0\" if torch.cuda.is_available() else \"cpu\")\n",
        "device_cpu = torch.device(\"cpu\")\n",
        "device_cpu = device\n",
        "print( device )\n",
        "\n",
        "mytype = torch.float16 # to save memory (only on GPU)\n",
        "mytype = torch.float32"
      ]
    },
    {
      "attachments": {},
      "cell_type": "markdown",
      "metadata": {
        "id": "I_pKDD-zj7Fa"
      },
      "source": [
        "# Data"
      ]
    },
    {
      "cell_type": "code",
      "execution_count": 2,
      "metadata": {},
      "outputs": [
        {
          "name": "stdout",
          "output_type": "stream",
          "text": [
            "The autoreload extension is already loaded. To reload it, use:\n",
            "  %reload_ext autoreload\n"
          ]
        }
      ],
      "source": [
        "%load_ext autoreload\n",
        "%autoreload 2\n",
        "\n",
        "import utils\n",
        "from utils import load_data"
      ]
    },
    {
      "cell_type": "code",
      "execution_count": 3,
      "metadata": {},
      "outputs": [
        {
          "name": "stdout",
          "output_type": "stream",
          "text": [
            "(13717, 7)\n"
          ]
        },
        {
          "data": {
            "text/html": [
              "<div>\n",
              "<style scoped>\n",
              "    .dataframe tbody tr th:only-of-type {\n",
              "        vertical-align: middle;\n",
              "    }\n",
              "\n",
              "    .dataframe tbody tr th {\n",
              "        vertical-align: top;\n",
              "    }\n",
              "\n",
              "    .dataframe thead th {\n",
              "        text-align: right;\n",
              "    }\n",
              "</style>\n",
              "<table border=\"1\" class=\"dataframe\">\n",
              "  <thead>\n",
              "    <tr style=\"text-align: right;\">\n",
              "      <th></th>\n",
              "      <th>uniprot</th>\n",
              "      <th>DBid</th>\n",
              "      <th>smiles</th>\n",
              "      <th>ind2mol</th>\n",
              "      <th>fasta</th>\n",
              "      <th>ind2prot</th>\n",
              "      <th>inter</th>\n",
              "    </tr>\n",
              "  </thead>\n",
              "  <tbody>\n",
              "    <tr>\n",
              "      <th>0</th>\n",
              "      <td>A0A024R8I1</td>\n",
              "      <td>DB00381</td>\n",
              "      <td>CCOC(=O)C1=C(COCCN)NC(C)=C(C1C1=CC=CC=C1Cl)C(=...</td>\n",
              "      <td>213</td>\n",
              "      <td>MVRFGDELGGRYGGPGGGERARGGGAGGAGGPGPGGLQPGQRVLYK...</td>\n",
              "      <td>0</td>\n",
              "      <td>1</td>\n",
              "    </tr>\n",
              "    <tr>\n",
              "      <th>1</th>\n",
              "      <td>A0A024R8I1</td>\n",
              "      <td>DB00996</td>\n",
              "      <td>NCC1(CC(O)=O)CCCCC1</td>\n",
              "      <td>686</td>\n",
              "      <td>MVRFGDELGGRYGGPGGGERARGGGAGGAGGPGPGGLQPGQRVLYK...</td>\n",
              "      <td>0</td>\n",
              "      <td>1</td>\n",
              "    </tr>\n",
              "    <tr>\n",
              "      <th>2</th>\n",
              "      <td>A1L3X4</td>\n",
              "      <td>DB12965</td>\n",
              "      <td>[Ag]</td>\n",
              "      <td>4672</td>\n",
              "      <td>MDLSCSCATGGSCTCASSCKCKEYKCTSCKKNCCSCCPMGCAKCAQGCT</td>\n",
              "      <td>1</td>\n",
              "      <td>1</td>\n",
              "    </tr>\n",
              "    <tr>\n",
              "      <th>3</th>\n",
              "      <td>A5X5Y0</td>\n",
              "      <td>DB00715</td>\n",
              "      <td>FC1=CC=C(C=C1)[C@@H]1CCNC[C@H]1COC1=CC2=C(OCO2...</td>\n",
              "      <td>462</td>\n",
              "      <td>MEGSWFHRKRFSFYLLLGFLLQGRGVTFTINCSGFGQHGADPTALN...</td>\n",
              "      <td>2</td>\n",
              "      <td>1</td>\n",
              "    </tr>\n",
              "    <tr>\n",
              "      <th>4</th>\n",
              "      <td>A5X5Y0</td>\n",
              "      <td>DB09304</td>\n",
              "      <td>CN1CCC2=C(C1)C1=CC=CC=C1CC1=CC=CC=C21</td>\n",
              "      <td>4467</td>\n",
              "      <td>MEGSWFHRKRFSFYLLLGFLLQGRGVTFTINCSGFGQHGADPTALN...</td>\n",
              "      <td>2</td>\n",
              "      <td>1</td>\n",
              "    </tr>\n",
              "  </tbody>\n",
              "</table>\n",
              "</div>"
            ],
            "text/plain": [
              "      uniprot     DBid                                             smiles  \\\n",
              "0  A0A024R8I1  DB00381  CCOC(=O)C1=C(COCCN)NC(C)=C(C1C1=CC=CC=C1Cl)C(=...   \n",
              "1  A0A024R8I1  DB00996                                NCC1(CC(O)=O)CCCCC1   \n",
              "2      A1L3X4  DB12965                                               [Ag]   \n",
              "3      A5X5Y0  DB00715  FC1=CC=C(C=C1)[C@@H]1CCNC[C@H]1COC1=CC2=C(OCO2...   \n",
              "4      A5X5Y0  DB09304              CN1CCC2=C(C1)C1=CC=CC=C1CC1=CC=CC=C21   \n",
              "\n",
              "   ind2mol                                              fasta  ind2prot  inter  \n",
              "0      213  MVRFGDELGGRYGGPGGGERARGGGAGGAGGPGPGGLQPGQRVLYK...         0      1  \n",
              "1      686  MVRFGDELGGRYGGPGGGERARGGGAGGAGGPGPGGLQPGQRVLYK...         0      1  \n",
              "2     4672  MDLSCSCATGGSCTCASSCKCKEYKCTSCKKNCCSCCPMGCAKCAQGCT         1      1  \n",
              "3      462  MEGSWFHRKRFSFYLLLGFLLQGRGVTFTINCSGFGQHGADPTALN...         2      1  \n",
              "4     4467  MEGSWFHRKRFSFYLLLGFLLQGRGVTFTINCSGFGQHGADPTALN...         2      1  "
            ]
          },
          "execution_count": 3,
          "metadata": {},
          "output_type": "execute_result"
        }
      ],
      "source": [
        "df_DB = load_data()\n",
        "print(df_DB.shape)\n",
        "df_DB.head()"
      ]
    },
    {
      "cell_type": "code",
      "execution_count": 4,
      "metadata": {},
      "outputs": [
        {
          "data": {
            "text/html": [
              "<div>\n",
              "<style scoped>\n",
              "    .dataframe tbody tr th:only-of-type {\n",
              "        vertical-align: middle;\n",
              "    }\n",
              "\n",
              "    .dataframe tbody tr th {\n",
              "        vertical-align: top;\n",
              "    }\n",
              "\n",
              "    .dataframe thead th {\n",
              "        text-align: right;\n",
              "    }\n",
              "</style>\n",
              "<table border=\"1\" class=\"dataframe\">\n",
              "  <thead>\n",
              "    <tr style=\"text-align: right;\">\n",
              "      <th></th>\n",
              "      <th>uniprot</th>\n",
              "      <th>DBid</th>\n",
              "      <th>smiles</th>\n",
              "      <th>ind2mol</th>\n",
              "      <th>fasta</th>\n",
              "      <th>ind2prot</th>\n",
              "      <th>inter</th>\n",
              "    </tr>\n",
              "  </thead>\n",
              "  <tbody>\n",
              "  </tbody>\n",
              "</table>\n",
              "</div>"
            ],
            "text/plain": [
              "Empty DataFrame\n",
              "Columns: [uniprot, DBid, smiles, ind2mol, fasta, ind2prot, inter]\n",
              "Index: []"
            ]
          },
          "execution_count": 4,
          "metadata": {},
          "output_type": "execute_result"
        }
      ],
      "source": [
        "df_DB[df_DB[\"smiles\"] ==\"NC1=C(C2=C(N)N=C(N)N=C2C=C1)[Cl](=O)=O\"]\n",
        "# drop the 2 molecules with the same smiles\n",
        "df_DB = df_DB.drop(12222)\n",
        "df_DB[df_DB[\"smiles\"] ==\"NC1=C(C2=C(N)N=C(N)N=C2C=C1)[Cl](=O)=O\"]\n"
      ]
    },
    {
      "cell_type": "code",
      "execution_count": 5,
      "metadata": {},
      "outputs": [
        {
          "data": {
            "text/plain": [
              "(13716, 7)"
            ]
          },
          "execution_count": 5,
          "metadata": {},
          "output_type": "execute_result"
        }
      ],
      "source": [
        "df_DB.shape"
      ]
    },
    {
      "cell_type": "code",
      "execution_count": 25,
      "metadata": {},
      "outputs": [],
      "source": [
        "df_DB.to_csv('data/drugbank.csv', index=False)"
      ]
    },
    {
      "attachments": {},
      "cell_type": "markdown",
      "metadata": {},
      "source": [
        "## Kprot"
      ]
    },
    {
      "cell_type": "code",
      "execution_count": 26,
      "metadata": {},
      "outputs": [],
      "source": [
        "import pickle\n",
        "with open('data/drugbank_K_prot.data', 'rb') as f:\n",
        "        K_prot = pickle.load(f)"
      ]
    },
    {
      "cell_type": "code",
      "execution_count": 27,
      "metadata": {},
      "outputs": [
        {
          "data": {
            "text/plain": [
              "(2513, 2513)"
            ]
          },
          "execution_count": 27,
          "metadata": {},
          "output_type": "execute_result"
        }
      ],
      "source": [
        "K_prot.shape"
      ]
    },
    {
      "attachments": {},
      "cell_type": "markdown",
      "metadata": {},
      "source": [
        "## liste des 4814 smiles"
      ]
    },
    {
      "cell_type": "code",
      "execution_count": 28,
      "metadata": {},
      "outputs": [
        {
          "data": {
            "text/plain": [
              "4813"
            ]
          },
          "execution_count": 28,
          "metadata": {},
          "output_type": "execute_result"
        }
      ],
      "source": [
        "# same in zip format\n",
        "import pandas as pd\n",
        "import zipfile\n",
        "zf = zipfile.ZipFile('data/drugbank.csv.zip') \n",
        "df = pd.read_csv(zf.open('drugbank.csv'),low_memory=False)\n",
        "df_p = df[df['inter'] == True]\n",
        "#list of smiles strings\n",
        "smiles = df_p['smiles'].drop_duplicates().values\n",
        "len(smiles)"
      ]
    },
    {
      "cell_type": "code",
      "execution_count": 29,
      "metadata": {},
      "outputs": [
        {
          "name": "stderr",
          "output_type": "stream",
          "text": [
            "[22:22:02] Unusual charge on atom 0 number of radical electrons set to zero\n"
          ]
        }
      ],
      "source": [
        "from rdkit import Chem\n",
        "from rdkit.Chem import AllChem\n",
        "\n",
        "import numpy as np\n",
        "\n",
        "nM =  len(smiles)\n",
        "MorganFP = np.zeros((nM,1024))\n",
        "for i in range(nM):\n",
        "    # Convert SMILES to RDKit molecule object\n",
        "    mol = Chem.MolFromSmiles(smiles[i])    \n",
        "    # Generate Morgan fingerprint of the molecule\n",
        "    fp = AllChem.GetMorganFingerprintAsBitVect(mol, 2, nBits=1024)\n",
        "    # Convert the fingerprint to a numpy array\n",
        "    arr = np.zeros((1,))\n",
        "    AllChem.DataStructs.ConvertToNumpyArray(fp, arr)\n",
        "    MorganFP[i,:] = arr\n",
        "MorganFP = MorganFP.astype(int)"
      ]
    },
    {
      "cell_type": "code",
      "execution_count": 30,
      "metadata": {},
      "outputs": [],
      "source": [
        "import Nystrom_method\n",
        "from  Nystrom_method import nystroem,KronKernel\n",
        "# random list of molecules \n",
        "kM = 4814 # number of molecule to compute nystrom\n",
        "rM = 1000 # final dimension of features\n",
        "I = np.random.permutation(nM)\n",
        "I = I[:kM]"
      ]
    },
    {
      "cell_type": "code",
      "execution_count": 31,
      "metadata": {},
      "outputs": [],
      "source": [
        "# compute Tanimoto kernel \n",
        "Km = ( MorganFP[I,:] @ MorganFP.T ) / ( 1024 - (1-MorganFP[I,:]) @ (1-MorganFP.T) )"
      ]
    },
    {
      "cell_type": "code",
      "execution_count": 32,
      "metadata": {},
      "outputs": [],
      "source": [
        "Xm,Lambda,LambdaC = nystroem(np.concatenate((Km[:,I], Km), axis=1),rM)"
      ]
    },
    {
      "attachments": {},
      "cell_type": "markdown",
      "metadata": {},
      "source": [
        "## liste des indices protéines/molécules avec que des 1"
      ]
    },
    {
      "cell_type": "code",
      "execution_count": 34,
      "metadata": {},
      "outputs": [
        {
          "name": "stdout",
          "output_type": "stream",
          "text": [
            "13716\n",
            "13716\n"
          ]
        }
      ],
      "source": [
        "# protein indices\n",
        "J = df_p['ind2prot'].values\n",
        "print(len(J))\n",
        "# molecules indices\n",
        "I = df_p['ind2mol'].values\n",
        "print(len(I))"
      ]
    },
    {
      "attachments": {},
      "cell_type": "markdown",
      "metadata": {},
      "source": [
        "## train/test avec indices protéines/molécules et interactions balanced\n",
        "\n",
        "en premier l'indice de la protéine, puis l'indice du ligand puis l'interaction"
      ]
    },
    {
      "cell_type": "code",
      "execution_count": 29,
      "metadata": {},
      "outputs": [
        {
          "data": {
            "text/html": [
              "<div>\n",
              "<style scoped>\n",
              "    .dataframe tbody tr th:only-of-type {\n",
              "        vertical-align: middle;\n",
              "    }\n",
              "\n",
              "    .dataframe tbody tr th {\n",
              "        vertical-align: top;\n",
              "    }\n",
              "\n",
              "    .dataframe thead th {\n",
              "        text-align: right;\n",
              "    }\n",
              "</style>\n",
              "<table border=\"1\" class=\"dataframe\">\n",
              "  <thead>\n",
              "    <tr style=\"text-align: right;\">\n",
              "      <th></th>\n",
              "      <th>uniprot</th>\n",
              "      <th>DBid</th>\n",
              "      <th>smiles</th>\n",
              "      <th>indsmiles</th>\n",
              "      <th>fasta</th>\n",
              "      <th>indfasta</th>\n",
              "      <th>score</th>\n",
              "    </tr>\n",
              "  </thead>\n",
              "  <tbody>\n",
              "    <tr>\n",
              "      <th>0</th>\n",
              "      <td>A0A024R8I1</td>\n",
              "      <td>DB00381</td>\n",
              "      <td>CCOC(=O)C1=C(COCCN)NC(C)=C(C1C1=CC=CC=C1Cl)C(=...</td>\n",
              "      <td>213</td>\n",
              "      <td>MVRFGDELGGRYGGPGGGERARGGGAGGAGGPGPGGLQPGQRVLYK...</td>\n",
              "      <td>0</td>\n",
              "      <td>1</td>\n",
              "    </tr>\n",
              "    <tr>\n",
              "      <th>1</th>\n",
              "      <td>A0A024R8I1</td>\n",
              "      <td>DB00996</td>\n",
              "      <td>NCC1(CC(O)=O)CCCCC1</td>\n",
              "      <td>686</td>\n",
              "      <td>MVRFGDELGGRYGGPGGGERARGGGAGGAGGPGPGGLQPGQRVLYK...</td>\n",
              "      <td>0</td>\n",
              "      <td>1</td>\n",
              "    </tr>\n",
              "    <tr>\n",
              "      <th>2</th>\n",
              "      <td>A1L3X4</td>\n",
              "      <td>DB12965</td>\n",
              "      <td>[Ag]</td>\n",
              "      <td>4672</td>\n",
              "      <td>MDLSCSCATGGSCTCASSCKCKEYKCTSCKKNCCSCCPMGCAKCAQGCT</td>\n",
              "      <td>1</td>\n",
              "      <td>1</td>\n",
              "    </tr>\n",
              "    <tr>\n",
              "      <th>3</th>\n",
              "      <td>A5X5Y0</td>\n",
              "      <td>DB00715</td>\n",
              "      <td>FC1=CC=C(C=C1)[C@@H]1CCNC[C@H]1COC1=CC2=C(OCO2...</td>\n",
              "      <td>462</td>\n",
              "      <td>MEGSWFHRKRFSFYLLLGFLLQGRGVTFTINCSGFGQHGADPTALN...</td>\n",
              "      <td>2</td>\n",
              "      <td>1</td>\n",
              "    </tr>\n",
              "    <tr>\n",
              "      <th>4</th>\n",
              "      <td>A5X5Y0</td>\n",
              "      <td>DB09304</td>\n",
              "      <td>CN1CCC2=C(C1)C1=CC=CC=C1CC1=CC=CC=C21</td>\n",
              "      <td>4467</td>\n",
              "      <td>MEGSWFHRKRFSFYLLLGFLLQGRGVTFTINCSGFGQHGADPTALN...</td>\n",
              "      <td>2</td>\n",
              "      <td>1</td>\n",
              "    </tr>\n",
              "  </tbody>\n",
              "</table>\n",
              "</div>"
            ],
            "text/plain": [
              "      uniprot     DBid                                             smiles  \\\n",
              "0  A0A024R8I1  DB00381  CCOC(=O)C1=C(COCCN)NC(C)=C(C1C1=CC=CC=C1Cl)C(=...   \n",
              "1  A0A024R8I1  DB00996                                NCC1(CC(O)=O)CCCCC1   \n",
              "2      A1L3X4  DB12965                                               [Ag]   \n",
              "3      A5X5Y0  DB00715  FC1=CC=C(C=C1)[C@@H]1CCNC[C@H]1COC1=CC2=C(OCO2...   \n",
              "4      A5X5Y0  DB09304              CN1CCC2=C(C1)C1=CC=CC=C1CC1=CC=CC=C21   \n",
              "\n",
              "   indsmiles                                              fasta  indfasta  \\\n",
              "0        213  MVRFGDELGGRYGGPGGGERARGGGAGGAGGPGPGGLQPGQRVLYK...         0   \n",
              "1        686  MVRFGDELGGRYGGPGGGERARGGGAGGAGGPGPGGLQPGQRVLYK...         0   \n",
              "2       4672  MDLSCSCATGGSCTCASSCKCKEYKCTSCKKNCCSCCPMGCAKCAQGCT         1   \n",
              "3        462  MEGSWFHRKRFSFYLLLGFLLQGRGVTFTINCSGFGQHGADPTALN...         2   \n",
              "4       4467  MEGSWFHRKRFSFYLLLGFLLQGRGVTFTINCSGFGQHGADPTALN...         2   \n",
              "\n",
              "   score  \n",
              "0      1  \n",
              "1      1  \n",
              "2      1  \n",
              "3      1  \n",
              "4      1  "
            ]
          },
          "execution_count": 29,
          "metadata": {},
          "output_type": "execute_result"
        }
      ],
      "source": [
        "# change name of the column 'ind2prot' in 'indfasta' in df\n",
        "df = df_DB.rename(columns={'ind2prot': 'indfasta', 'ind2mol': 'indsmiles', 'inter': 'score'})\n",
        "df.head()"
      ]
    },
    {
      "cell_type": "code",
      "execution_count": 30,
      "metadata": {},
      "outputs": [
        {
          "name": "stdout",
          "output_type": "stream",
          "text": [
            "train (21944, 3)\n",
            "test (5488, 3)\n",
            "train (21946, 3)\n",
            "test (5486, 3)\n"
          ]
        }
      ],
      "source": [
        "from utils import make_train_test\n",
        "\n",
        "all_train_interactions_arr, all_test_interactions_arr = make_train_test(df_name,5,1)"
      ]
    },
    {
      "cell_type": "code",
      "execution_count": null,
      "metadata": {},
      "outputs": [],
      "source": [
        "test = all_test_interactions_arr[0]\n",
        "train = all_train_interactions_arr[0]\n",
        "c = 0\n",
        "for elt in test[:,:]:\n",
        "    if elt in train[:,:]:\n",
        "        c+=1\n",
        "        print(elt)\n",
        "print(c)\n",
        "print(len(test[:,0:2]))"
      ]
    },
    {
      "cell_type": "code",
      "execution_count": 11,
      "metadata": {},
      "outputs": [
        {
          "data": {
            "text/plain": [
              "array([[nan, nan, nan, ..., nan, nan, nan],\n",
              "       [nan, nan, nan, ..., nan, nan, nan],\n",
              "       [nan, nan, nan, ..., nan, nan, nan],\n",
              "       ...,\n",
              "       [nan, nan, nan, ..., nan, nan, nan],\n",
              "       [nan, nan, nan, ..., nan, nan, nan],\n",
              "       [nan, nan, nan, ..., nan, nan, nan]], dtype=float16)"
            ]
          },
          "execution_count": 11,
          "metadata": {},
          "output_type": "execute_result"
        }
      ],
      "source": [
        "# algo Matthieu corrected\n",
        "intMat = df.pivot(index='indfasta', columns=\"indsmiles\", values='score').to_numpy(dtype=np.float16)\n",
        "intMat"
      ]
    },
    {
      "cell_type": "code",
      "execution_count": 23,
      "metadata": {},
      "outputs": [
        {
          "name": "stdout",
          "output_type": "stream",
          "text": [
            "[   0    0    1 ... 2512 2512 2512] [ 213  686 4671 ... 1563 1670 3947] 1.0\n",
            "[   0    0    0 ... 2512 2512 2512] [   0    1    2 ... 4811 4812 4813] nan\n"
          ]
        }
      ],
      "source": [
        "n_p,n_m = intMat.shape\n",
        "Ip, Jm = np.where(intMat==1)\n",
        "print(Ip,Jm,intMat[0,213])\n",
        "nb_positive_inter = int(len(Ip))\n",
        "Inp, Jnm = np.where(intMat==0)\n",
        "Inkp, Jnkm = np.where(np.isnan(intMat))\n",
        "print(Inkp,Jnkm,intMat[0,0])\n"
      ]
    },
    {
      "cell_type": "code",
      "execution_count": 24,
      "metadata": {},
      "outputs": [
        {
          "name": "stdout",
          "output_type": "stream",
          "text": [
            "TRAIN: [    1     2     5 ... 13713 13714 13715] TEST: [    0     3     4 ... 13695 13696 13697]\n",
            "TRAIN: [    0     1     2 ... 13713 13714 13715] TEST: [    6     9    11 ... 13672 13700 13704]\n",
            "TRAIN: [    0     1     2 ... 13711 13712 13714] TEST: [    7    14    18 ... 13707 13713 13715]\n",
            "TRAIN: [    0     1     2 ... 13710 13713 13715] TEST: [    5    21    31 ... 13711 13712 13714]\n",
            "TRAIN: [    0     3     4 ... 13713 13714 13715] TEST: [    1     2     8 ... 13706 13708 13710]\n"
          ]
        }
      ],
      "source": [
        "from sklearn import model_selection\n",
        "skf_positive = model_selection.KFold(shuffle=True, n_splits=5)\n",
        "for train_index, test_index in skf_positive.split(range(nb_positive_inter)):\n",
        "    print(\"TRAIN:\", train_index, \"TEST:\", test_index)"
      ]
    },
    {
      "cell_type": "code",
      "execution_count": 28,
      "metadata": {},
      "outputs": [
        {
          "data": {
            "text/plain": [
              "(array([   0,    2,    2, ..., 2512, 2512, 2512]),\n",
              " array([ 213,  462, 4466, ..., 1563, 1670, 3947]),\n",
              " 1.0)"
            ]
          },
          "execution_count": 28,
          "metadata": {},
          "output_type": "execute_result"
        }
      ],
      "source": [
        "Ip[train_index],Jm[train_index],intMat[2512,1563]"
      ]
    },
    {
      "cell_type": "code",
      "execution_count": null,
      "metadata": {},
      "outputs": [],
      "source": [
        "def make_train_test(df,nb_folds):\n",
        "  \"\"\"\n",
        "    make train and test sets\n",
        "  \"\"\"\n",
        "\n",
        "  # algo Matthieu corrected\n",
        "  intMat = df.pivot(index='indfasta', columns=\"indsmiles\", values='score').to_numpy(dtype=np.float16)\n",
        "\n",
        "  # Set the different folds\n",
        "  skf_positive = model_selection.KFold(shuffle=True, n_splits=nb_folds)\n",
        "\n",
        "  all_train_interactions_arr = []\n",
        "  all_test_interactions_arr = []\n",
        "\n",
        "  n_p,n_m = intMat.shape\n",
        "  Ip, Jm = np.where(intMat==1)\n",
        "  nb_positive_inter = int(len(Ip))\n",
        "  Inp, Jnm = np.where(intMat==0)\n",
        "  Inkp, Jnkm = np.where(np.isnan(intMat))\n",
        "\n",
        "  for train_index, test_index in skf_positive.split(range(nb_positive_inter)):\n",
        "      # 9' pour train\n",
        "      train_index = np.random.choice(train_index, int(p*len(train_index)), replace=False)\n",
        "\n",
        "      Mm, bin_edges = np.histogram(Ip[train_index], bins = range(n_p+1)) # np.array with  #interactions for each protein of the train at the beginning\n",
        "\n",
        "      Mp, bin_edges = np.histogram(Jm[train_index], bins = range(n_m+1)) # np.array with  #interactions for each drugs at the beginning (how manu time it can be chosen)\n",
        "\n",
        "      train = np.zeros([1,3], dtype=int)\n",
        "\n",
        "      nb_prot = len(list(set(Ip[train_index]))) # number of different prot in train\n",
        "      for i in range(nb_prot):\n",
        "\n",
        "          j = np.argmax(Mm) # choose protein with the maximum of interactions in the train\n",
        "\n",
        "          indice_P = Jm[train_index][np.where(Ip[train_index]==j)[0]]  #np.array with index of interactions + in train\n",
        "          indice_N = [k for k in Jm[train_index] if intMat[j][k]==0]\n",
        "          indice_NK = [k for k in Jm[train_index] if np.isnan(intMat[j][k])] #np.array  with index of interactions not known\n",
        "\n",
        "          indice_freq_mol = np.where(Mp>1)[0]  #drug's index with more than 2 interactions +\n",
        "          indice_poss_mol = np.where(Mp == 1)[0]  #drug's index with 1 interaction +\n",
        "\n",
        "          indice_freq_one_prot = np.intersect1d(indice_N, indice_freq_mol)\n",
        "          indice_poss_one_prot = np.intersect1d(indice_N, indice_poss_mol)\n",
        "\n",
        "          nb_positive_interactions = len(indice_P)\n",
        "          nb_frequent_hitters_negative_interactions = len(indice_freq_one_prot)\n",
        "\n",
        "          indice_freq_one_prot = np.intersect1d(indice_N, indice_freq_mol)\n",
        "          indice_poss_one_prot = np.intersect1d(indice_N, indice_poss_mol)\n",
        "          indice_freq_one_prot_NK = np.intersect1d(indice_NK, indice_freq_mol)\n",
        "          indice_poss_one_prot_NK = np.intersect1d(indice_NK, indice_poss_mol)\n",
        "\n",
        "          if len(indice_P) <= len(indice_freq_one_prot):\n",
        "              # we shoot at random nb_positive_interactions in drugs with a lot of interactions\n",
        "              indice_N_one_prot = np.random.choice(indice_freq_one_prot,\n",
        "                                                  len(indice_P), replace = False)\n",
        "          elif len(indice_P) <= len(indice_freq_one_prot) + len(indice_poss_one_prot):\n",
        "              # we shoot at random nb_positive_interactions in drugs with a lot of interactions\n",
        "              nb_negative_interactions_remaining = len(indice_P) - len(indice_freq_one_prot)\n",
        "              indice_N_one_prot_poss = np.random.choice(indice_poss_one_prot,\n",
        "                                                      nb_negative_interactions_remaining, replace = False )\n",
        "              indice_N_one_prot = np.concatenate((indice_freq_one_prot,\n",
        "                                              indice_N_one_prot_poss))\n",
        "          elif len(indice_P) <= len(indice_freq_one_prot) + len(indice_poss_one_prot) + len(indice_freq_one_prot_NK):\n",
        "              # we shoot at random nb_positive_interactions in drugs with a lot of interactions\n",
        "              nb_negative_interactions_remaining = len(indice_P) - len(indice_freq_one_prot) - len(indice_poss_one_prot)\n",
        "              indice_N_one_prot_poss = np.random.choice(indice_freq_one_prot_NK,\n",
        "                                                      nb_negative_interactions_remaining, replace = False )\n",
        "              indice_N_one_prot = np.concatenate((indice_freq_one_prot,\n",
        "                                              indice_poss_one_prot, indice_N_one_prot_poss))\n",
        "          else:\n",
        "              # we shoot at random nb_positive_interactions in drugs with a lot of interactions\n",
        "              nb_negative_interactions_remaining = len(indice_P) - len(indice_freq_one_prot) - len(indice_poss_one_prot) - len(indice_freq_one_prot_NK)\n",
        "              #print(\"nb_negative_interactions_remaining\", nb_negative_interactions_remaining) # pas de solution...\n",
        "              #print(indice_poss_one_prot_NK.shape)\n",
        "              indice_N_one_prot_poss = np.random.choice(indice_poss_one_prot_NK,\n",
        "                                                      nb_negative_interactions_remaining, replace = False )\n",
        "              indice_N_one_prot = np.concatenate((indice_freq_one_prot,\n",
        "                                              indice_poss_one_prot, indice_freq_one_prot_NK, indice_N_one_prot_poss))\n",
        "\n",
        "          Mp[indice_N_one_prot.astype(int)]-=1\n",
        "\n",
        "          # this protein has been processed\n",
        "          Mm[j] = 0\n",
        "\n",
        "          indice = np.r_[indice_P,indice_N_one_prot].astype(int)\n",
        "          etiquette = [x if not np.isnan(x) else 0 for x in intMat[j][indice]]\n",
        "          A = np.stack((indice, etiquette), axis=-1)\n",
        "          B = np.c_[np.zeros(A.shape[0])+j,A].astype(int)\n",
        "          train = np.concatenate((train,B))\n",
        "\n",
        "      train = train[1:]\n",
        "      all_train_interactions_arr.append(train)\n",
        "      print(\"train\", train.shape)\n",
        "\n",
        "\n",
        "      # test\n",
        "      #test_index =  np.random.choice(test_index, int(p*len(test_index)), replace=False)\n",
        "      # interactions + in test\n",
        "      indice_P_t = np.c_[Ip[test_index],Jm[test_index], np.ones(len(test_index))].astype(int)\n",
        "\n",
        "      # interactions - in test\n",
        "      a = np.r_[np.c_[Inp,Jnm]] # all the zeros in the matrix (and NK ?)\n",
        "      a1 = set(map(tuple, a))\n",
        "      b = train[:,:2]   # all the interactions in the train\n",
        "      b1 = set(map(tuple, b))\n",
        "      indice_N_t = np.array(list(a1 - b1))#[:indice_P_t.shape[0],:] # we keep the same number of interactions - than interactions + in test, choosing the 0 in the matrix\n",
        "      #print(len(indice_N_t))\n",
        "\n",
        "      # add interactions np.nan in test\n",
        "\n",
        "      if len(indice_N_t) == 0:\n",
        "          # initialization\n",
        "          indice_N_t = np.array([-1, -1]).reshape(1,2)\n",
        "\n",
        "      c = np.r_[np.c_[Inkp,Jnkm]] # all the np.nan in the matrix\n",
        "\n",
        "      if len(indice_N_t) < indice_P_t.shape[0]:\n",
        "          # we add some interactions - in test to have the same number of interactions + and - in test choose in the np.nan in the matrix\n",
        "          k = 0\n",
        "          while len(indice_N_t) < indice_P_t.shape[0]+1:\n",
        "              i = np.random.randint(0, len(c))\n",
        "              if tuple(c[i]) not in b1:\n",
        "                  indice_N_t = np.concatenate((indice_N_t, c[i].reshape(1,2)))\n",
        "                  k += 1\n",
        "\n",
        "      # we drop the first row of indice_N_t if is [-1, -1]\n",
        "      if indice_N_t[0,0] == -1:\n",
        "          indice_N_t = indice_N_t[1:,:]\n",
        "\n",
        "      indice_N_t = indice_N_t[:len(indice_P_t),:]\n",
        "\n",
        "      # we add the column of 0 for the etiquette\n",
        "      indice_N_t = np.c_[indice_N_t, np.zeros(len(indice_N_t))].astype(int)\n",
        "      test = np.r_[indice_P_t,indice_N_t]\n",
        "\n",
        "      all_test_interactions_arr.append(test)\n",
        "      print(\"test\", test.shape)\n",
        "\n",
        "  print(\"Train/test datasets prepared.\")\n",
        "  return all_train_interactions_arr, all_test_interactions_arr"
      ]
    }
  ],
  "metadata": {
    "colab": {
      "provenance": []
    },
    "kernelspec": {
      "display_name": "Python 3",
      "name": "python3"
    },
    "language_info": {
      "codemirror_mode": {
        "name": "ipython",
        "version": 3
      },
      "file_extension": ".py",
      "mimetype": "text/x-python",
      "name": "python",
      "nbconvert_exporter": "python",
      "pygments_lexer": "ipython3",
      "version": "3.7.12"
    }
  },
  "nbformat": 4,
  "nbformat_minor": 0
}

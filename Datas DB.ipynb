{
  "cells": [
    {
      "attachments": {},
      "cell_type": "markdown",
      "metadata": {},
      "source": [
        "# Classification using BFGS -- Pytorch version\n",
        "\n",
        "This notebook details the implementation of a generic ridge-regularized classification solved by direct gradient-based optimization (here quasi-newton). \n",
        "It is implemented in the kernel space, i.e. representing the weights over the space of points."
      ]
    },
    {
      "cell_type": "code",
      "execution_count": 11,
      "metadata": {
        "id": "ij0BFq1STLcv"
      },
      "outputs": [
        {
          "ename": "ModuleNotFoundError",
          "evalue": "No module named 'torch'",
          "output_type": "error",
          "traceback": [
            "\u001b[0;31m---------------------------------------------------------------------------\u001b[0m",
            "\u001b[0;31mModuleNotFoundError\u001b[0m                       Traceback (most recent call last)",
            "\u001b[1;32m/Users/gguichaoua/Dropbox/gwenn/these/TNBC/chemogenomic-git/Datas.ipynb Cellule 2\u001b[0m in \u001b[0;36m<cell line: 3>\u001b[0;34m()\u001b[0m\n\u001b[1;32m      <a href='vscode-notebook-cell:/Users/gguichaoua/Dropbox/gwenn/these/TNBC/chemogenomic-git/Datas.ipynb#W1sZmlsZQ%3D%3D?line=0'>1</a>\u001b[0m get_ipython()\u001b[39m.\u001b[39mrun_line_magic(\u001b[39m'\u001b[39m\u001b[39mload_ext\u001b[39m\u001b[39m'\u001b[39m, \u001b[39m'\u001b[39m\u001b[39mautoreload\u001b[39m\u001b[39m'\u001b[39m)\n\u001b[1;32m      <a href='vscode-notebook-cell:/Users/gguichaoua/Dropbox/gwenn/these/TNBC/chemogenomic-git/Datas.ipynb#W1sZmlsZQ%3D%3D?line=1'>2</a>\u001b[0m get_ipython()\u001b[39m.\u001b[39mrun_line_magic(\u001b[39m'\u001b[39m\u001b[39mautoreload\u001b[39m\u001b[39m'\u001b[39m, \u001b[39m'\u001b[39m\u001b[39m2\u001b[39m\u001b[39m'\u001b[39m)\n\u001b[0;32m----> <a href='vscode-notebook-cell:/Users/gguichaoua/Dropbox/gwenn/these/TNBC/chemogenomic-git/Datas.ipynb#W1sZmlsZQ%3D%3D?line=2'>3</a>\u001b[0m \u001b[39mimport\u001b[39;00m \u001b[39mtorch\u001b[39;00m\n\u001b[1;32m      <a href='vscode-notebook-cell:/Users/gguichaoua/Dropbox/gwenn/these/TNBC/chemogenomic-git/Datas.ipynb#W1sZmlsZQ%3D%3D?line=3'>4</a>\u001b[0m \u001b[39mimport\u001b[39;00m \u001b[39mtorch\u001b[39;00m\u001b[39m.\u001b[39;00m\u001b[39moptim\u001b[39;00m \u001b[39mas\u001b[39;00m \u001b[39moptim\u001b[39;00m\n\u001b[1;32m      <a href='vscode-notebook-cell:/Users/gguichaoua/Dropbox/gwenn/these/TNBC/chemogenomic-git/Datas.ipynb#W1sZmlsZQ%3D%3D?line=4'>5</a>\u001b[0m \u001b[39mimport\u001b[39;00m \u001b[39mmatplotlib\u001b[39;00m\u001b[39m.\u001b[39;00m\u001b[39mpyplot\u001b[39;00m \u001b[39mas\u001b[39;00m \u001b[39mplt\u001b[39;00m\n",
            "\u001b[0;31mModuleNotFoundError\u001b[0m: No module named 'torch'"
          ]
        }
      ],
      "source": [
        "%load_ext autoreload\n",
        "%autoreload 2\n",
        "import torch\n",
        "import torch.optim as optim\n",
        "import matplotlib.pyplot as plt\n",
        "import numpy as np\n",
        "from sklearn import svm\n",
        "\n",
        "device = torch.device(\"cuda:0\" if torch.cuda.is_available() else \"cpu\")\n",
        "device_cpu = torch.device(\"cpu\")\n",
        "device_cpu = device\n",
        "print( device )\n",
        "\n",
        "mytype = torch.float16 # to save memory (only on GPU)\n",
        "mytype = torch.float32"
      ]
    },
    {
      "attachments": {},
      "cell_type": "markdown",
      "metadata": {
        "id": "I_pKDD-zj7Fa"
      },
      "source": [
        "# Data"
      ]
    },
    {
      "cell_type": "code",
      "execution_count": 2,
      "metadata": {},
      "outputs": [
        {
          "name": "stdout",
          "output_type": "stream",
          "text": [
            "The autoreload extension is already loaded. To reload it, use:\n",
            "  %reload_ext autoreload\n"
          ]
        }
      ],
      "source": [
        "%load_ext autoreload\n",
        "%autoreload 2\n",
        "\n",
        "import utils\n",
        "from utils import load_data"
      ]
    },
    {
      "cell_type": "code",
      "execution_count": 22,
      "metadata": {},
      "outputs": [
        {
          "name": "stdout",
          "output_type": "stream",
          "text": [
            "(13717, 7)\n"
          ]
        },
        {
          "data": {
            "text/html": [
              "<div>\n",
              "<style scoped>\n",
              "    .dataframe tbody tr th:only-of-type {\n",
              "        vertical-align: middle;\n",
              "    }\n",
              "\n",
              "    .dataframe tbody tr th {\n",
              "        vertical-align: top;\n",
              "    }\n",
              "\n",
              "    .dataframe thead th {\n",
              "        text-align: right;\n",
              "    }\n",
              "</style>\n",
              "<table border=\"1\" class=\"dataframe\">\n",
              "  <thead>\n",
              "    <tr style=\"text-align: right;\">\n",
              "      <th></th>\n",
              "      <th>uniprot</th>\n",
              "      <th>DBid</th>\n",
              "      <th>smiles</th>\n",
              "      <th>ind2mol</th>\n",
              "      <th>fasta</th>\n",
              "      <th>ind2prot</th>\n",
              "      <th>inter</th>\n",
              "    </tr>\n",
              "  </thead>\n",
              "  <tbody>\n",
              "    <tr>\n",
              "      <th>0</th>\n",
              "      <td>A0A024R8I1</td>\n",
              "      <td>DB00381</td>\n",
              "      <td>CCOC(=O)C1=C(COCCN)NC(C)=C(C1C1=CC=CC=C1Cl)C(=...</td>\n",
              "      <td>213</td>\n",
              "      <td>MVRFGDELGGRYGGPGGGERARGGGAGGAGGPGPGGLQPGQRVLYK...</td>\n",
              "      <td>0</td>\n",
              "      <td>1</td>\n",
              "    </tr>\n",
              "    <tr>\n",
              "      <th>1</th>\n",
              "      <td>A0A024R8I1</td>\n",
              "      <td>DB00996</td>\n",
              "      <td>NCC1(CC(O)=O)CCCCC1</td>\n",
              "      <td>686</td>\n",
              "      <td>MVRFGDELGGRYGGPGGGERARGGGAGGAGGPGPGGLQPGQRVLYK...</td>\n",
              "      <td>0</td>\n",
              "      <td>1</td>\n",
              "    </tr>\n",
              "    <tr>\n",
              "      <th>2</th>\n",
              "      <td>A1L3X4</td>\n",
              "      <td>DB12965</td>\n",
              "      <td>[Ag]</td>\n",
              "      <td>4672</td>\n",
              "      <td>MDLSCSCATGGSCTCASSCKCKEYKCTSCKKNCCSCCPMGCAKCAQGCT</td>\n",
              "      <td>1</td>\n",
              "      <td>1</td>\n",
              "    </tr>\n",
              "    <tr>\n",
              "      <th>3</th>\n",
              "      <td>A5X5Y0</td>\n",
              "      <td>DB00715</td>\n",
              "      <td>FC1=CC=C(C=C1)[C@@H]1CCNC[C@H]1COC1=CC2=C(OCO2...</td>\n",
              "      <td>462</td>\n",
              "      <td>MEGSWFHRKRFSFYLLLGFLLQGRGVTFTINCSGFGQHGADPTALN...</td>\n",
              "      <td>2</td>\n",
              "      <td>1</td>\n",
              "    </tr>\n",
              "    <tr>\n",
              "      <th>4</th>\n",
              "      <td>A5X5Y0</td>\n",
              "      <td>DB09304</td>\n",
              "      <td>CN1CCC2=C(C1)C1=CC=CC=C1CC1=CC=CC=C21</td>\n",
              "      <td>4467</td>\n",
              "      <td>MEGSWFHRKRFSFYLLLGFLLQGRGVTFTINCSGFGQHGADPTALN...</td>\n",
              "      <td>2</td>\n",
              "      <td>1</td>\n",
              "    </tr>\n",
              "  </tbody>\n",
              "</table>\n",
              "</div>"
            ],
            "text/plain": [
              "      uniprot     DBid                                             smiles  \\\n",
              "0  A0A024R8I1  DB00381  CCOC(=O)C1=C(COCCN)NC(C)=C(C1C1=CC=CC=C1Cl)C(=...   \n",
              "1  A0A024R8I1  DB00996                                NCC1(CC(O)=O)CCCCC1   \n",
              "2      A1L3X4  DB12965                                               [Ag]   \n",
              "3      A5X5Y0  DB00715  FC1=CC=C(C=C1)[C@@H]1CCNC[C@H]1COC1=CC2=C(OCO2...   \n",
              "4      A5X5Y0  DB09304              CN1CCC2=C(C1)C1=CC=CC=C1CC1=CC=CC=C21   \n",
              "\n",
              "   ind2mol                                              fasta  ind2prot  inter  \n",
              "0      213  MVRFGDELGGRYGGPGGGERARGGGAGGAGGPGPGGLQPGQRVLYK...         0      1  \n",
              "1      686  MVRFGDELGGRYGGPGGGERARGGGAGGAGGPGPGGLQPGQRVLYK...         0      1  \n",
              "2     4672  MDLSCSCATGGSCTCASSCKCKEYKCTSCKKNCCSCCPMGCAKCAQGCT         1      1  \n",
              "3      462  MEGSWFHRKRFSFYLLLGFLLQGRGVTFTINCSGFGQHGADPTALN...         2      1  \n",
              "4     4467  MEGSWFHRKRFSFYLLLGFLLQGRGVTFTINCSGFGQHGADPTALN...         2      1  "
            ]
          },
          "execution_count": 22,
          "metadata": {},
          "output_type": "execute_result"
        }
      ],
      "source": [
        "df_DB = load_data()\n",
        "print(df_DB.shape)\n",
        "df_DB.head()"
      ]
    },
    {
      "cell_type": "code",
      "execution_count": 23,
      "metadata": {},
      "outputs": [
        {
          "data": {
            "text/html": [
              "<div>\n",
              "<style scoped>\n",
              "    .dataframe tbody tr th:only-of-type {\n",
              "        vertical-align: middle;\n",
              "    }\n",
              "\n",
              "    .dataframe tbody tr th {\n",
              "        vertical-align: top;\n",
              "    }\n",
              "\n",
              "    .dataframe thead th {\n",
              "        text-align: right;\n",
              "    }\n",
              "</style>\n",
              "<table border=\"1\" class=\"dataframe\">\n",
              "  <thead>\n",
              "    <tr style=\"text-align: right;\">\n",
              "      <th></th>\n",
              "      <th>uniprot</th>\n",
              "      <th>DBid</th>\n",
              "      <th>smiles</th>\n",
              "      <th>ind2mol</th>\n",
              "      <th>fasta</th>\n",
              "      <th>ind2prot</th>\n",
              "      <th>inter</th>\n",
              "    </tr>\n",
              "  </thead>\n",
              "  <tbody>\n",
              "  </tbody>\n",
              "</table>\n",
              "</div>"
            ],
            "text/plain": [
              "Empty DataFrame\n",
              "Columns: [uniprot, DBid, smiles, ind2mol, fasta, ind2prot, inter]\n",
              "Index: []"
            ]
          },
          "execution_count": 23,
          "metadata": {},
          "output_type": "execute_result"
        }
      ],
      "source": [
        "df_DB[df_DB[\"smiles\"] ==\"NC1=C(C2=C(N)N=C(N)N=C2C=C1)[Cl](=O)=O\"]\n",
        "# drop the 2 molecules with the same smiles\n",
        "df_DB = df_DB.drop(12222)\n",
        "df_DB[df_DB[\"smiles\"] ==\"NC1=C(C2=C(N)N=C(N)N=C2C=C1)[Cl](=O)=O\"]\n"
      ]
    },
    {
      "cell_type": "code",
      "execution_count": 24,
      "metadata": {},
      "outputs": [
        {
          "data": {
            "text/plain": [
              "(13716, 7)"
            ]
          },
          "execution_count": 24,
          "metadata": {},
          "output_type": "execute_result"
        }
      ],
      "source": [
        "df_DB.shape"
      ]
    },
    {
      "cell_type": "code",
      "execution_count": 25,
      "metadata": {},
      "outputs": [],
      "source": [
        "df_DB.to_csv('data/drugbank.csv', index=False)"
      ]
    },
    {
      "attachments": {},
      "cell_type": "markdown",
      "metadata": {},
      "source": [
        "## Kprot"
      ]
    },
    {
      "cell_type": "code",
      "execution_count": 26,
      "metadata": {},
      "outputs": [],
      "source": [
        "import pickle\n",
        "with open('data/drugbank_K_prot.data', 'rb') as f:\n",
        "        K_prot = pickle.load(f)"
      ]
    },
    {
      "cell_type": "code",
      "execution_count": 27,
      "metadata": {},
      "outputs": [
        {
          "data": {
            "text/plain": [
              "(2513, 2513)"
            ]
          },
          "execution_count": 27,
          "metadata": {},
          "output_type": "execute_result"
        }
      ],
      "source": [
        "K_prot.shape"
      ]
    },
    {
      "attachments": {},
      "cell_type": "markdown",
      "metadata": {},
      "source": [
        "## liste des 4814 smiles"
      ]
    },
    {
      "cell_type": "code",
      "execution_count": 28,
      "metadata": {},
      "outputs": [
        {
          "data": {
            "text/plain": [
              "4813"
            ]
          },
          "execution_count": 28,
          "metadata": {},
          "output_type": "execute_result"
        }
      ],
      "source": [
        "# same in zip format\n",
        "import pandas as pd\n",
        "import zipfile\n",
        "zf = zipfile.ZipFile('data/drugbank.csv.zip') \n",
        "df = pd.read_csv(zf.open('drugbank.csv'),low_memory=False)\n",
        "df_p = df[df['inter'] == True]\n",
        "#list of smiles strings\n",
        "smiles = df_p['smiles'].drop_duplicates().values\n",
        "len(smiles)"
      ]
    },
    {
      "cell_type": "code",
      "execution_count": 29,
      "metadata": {},
      "outputs": [
        {
          "name": "stderr",
          "output_type": "stream",
          "text": [
            "[22:22:02] Unusual charge on atom 0 number of radical electrons set to zero\n"
          ]
        }
      ],
      "source": [
        "from rdkit import Chem\n",
        "from rdkit.Chem import AllChem\n",
        "\n",
        "import numpy as np\n",
        "\n",
        "nM =  len(smiles)\n",
        "MorganFP = np.zeros((nM,1024))\n",
        "for i in range(nM):\n",
        "    # Convert SMILES to RDKit molecule object\n",
        "    mol = Chem.MolFromSmiles(smiles[i])    \n",
        "    # Generate Morgan fingerprint of the molecule\n",
        "    fp = AllChem.GetMorganFingerprintAsBitVect(mol, 2, nBits=1024)\n",
        "    # Convert the fingerprint to a numpy array\n",
        "    arr = np.zeros((1,))\n",
        "    AllChem.DataStructs.ConvertToNumpyArray(fp, arr)\n",
        "    MorganFP[i,:] = arr\n",
        "MorganFP = MorganFP.astype(int)"
      ]
    },
    {
      "cell_type": "code",
      "execution_count": 30,
      "metadata": {},
      "outputs": [],
      "source": [
        "import Nystrom_method\n",
        "from  Nystrom_method import nystroem,KronKernel\n",
        "# random list of molecules \n",
        "kM = 4814 # number of molecule to compute nystrom\n",
        "rM = 1000 # final dimension of features\n",
        "I = np.random.permutation(nM)\n",
        "I = I[:kM]"
      ]
    },
    {
      "cell_type": "code",
      "execution_count": 31,
      "metadata": {},
      "outputs": [],
      "source": [
        "# compute Tanimoto kernel \n",
        "Km = ( MorganFP[I,:] @ MorganFP.T ) / ( 1024 - (1-MorganFP[I,:]) @ (1-MorganFP.T) )"
      ]
    },
    {
      "cell_type": "code",
      "execution_count": 32,
      "metadata": {},
      "outputs": [],
      "source": [
        "Xm,Lambda,LambdaC = nystroem(np.concatenate((Km[:,I], Km), axis=1),rM)"
      ]
    },
    {
      "attachments": {},
      "cell_type": "markdown",
      "metadata": {},
      "source": [
        "## liste des indices protéines/molécules avec que des 1"
      ]
    },
    {
      "cell_type": "code",
      "execution_count": 34,
      "metadata": {},
      "outputs": [
        {
          "name": "stdout",
          "output_type": "stream",
          "text": [
            "13716\n",
            "13716\n"
          ]
        }
      ],
      "source": [
        "# protein indices\n",
        "J = df_p['ind2prot'].values\n",
        "print(len(J))\n",
        "# molecules indices\n",
        "I = df_p['ind2mol'].values\n",
        "print(len(I))"
      ]
    },
    {
      "attachments": {},
      "cell_type": "markdown",
      "metadata": {},
      "source": [
        "## train/test avec indices protéines/molécules et interactions balanced\n",
        "\n",
        "en premier l'indice de la protéine, puis l'indice du ligand puis l'interaction"
      ]
    },
    {
      "cell_type": "code",
      "execution_count": 39,
      "metadata": {},
      "outputs": [],
      "source": [
        "# change name of the column 'ind2prot' in 'indfasta' in df\n",
        "df_name = df.rename(columns={'ind2prot': 'indfasta', 'ind2mol': 'indsmiles', 'inter': 'score'})"
      ]
    },
    {
      "cell_type": "code",
      "execution_count": 40,
      "metadata": {},
      "outputs": [
        {
          "name": "stdout",
          "output_type": "stream",
          "text": [
            "train (21944, 3)\n",
            "test (5488, 3)\n",
            "train (21946, 3)\n",
            "test (5486, 3)\n",
            "train (21946, 3)\n",
            "test (5486, 3)\n",
            "train (21946, 3)\n",
            "test (5486, 3)\n",
            "train (21946, 3)\n",
            "test (5486, 3)\n",
            "Train/test datasets prepared.\n"
          ]
        }
      ],
      "source": [
        "from utils import make_train_test\n",
        "\n",
        "all_train_interactions_arr, all_test_interactions_arr = make_train_test(df_name,5,1)"
      ]
    },
    {
      "cell_type": "code",
      "execution_count": null,
      "metadata": {},
      "outputs": [],
      "source": []
    }
  ],
  "metadata": {
    "colab": {
      "provenance": []
    },
    "kernelspec": {
      "display_name": "Python 3",
      "name": "python3"
    },
    "language_info": {
      "codemirror_mode": {
        "name": "ipython",
        "version": 3
      },
      "file_extension": ".py",
      "mimetype": "text/x-python",
      "name": "python",
      "nbconvert_exporter": "python",
      "pygments_lexer": "ipython3",
      "version": "3.9.13"
    }
  },
  "nbformat": 4,
  "nbformat_minor": 0
}

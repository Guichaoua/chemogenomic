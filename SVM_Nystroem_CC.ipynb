{
  "cells": [
    {
      "cell_type": "code",
      "execution_count": 1,
      "metadata": {
        "colab": {
          "base_uri": "https://localhost:8080/"
        },
        "id": "mOmX08VBb83O",
        "outputId": "16f2067a-cd7f-4e7c-9347-879ed5432f98"
      },
      "outputs": [
        {
          "output_type": "stream",
          "name": "stdout",
          "text": [
            "cuda:0\n"
          ]
        }
      ],
      "source": [
        "%load_ext autoreload\n",
        "%autoreload 2\n",
        "import torch\n",
        "import torch.optim as optim\n",
        "import matplotlib.pyplot as plt\n",
        "import numpy as np\n",
        "from sklearn import svm\n",
        "import time \n",
        "\n",
        "device = torch.device(\"cuda:0\" if torch.cuda.is_available() else \"cpu\")\n",
        "device_cpu = torch.device(\"cpu\")\n",
        "device_cpu = device\n",
        "print( device )\n",
        "\n",
        "mytype = torch.float16 # to save memory (only on GPU)\n",
        "mytype = torch.float32\n"
      ]
    },
    {
      "cell_type": "code",
      "execution_count": 2,
      "metadata": {
        "colab": {
          "base_uri": "https://localhost:8080/"
        },
        "id": "i14SEuG-gpif",
        "outputId": "f2d41f2e-232b-41c6-c355-955603819318"
      },
      "outputs": [
        {
          "output_type": "stream",
          "name": "stdout",
          "text": [
            "Looking in indexes: https://pypi.org/simple, https://us-python.pkg.dev/colab-wheels/public/simple/\n",
            "Collecting rdkit\n",
            "  Downloading rdkit-2022.9.5-cp39-cp39-manylinux_2_17_x86_64.manylinux2014_x86_64.whl (29.4 MB)\n",
            "\u001b[2K     \u001b[90m━━━━━━━━━━━━━━━━━━━━━━━━━━━━━━━━━━━━━━━━\u001b[0m \u001b[32m29.4/29.4 MB\u001b[0m \u001b[31m39.7 MB/s\u001b[0m eta \u001b[36m0:00:00\u001b[0m\n",
            "\u001b[?25hRequirement already satisfied: Pillow in /usr/local/lib/python3.9/dist-packages (from rdkit) (8.4.0)\n",
            "Requirement already satisfied: numpy in /usr/local/lib/python3.9/dist-packages (from rdkit) (1.22.4)\n",
            "Installing collected packages: rdkit\n",
            "Successfully installed rdkit-2022.9.5\n"
          ]
        }
      ],
      "source": [
        "!pip install rdkit"
      ]
    },
    {
      "cell_type": "markdown",
      "metadata": {
        "id": "Ikcs2o-RgW7Y"
      },
      "source": [
        "# Download the data from a GitHub repo."
      ]
    },
    {
      "cell_type": "code",
      "source": [
        "!mkdir data/\n",
        "!wget -q https://github.com/Guichaoua/chemogenomic/raw/main/data/CC_all2_base_K_prot.data\n",
        "!mv CC_all2_base_K_prot.data data/\n",
        "!wget -q https://github.com/Guichaoua/chemogenomic/raw/main/data/Consensus_CompoundBioactivity_Dataset_v1.1_Sh2_all2.csv.zip\n",
        "!mv Consensus_CompoundBioactivity_Dataset_v1.1_Sh2_all2.csv.zip data/\n",
        "!wget -q https://github.com/Guichaoua/chemogenomic/raw/main/data/CC_train_arr.data\n",
        "!mv CC_train_arr.data data/\n",
        "!wget -q https://github.com/Guichaoua/chemogenomic/raw/main/data/CC_test_arr.data\n",
        "!mv CC_test_arr.data data/"
      ],
      "metadata": {
        "id": "duivdUPS0Qtf"
      },
      "execution_count": 3,
      "outputs": []
    },
    {
      "cell_type": "code",
      "execution_count": 4,
      "metadata": {
        "colab": {
          "base_uri": "https://localhost:8080/",
          "height": 374
        },
        "id": "3JwwqqaKVYNC",
        "outputId": "a65e842a-ffa9-4535-8463-4896bb1886d6"
      },
      "outputs": [
        {
          "output_type": "execute_result",
          "data": {
            "text/plain": [
              "                                smiles  \\\n",
              "0  BrC1CCN(Cc2ccc(OCCCN3CCCCC3)cc2)CC1   \n",
              "1             BrCC(Br)C1CCC(Br)C(Br)C1   \n",
              "2       Brc1c(C2=CN3CCC2CC3)oc2ccccc12   \n",
              "3       Brc1c(C2=CN3CCC2CC3)oc2ccccc12   \n",
              "4       Brc1c(C2=CN3CCC2CC3)oc2ccccc12   \n",
              "\n",
              "                                               fasta     ChEMBL ID  \\\n",
              "0  MERAPPDGPLNASGALAGEAAAAGGARGFSAAWTAVLAALMALLIV...  CHEMBL472466   \n",
              "1  MEVQLGLGRVYPRPPSKTYRGAFQNLFQSVREVIQNPGPRHPEAAS...  CHEMBL375107   \n",
              "2  MANFTPVNGSSGNQSVRLVTSSSHNRYETVEMVFIATVTGSLSLVT...  CHEMBL415510   \n",
              "3  MEGDSYHNATTVNGTPVNHQPLERHRLWEVITIAAVTAVVSLITIV...  CHEMBL415510   \n",
              "4  MNNSTNSSNNSLALTSPYKTFEVVFIVLVAGSLSLVTIIGNILVMV...  CHEMBL415510   \n",
              "\n",
              "   PubChem ID IUPHAR ID                                       Ligand names  \\\n",
              "0  44592131.0       NaN  4-bromo-1-(4-(3-(piperidin-1-yl)propoxy)benzyl...   \n",
              "1     18728.0       NaN  1,2-dibromo-4-(1,2-dibromoethyl)cyclohexane\\nn...   \n",
              "2  10494696.0       NaN  3-(3-bromo-benzofuran-2-yl)-1-aza-bicyclo[2.2....   \n",
              "3  10494696.0       NaN  3-(3-bromo-benzofuran-2-yl)-1-aza-bicyclo[2.2....   \n",
              "4  10494696.0       NaN  3-(3-bromo-benzofuran-2-yl)-1-aza-bicyclo[2.2....   \n",
              "\n",
              "  Target uniprot  mean  pIC50  pKi  pKd  measure  score  interaction+  \\\n",
              "0   hrh3  Q9Y5N1   9.7    NaN  9.7  NaN      9.7    1.0          True   \n",
              "1     ar  P10275   7.4    7.4  NaN  NaN      7.4    1.0          True   \n",
              "2  chrm4  P08173   7.0    NaN  7.0  NaN      7.0    1.0          True   \n",
              "3  chrm5  P08912   7.0    NaN  7.0  NaN      7.0    1.0          True   \n",
              "4  chrm2  P08172   7.0    NaN  7.0  NaN      7.0    1.0          True   \n",
              "\n",
              "   indsmiles  indfasta  \n",
              "0        0.0       0.0  \n",
              "1        1.0       1.0  \n",
              "2        2.0       2.0  \n",
              "3        2.0       3.0  \n",
              "4        2.0       4.0  "
            ],
            "text/html": [
              "\n",
              "  <div id=\"df-8cce5945-d292-45e5-a8ee-f73af6fcfec2\">\n",
              "    <div class=\"colab-df-container\">\n",
              "      <div>\n",
              "<style scoped>\n",
              "    .dataframe tbody tr th:only-of-type {\n",
              "        vertical-align: middle;\n",
              "    }\n",
              "\n",
              "    .dataframe tbody tr th {\n",
              "        vertical-align: top;\n",
              "    }\n",
              "\n",
              "    .dataframe thead th {\n",
              "        text-align: right;\n",
              "    }\n",
              "</style>\n",
              "<table border=\"1\" class=\"dataframe\">\n",
              "  <thead>\n",
              "    <tr style=\"text-align: right;\">\n",
              "      <th></th>\n",
              "      <th>smiles</th>\n",
              "      <th>fasta</th>\n",
              "      <th>ChEMBL ID</th>\n",
              "      <th>PubChem ID</th>\n",
              "      <th>IUPHAR ID</th>\n",
              "      <th>Ligand names</th>\n",
              "      <th>Target</th>\n",
              "      <th>uniprot</th>\n",
              "      <th>mean</th>\n",
              "      <th>pIC50</th>\n",
              "      <th>pKi</th>\n",
              "      <th>pKd</th>\n",
              "      <th>measure</th>\n",
              "      <th>score</th>\n",
              "      <th>interaction+</th>\n",
              "      <th>indsmiles</th>\n",
              "      <th>indfasta</th>\n",
              "    </tr>\n",
              "  </thead>\n",
              "  <tbody>\n",
              "    <tr>\n",
              "      <th>0</th>\n",
              "      <td>BrC1CCN(Cc2ccc(OCCCN3CCCCC3)cc2)CC1</td>\n",
              "      <td>MERAPPDGPLNASGALAGEAAAAGGARGFSAAWTAVLAALMALLIV...</td>\n",
              "      <td>CHEMBL472466</td>\n",
              "      <td>44592131.0</td>\n",
              "      <td>NaN</td>\n",
              "      <td>4-bromo-1-(4-(3-(piperidin-1-yl)propoxy)benzyl...</td>\n",
              "      <td>hrh3</td>\n",
              "      <td>Q9Y5N1</td>\n",
              "      <td>9.7</td>\n",
              "      <td>NaN</td>\n",
              "      <td>9.7</td>\n",
              "      <td>NaN</td>\n",
              "      <td>9.7</td>\n",
              "      <td>1.0</td>\n",
              "      <td>True</td>\n",
              "      <td>0.0</td>\n",
              "      <td>0.0</td>\n",
              "    </tr>\n",
              "    <tr>\n",
              "      <th>1</th>\n",
              "      <td>BrCC(Br)C1CCC(Br)C(Br)C1</td>\n",
              "      <td>MEVQLGLGRVYPRPPSKTYRGAFQNLFQSVREVIQNPGPRHPEAAS...</td>\n",
              "      <td>CHEMBL375107</td>\n",
              "      <td>18728.0</td>\n",
              "      <td>NaN</td>\n",
              "      <td>1,2-dibromo-4-(1,2-dibromoethyl)cyclohexane\\nn...</td>\n",
              "      <td>ar</td>\n",
              "      <td>P10275</td>\n",
              "      <td>7.4</td>\n",
              "      <td>7.4</td>\n",
              "      <td>NaN</td>\n",
              "      <td>NaN</td>\n",
              "      <td>7.4</td>\n",
              "      <td>1.0</td>\n",
              "      <td>True</td>\n",
              "      <td>1.0</td>\n",
              "      <td>1.0</td>\n",
              "    </tr>\n",
              "    <tr>\n",
              "      <th>2</th>\n",
              "      <td>Brc1c(C2=CN3CCC2CC3)oc2ccccc12</td>\n",
              "      <td>MANFTPVNGSSGNQSVRLVTSSSHNRYETVEMVFIATVTGSLSLVT...</td>\n",
              "      <td>CHEMBL415510</td>\n",
              "      <td>10494696.0</td>\n",
              "      <td>NaN</td>\n",
              "      <td>3-(3-bromo-benzofuran-2-yl)-1-aza-bicyclo[2.2....</td>\n",
              "      <td>chrm4</td>\n",
              "      <td>P08173</td>\n",
              "      <td>7.0</td>\n",
              "      <td>NaN</td>\n",
              "      <td>7.0</td>\n",
              "      <td>NaN</td>\n",
              "      <td>7.0</td>\n",
              "      <td>1.0</td>\n",
              "      <td>True</td>\n",
              "      <td>2.0</td>\n",
              "      <td>2.0</td>\n",
              "    </tr>\n",
              "    <tr>\n",
              "      <th>3</th>\n",
              "      <td>Brc1c(C2=CN3CCC2CC3)oc2ccccc12</td>\n",
              "      <td>MEGDSYHNATTVNGTPVNHQPLERHRLWEVITIAAVTAVVSLITIV...</td>\n",
              "      <td>CHEMBL415510</td>\n",
              "      <td>10494696.0</td>\n",
              "      <td>NaN</td>\n",
              "      <td>3-(3-bromo-benzofuran-2-yl)-1-aza-bicyclo[2.2....</td>\n",
              "      <td>chrm5</td>\n",
              "      <td>P08912</td>\n",
              "      <td>7.0</td>\n",
              "      <td>NaN</td>\n",
              "      <td>7.0</td>\n",
              "      <td>NaN</td>\n",
              "      <td>7.0</td>\n",
              "      <td>1.0</td>\n",
              "      <td>True</td>\n",
              "      <td>2.0</td>\n",
              "      <td>3.0</td>\n",
              "    </tr>\n",
              "    <tr>\n",
              "      <th>4</th>\n",
              "      <td>Brc1c(C2=CN3CCC2CC3)oc2ccccc12</td>\n",
              "      <td>MNNSTNSSNNSLALTSPYKTFEVVFIVLVAGSLSLVTIIGNILVMV...</td>\n",
              "      <td>CHEMBL415510</td>\n",
              "      <td>10494696.0</td>\n",
              "      <td>NaN</td>\n",
              "      <td>3-(3-bromo-benzofuran-2-yl)-1-aza-bicyclo[2.2....</td>\n",
              "      <td>chrm2</td>\n",
              "      <td>P08172</td>\n",
              "      <td>7.0</td>\n",
              "      <td>NaN</td>\n",
              "      <td>7.0</td>\n",
              "      <td>NaN</td>\n",
              "      <td>7.0</td>\n",
              "      <td>1.0</td>\n",
              "      <td>True</td>\n",
              "      <td>2.0</td>\n",
              "      <td>4.0</td>\n",
              "    </tr>\n",
              "  </tbody>\n",
              "</table>\n",
              "</div>\n",
              "      <button class=\"colab-df-convert\" onclick=\"convertToInteractive('df-8cce5945-d292-45e5-a8ee-f73af6fcfec2')\"\n",
              "              title=\"Convert this dataframe to an interactive table.\"\n",
              "              style=\"display:none;\">\n",
              "        \n",
              "  <svg xmlns=\"http://www.w3.org/2000/svg\" height=\"24px\"viewBox=\"0 0 24 24\"\n",
              "       width=\"24px\">\n",
              "    <path d=\"M0 0h24v24H0V0z\" fill=\"none\"/>\n",
              "    <path d=\"M18.56 5.44l.94 2.06.94-2.06 2.06-.94-2.06-.94-.94-2.06-.94 2.06-2.06.94zm-11 1L8.5 8.5l.94-2.06 2.06-.94-2.06-.94L8.5 2.5l-.94 2.06-2.06.94zm10 10l.94 2.06.94-2.06 2.06-.94-2.06-.94-.94-2.06-.94 2.06-2.06.94z\"/><path d=\"M17.41 7.96l-1.37-1.37c-.4-.4-.92-.59-1.43-.59-.52 0-1.04.2-1.43.59L10.3 9.45l-7.72 7.72c-.78.78-.78 2.05 0 2.83L4 21.41c.39.39.9.59 1.41.59.51 0 1.02-.2 1.41-.59l7.78-7.78 2.81-2.81c.8-.78.8-2.07 0-2.86zM5.41 20L4 18.59l7.72-7.72 1.47 1.35L5.41 20z\"/>\n",
              "  </svg>\n",
              "      </button>\n",
              "      \n",
              "  <style>\n",
              "    .colab-df-container {\n",
              "      display:flex;\n",
              "      flex-wrap:wrap;\n",
              "      gap: 12px;\n",
              "    }\n",
              "\n",
              "    .colab-df-convert {\n",
              "      background-color: #E8F0FE;\n",
              "      border: none;\n",
              "      border-radius: 50%;\n",
              "      cursor: pointer;\n",
              "      display: none;\n",
              "      fill: #1967D2;\n",
              "      height: 32px;\n",
              "      padding: 0 0 0 0;\n",
              "      width: 32px;\n",
              "    }\n",
              "\n",
              "    .colab-df-convert:hover {\n",
              "      background-color: #E2EBFA;\n",
              "      box-shadow: 0px 1px 2px rgba(60, 64, 67, 0.3), 0px 1px 3px 1px rgba(60, 64, 67, 0.15);\n",
              "      fill: #174EA6;\n",
              "    }\n",
              "\n",
              "    [theme=dark] .colab-df-convert {\n",
              "      background-color: #3B4455;\n",
              "      fill: #D2E3FC;\n",
              "    }\n",
              "\n",
              "    [theme=dark] .colab-df-convert:hover {\n",
              "      background-color: #434B5C;\n",
              "      box-shadow: 0px 1px 3px 1px rgba(0, 0, 0, 0.15);\n",
              "      filter: drop-shadow(0px 1px 2px rgba(0, 0, 0, 0.3));\n",
              "      fill: #FFFFFF;\n",
              "    }\n",
              "  </style>\n",
              "\n",
              "      <script>\n",
              "        const buttonEl =\n",
              "          document.querySelector('#df-8cce5945-d292-45e5-a8ee-f73af6fcfec2 button.colab-df-convert');\n",
              "        buttonEl.style.display =\n",
              "          google.colab.kernel.accessAllowed ? 'block' : 'none';\n",
              "\n",
              "        async function convertToInteractive(key) {\n",
              "          const element = document.querySelector('#df-8cce5945-d292-45e5-a8ee-f73af6fcfec2');\n",
              "          const dataTable =\n",
              "            await google.colab.kernel.invokeFunction('convertToInteractive',\n",
              "                                                     [key], {});\n",
              "          if (!dataTable) return;\n",
              "\n",
              "          const docLinkHtml = 'Like what you see? Visit the ' +\n",
              "            '<a target=\"_blank\" href=https://colab.research.google.com/notebooks/data_table.ipynb>data table notebook</a>'\n",
              "            + ' to learn more about interactive tables.';\n",
              "          element.innerHTML = '';\n",
              "          dataTable['output_type'] = 'display_data';\n",
              "          await google.colab.output.renderOutput(dataTable, element);\n",
              "          const docLink = document.createElement('div');\n",
              "          docLink.innerHTML = docLinkHtml;\n",
              "          element.appendChild(docLink);\n",
              "        }\n",
              "      </script>\n",
              "    </div>\n",
              "  </div>\n",
              "  "
            ]
          },
          "metadata": {},
          "execution_count": 4
        }
      ],
      "source": [
        "import pandas as pd\n",
        "import zipfile\n",
        "base_name = 'Consensus_CompoundBioactivity_Dataset_v1.1_Sh2_all2'\n",
        "zf = zipfile.ZipFile('data/' + base_name + '.csv.zip') \n",
        "df = pd.read_csv(zf.open(base_name + '.csv'),low_memory=False)\n",
        "df.rename(columns={'standardized smiles':'smiles'}, inplace=True)\n",
        "df.head()"
      ]
    },
    {
      "cell_type": "code",
      "source": [
        "df_p = df[df['interaction+'] == True]\n",
        "#list of smiles strings\n",
        "dict_ind2smiles = df_p[['indsmiles','smiles']].set_index('indsmiles').to_dict()['smiles']\n",
        "# ordonner les indices suivant les ind2mol\n",
        "dict_ind2smiles = {k:dict_ind2smiles[k] for k in sorted(dict_ind2smiles.keys())}\n",
        "print(len(dict_ind2smiles))\n",
        "smiles = list(dict_ind2smiles.values())\n",
        "len(smiles)"
      ],
      "metadata": {
        "colab": {
          "base_uri": "https://localhost:8080/"
        },
        "id": "EIMlS-P83C7_",
        "outputId": "6fa274cc-dd0f-4aa4-8da4-36fdbe56ef17"
      },
      "execution_count": 5,
      "outputs": [
        {
          "output_type": "stream",
          "name": "stdout",
          "text": [
            "152844\n"
          ]
        },
        {
          "output_type": "execute_result",
          "data": {
            "text/plain": [
              "152844"
            ]
          },
          "metadata": {},
          "execution_count": 5
        }
      ]
    },
    {
      "cell_type": "markdown",
      "metadata": {
        "id": "zJsGFqTPgt3e"
      },
      "source": [
        "# mol kernel\n",
        "Compute all Morgan Fingerprints."
      ]
    },
    {
      "cell_type": "code",
      "execution_count": 6,
      "metadata": {
        "colab": {
          "base_uri": "https://localhost:8080/"
        },
        "id": "xg84GZS4Z8cp",
        "outputId": "718937ca-aef8-48e5-d292-2feaeeefca59"
      },
      "outputs": [
        {
          "output_type": "stream",
          "name": "stderr",
          "text": [
            "100% (152844 of 152844) |################| Elapsed Time: 0:01:17 Time:  0:01:17\n"
          ]
        }
      ],
      "source": [
        "from rdkit import Chem\n",
        "from rdkit.Chem import AllChem\n",
        "import progressbar\n",
        "nM =  len(smiles) #100000 #\n",
        "MorganFP = np.zeros((nM,1024))\n",
        "for i in progressbar.progressbar(range(nM)):\n",
        "    # Convert SMILES to RDKit molecule object\n",
        "    mol = Chem.MolFromSmiles(smiles[i])    \n",
        "    # Generate Morgan fingerprint of the molecule\n",
        "    fp = AllChem.GetMorganFingerprintAsBitVect(mol, 2, nBits=1024)\n",
        "    # Convert the fingerprint to a numpy array\n",
        "    arr = np.zeros((1,))\n",
        "    AllChem.DataStructs.ConvertToNumpyArray(fp, arr)\n",
        "    MorganFP[i,:] = arr\n",
        "MorganFP = MorganFP.astype(int)"
      ]
    },
    {
      "cell_type": "code",
      "execution_count": 7,
      "metadata": {
        "id": "GDPG6ovXep4l"
      },
      "outputs": [],
      "source": [
        "# go to GPU to compute the kernel\n",
        "MorganFP = torch.tensor(MorganFP, dtype=mytype).to(device)"
      ]
    },
    {
      "cell_type": "markdown",
      "metadata": {
        "id": "SyDPN5BvhtpS"
      },
      "source": [
        "Select a random subset $S$ of $k$ molecules."
      ]
    },
    {
      "cell_type": "code",
      "execution_count": 8,
      "metadata": {
        "id": "b-FxqSz6hmh5"
      },
      "outputs": [],
      "source": [
        "k = 3000 # number of molecule to compute nystrom\n",
        "rM = 500 # final dimension of features for molecules\n",
        "S = np.random.permutation(nM)[:k]"
      ]
    },
    {
      "cell_type": "markdown",
      "metadata": {
        "id": "H98qBenZfso3"
      },
      "source": [
        "Compute Tanimoto kernel between $S$ and all the molecules. When viewed as vectors of $\\{0,1\\}$ $x=1_A$, $y=1_B$, the formula is \n",
        "$$\n",
        "  K(x,y) = \\frac{|A \\cap B|}{|A \\cup B|}\n",
        "  = \\frac{|A \\cap B|}{1024 - |A^c \\cap B^c|}\n",
        "  = \\frac{\\langle x,y \\rangle}{1024 - \\langle 1-x,1-y \\rangle}\n",
        "$$"
      ]
    },
    {
      "cell_type": "code",
      "execution_count": 9,
      "metadata": {
        "colab": {
          "base_uri": "https://localhost:8080/"
        },
        "id": "9rHKuAbKb6xs",
        "outputId": "35d50350-e0d8-4b30-bc7a-e011eb096b42"
      },
      "outputs": [
        {
          "output_type": "stream",
          "name": "stdout",
          "text": [
            "time: 2.8990 seconds\n"
          ]
        }
      ],
      "source": [
        "tic = time.perf_counter()\n",
        "K = ( MorganFP[S,:] @ MorganFP.T ) / ( 1024 - (1-MorganFP[S,:]) @ (1-MorganFP.T) )\n",
        "print(f\"time: {time.perf_counter() - tic:0.4f} seconds\")"
      ]
    },
    {
      "cell_type": "code",
      "source": [
        "K.shape"
      ],
      "metadata": {
        "colab": {
          "base_uri": "https://localhost:8080/"
        },
        "id": "ujoDZcZmh0nD",
        "outputId": "4280d5b1-2beb-4747-dfcc-6fa3d71e1e20"
      },
      "execution_count": 10,
      "outputs": [
        {
          "output_type": "execute_result",
          "data": {
            "text/plain": [
              "torch.Size([3000, 152844])"
            ]
          },
          "metadata": {},
          "execution_count": 10
        }
      ]
    },
    {
      "cell_type": "markdown",
      "metadata": {
        "id": "ILfFEg3qfudC"
      },
      "source": [
        "Apply Nyström"
      ]
    },
    {
      "cell_type": "code",
      "execution_count": 11,
      "metadata": {
        "colab": {
          "base_uri": "https://localhost:8080/",
          "height": 467
        },
        "id": "TwLAEV34epsa",
        "outputId": "57d000f4-aa8c-49b9-c858-26dbfa3755d5"
      },
      "outputs": [
        {
          "output_type": "stream",
          "name": "stdout",
          "text": [
            "time: 5.5825 seconds\n"
          ]
        },
        {
          "output_type": "execute_result",
          "data": {
            "text/plain": [
              "[<matplotlib.lines.Line2D at 0x7f533c470610>]"
            ]
          },
          "metadata": {},
          "execution_count": 11
        },
        {
          "output_type": "display_data",
          "data": {
            "text/plain": [
              "<Figure size 640x480 with 1 Axes>"
            ],
            "image/png": "[encoded data removed]"
          },
          "metadata": {}
        }
      ],
      "source": [
        "tic = time.perf_counter()\n",
        "U, Lambda, VT = torch.svd(K[:,S])\n",
        "epsi = 1e-8  # be careful when we divide by Lambda near 0\n",
        "X = K.T @ U[:,:rM] @ torch.diag(1./torch.sqrt(epsi + Lambda[:rM]))\n",
        "print(f\"time: {time.perf_counter() - tic:0.4f} seconds\")\n",
        "plt.plot(Lambda.cpu())"
      ]
    },
    {
      "cell_type": "code",
      "source": [
        "X.shape"
      ],
      "metadata": {
        "colab": {
          "base_uri": "https://localhost:8080/"
        },
        "id": "53VgPTCSiOHJ",
        "outputId": "c5433ff7-90eb-4a48-eba6-e403a288019b"
      },
      "execution_count": 12,
      "outputs": [
        {
          "output_type": "execute_result",
          "data": {
            "text/plain": [
              "torch.Size([152844, 500])"
            ]
          },
          "metadata": {},
          "execution_count": 12
        }
      ]
    },
    {
      "cell_type": "markdown",
      "source": [
        "Normalise X"
      ],
      "metadata": {
        "id": "5aK21v18nci5"
      }
    },
    {
      "cell_type": "code",
      "source": [
        "X_c = X - X.mean(axis = 0)\n",
        "X_cn = X_c / torch.norm(X_c,dim = 1)[:,None] "
      ],
      "metadata": {
        "id": "TkEJbC0hLOy6"
      },
      "execution_count": 13,
      "outputs": []
    },
    {
      "cell_type": "markdown",
      "source": [
        "# prot kernel"
      ],
      "metadata": {
        "id": "j3S4lGo5n77C"
      }
    },
    {
      "cell_type": "markdown",
      "metadata": {
        "id": "tfT2Fjt0lIRb"
      },
      "source": [
        "Load protein kernel and compute its features $Y$."
      ]
    },
    {
      "cell_type": "code",
      "execution_count": 14,
      "metadata": {
        "colab": {
          "base_uri": "https://localhost:8080/",
          "height": 448
        },
        "id": "2YFdVoz2klUV",
        "outputId": "26d393cd-a3d3-4dbb-a9cc-b794c176552c"
      },
      "outputs": [
        {
          "output_type": "execute_result",
          "data": {
            "text/plain": [
              "[<matplotlib.lines.Line2D at 0x7f533c37fa90>]"
            ]
          },
          "metadata": {},
          "execution_count": 14
        },
        {
          "output_type": "display_data",
          "data": {
            "text/plain": [
              "<Figure size 640x480 with 1 Axes>"
            ],
            "image/png": "[encoded data removed]"
          },
          "metadata": {}
        }
      ],
      "source": [
        "import pickle\n",
        "with open('data/CC_all2_base_K_prot.data', 'rb') as f:\n",
        "  KP = pickle.load(f)\n",
        "KP = torch.tensor(KP, dtype=mytype).to(device)\n",
        "# computation of feature for protein (no nystrom, just PCA)\n",
        "rP = KP.shape[0]#min(KP.shape[0],500)\n",
        "U, Lambda, VT = torch.svd(KP)\n",
        "Y = U[:,:rP] @ torch.diag(torch.sqrt(Lambda[:rP]))\n",
        "torch.norm(KP - Y@Y.T)/torch.norm(KP)\n",
        "plt.plot(Lambda.cpu())"
      ]
    },
    {
      "cell_type": "markdown",
      "source": [
        "Normalise Y"
      ],
      "metadata": {
        "id": "VJsKcA2ZnrvB"
      }
    },
    {
      "cell_type": "code",
      "source": [
        "Y_c = Y - Y.mean(axis = 0)\n",
        "Y_cn = Y_c / torch.norm(Y_c,dim = 1)[:,None]"
      ],
      "metadata": {
        "id": "w-5pNXmBNDDg"
      },
      "execution_count": 15,
      "outputs": []
    },
    {
      "cell_type": "markdown",
      "source": [
        "# train"
      ],
      "metadata": {
        "id": "Q3XpBFstnvcX"
      }
    },
    {
      "cell_type": "code",
      "execution_count": 16,
      "metadata": {
        "colab": {
          "base_uri": "https://localhost:8080/"
        },
        "id": "pWz-8YyCkHPw",
        "outputId": "b14537a6-3a7b-47cf-d977-e950042d5148"
      },
      "outputs": [
        {
          "output_type": "stream",
          "name": "stdout",
          "text": [
            "229012 229012\n",
            "366418\n"
          ]
        }
      ],
      "source": [
        "# protein indices\n",
        "J0 = df_p['indfasta'].values # proteins\n",
        "# molecules indices\n",
        "I0 = df_p['indsmiles'].values # molecule\n",
        "print(len(I0), len(J0))\n",
        "\n",
        "# load with pickle\n",
        "import pickle\n",
        "with open('data/CC_train_arr.data', 'rb') as f:\n",
        "        arr_train = pickle.load(f)\n",
        "\n",
        "i_fold = 0\n",
        "train = arr_train[i_fold]\n",
        "print(len(train))"
      ]
    },
    {
      "cell_type": "code",
      "execution_count": 17,
      "metadata": {
        "id": "Zk8KSwZYe0Ti"
      },
      "outputs": [],
      "source": [
        "J0 = train[:,0] # proteins\n",
        "I0 = train[:,1] # molecules\n",
        "y = train[:,2] # labels"
      ]
    },
    {
      "cell_type": "code",
      "execution_count": 18,
      "metadata": {
        "colab": {
          "base_uri": "https://localhost:8080/"
        },
        "id": "ssKRmxa3kaRI",
        "outputId": "94557228-c674-49d2-9449-328f8e8e42e7"
      },
      "outputs": [
        {
          "output_type": "stream",
          "name": "stdout",
          "text": [
            "366418\n"
          ]
        }
      ],
      "source": [
        "# sub-select those I and J within the loaded database\n",
        "I = I0[I0<nM]\n",
        "J = J0[I0<nM]\n",
        "y = y[I0<nM]\n",
        "I = torch.tensor(I, dtype=torch.long).to(device)\n",
        "J = torch.tensor(J, dtype=torch.long).to(device)\n",
        "y = torch.tensor( np.sign(y-.5) ).to(device)\n",
        "n = len(I)\n",
        "print(n)"
      ]
    },
    {
      "cell_type": "code",
      "execution_count": 19,
      "metadata": {
        "id": "mZjh6jyDlVAR"
      },
      "outputs": [],
      "source": [
        "# compute the features of the Kronecker kernel for the train\n",
        "XI, YJ = X_cn[I,:], Y_cn[J,:]\n",
        "def U(w): return torch.sum( (YJ@w) * XI, axis=1 )\n",
        "def U(w): return torch.sum( (Y_cn@w)[J,:] * XI, axis=1 ) # FAST\n",
        "def UT(z): return YJ.T @ ( z[:,None] * XI )  # TODO : modify this"
      ]
    },
    {
      "cell_type": "code",
      "execution_count": null,
      "metadata": {
        "colab": {
          "base_uri": "https://localhost:8080/"
        },
        "id": "eUwh_zkyNvuT",
        "outputId": "3de05cf6-f048-4585-fdf3-add164106dc9"
      },
      "outputs": [
        {
          "output_type": "stream",
          "name": "stdout",
          "text": [
            "time: 0.1954 seconds\n",
            "time: 0.0174 seconds\n"
          ]
        }
      ],
      "source": [
        "# a comparison of 2 ways to apply YJ\n",
        "\n",
        "w = torch.randn(rP,rM).to(device)\n",
        "\n",
        "tic = time.perf_counter()\n",
        "z = torch.sum( (YJ@w) * XI, axis=1 )\n",
        "a = torch.norm(z).item()\n",
        "print(f\"time: {time.perf_counter() - tic:0.4f} seconds\")\n",
        "\n",
        "tic = time.perf_counter()\n",
        "z = torch.sum( (Y@w)[J,:] * XI, axis=1 )\n",
        "a = torch.norm(z).item()\n",
        "print(f\"time: {time.perf_counter() - tic:0.4f} seconds\")\n"
      ]
    },
    {
      "cell_type": "code",
      "execution_count": null,
      "metadata": {
        "colab": {
          "base_uri": "https://localhost:8080/"
        },
        "id": "ZHA7QmN6nkr1",
        "outputId": "571baffe-b61b-4949-c6e1-1a6ab891a57a"
      },
      "outputs": [
        {
          "output_type": "stream",
          "name": "stdout",
          "text": [
            "time: 0.0004 seconds\n",
            "time: 0.0329 seconds\n",
            "time: 0.0008 seconds\n"
          ]
        }
      ],
      "source": [
        "w = torch.randn(rP,rM).to(device)\n",
        "z = torch.randn(n).to(device)\n",
        "\n",
        "tic = time.perf_counter()\n",
        "z = U(w)\n",
        "print(f\"time: {time.perf_counter() - tic:0.4f} seconds\")\n",
        "\n",
        "tic = time.perf_counter()\n",
        "z = U(w)\n",
        "z[0].item()\n",
        "print(f\"time: {time.perf_counter() - tic:0.4f} seconds\")\n",
        "\n",
        "tic = time.perf_counter()\n",
        "w = UT(z)\n",
        "print(f\"time: {time.perf_counter() - tic:0.4f} seconds\")"
      ]
    },
    {
      "cell_type": "code",
      "execution_count": null,
      "metadata": {
        "colab": {
          "base_uri": "https://localhost:8080/"
        },
        "id": "k1jP2skznrzM",
        "outputId": "fd51548e-1d90-415c-c68e-5c3a912283c4"
      },
      "outputs": [
        {
          "output_type": "stream",
          "name": "stdout",
          "text": [
            "Thu Apr  6 12:02:21 2023       \n",
            "+-----------------------------------------------------------------------------+\n",
            "| NVIDIA-SMI 525.85.12    Driver Version: 525.85.12    CUDA Version: 12.0     |\n",
            "|-------------------------------+----------------------+----------------------+\n",
            "| GPU  Name        Persistence-M| Bus-Id        Disp.A | Volatile Uncorr. ECC |\n",
            "| Fan  Temp  Perf  Pwr:Usage/Cap|         Memory-Usage | GPU-Util  Compute M. |\n",
            "|                               |                      |               MIG M. |\n",
            "|===============================+======================+======================|\n",
            "|   0  Tesla T4            Off  | 00000000:00:04.0 Off |                    0 |\n",
            "| N/A   55C    P0    40W /  70W |   9683MiB / 15360MiB |     58%      Default |\n",
            "|                               |                      |                  N/A |\n",
            "+-------------------------------+----------------------+----------------------+\n",
            "                                                                               \n",
            "+-----------------------------------------------------------------------------+\n",
            "| Processes:                                                                  |\n",
            "|  GPU   GI   CI        PID   Type   Process name                  GPU Memory |\n",
            "|        ID   ID                                                   Usage      |\n",
            "|=============================================================================|\n",
            "+-----------------------------------------------------------------------------+\n"
          ]
        }
      ],
      "source": [
        "!nvidia-smi"
      ]
    },
    {
      "cell_type": "markdown",
      "source": [
        "# SVM\n"
      ],
      "metadata": {
        "id": "DGIdvdGdiFgC"
      }
    },
    {
      "cell_type": "code",
      "execution_count": 20,
      "metadata": {
        "id": "8W37IMcYpmCw"
      },
      "outputs": [],
      "source": [
        "def Loss(u): return 1/n * torch.sum(torch.maximum(1+u,torch.tensor(0)))\n",
        "lamb = 1e-06\n",
        "def g(w,b): return Loss(-y * (U(w)+b)) + lamb/2 * (w**2).sum() "
      ]
    },
    {
      "cell_type": "code",
      "execution_count": 21,
      "metadata": {
        "colab": {
          "base_uri": "https://localhost:8080/"
        },
        "id": "l-s5i453gbxm",
        "outputId": "54e65a8a-a72c-4f4c-8dce-8e97fc2281b0"
      },
      "outputs": [
        {
          "output_type": "stream",
          "name": "stdout",
          "text": [
            "time: 9.2653 seconds\n",
            "tensor(0.0840, device='cuda:0', dtype=torch.float64, grad_fn=<AddBackward0>)\n"
          ]
        }
      ],
      "source": [
        "# L-BFGS\n",
        "def closure():\n",
        "    lbfgs.zero_grad()\n",
        "    objective = g(w_bfgs,b_bfgs)\n",
        "    objective.backward()\n",
        "    return objective\n",
        "\n",
        "w_bfgs = torch.randn(rP,rM).to(device)\n",
        "b_bfgs = torch.randn(1).to(device)\n",
        "w_bfgs.requires_grad = True\n",
        "b_bfgs.requires_grad = True\n",
        "\n",
        "lbfgs = optim.LBFGS([w_bfgs,b_bfgs],\n",
        "                    history_size=10,\n",
        "                    max_iter=4,\n",
        "                    line_search_fn=\"strong_wolfe\")\n",
        "niter = 50\n",
        "history_lbfgs = []\n",
        "tic = time.perf_counter()\n",
        "for i in range(niter):\n",
        "    history_lbfgs.append(g(w_bfgs,b_bfgs).item())\n",
        "    lbfgs.step(closure)\n",
        "print(f\"time: {time.perf_counter() - tic:0.4f} seconds\")\n",
        "print( g(w_bfgs,b_bfgs) )"
      ]
    },
    {
      "cell_type": "code",
      "execution_count": 22,
      "metadata": {
        "colab": {
          "base_uri": "https://localhost:8080/",
          "height": 430
        },
        "id": "hYdtIWezhykG",
        "outputId": "371bea28-dcbb-4191-b0d8-16be0905dba2"
      },
      "outputs": [
        {
          "output_type": "display_data",
          "data": {
            "text/plain": [
              "<Figure size 640x480 with 1 Axes>"
            ],
            "image/png": "[encoded data removed]"
          },
          "metadata": {}
        }
      ],
      "source": [
        "plt.plot( torch.tensor( history_lbfgs ), '.-' );"
      ]
    },
    {
      "cell_type": "markdown",
      "source": [
        "# prediction"
      ],
      "metadata": {
        "id": "WHRGD0YNiJ2I"
      }
    },
    {
      "cell_type": "code",
      "source": [
        "# prediction\n",
        "with open('data/CC_test_arr.data', 'rb') as f:\n",
        "        test_arr = pickle.load(f)\n",
        "test = test_arr[i_fold]\n",
        "J0_test = test[:,0] # proteins  #IP_test\n",
        "I0_test = test[:,1] # molecules IM_test\n",
        "y_test = test[:,2] # labels\n"
      ],
      "metadata": {
        "id": "cdLgT8o6osY3"
      },
      "execution_count": 23,
      "outputs": []
    },
    {
      "cell_type": "code",
      "source": [
        "\n",
        "# sub-select those I and J within the loaded database\n",
        "I_test = I0_test[I0_test<nM]\n",
        "J_test = J0_test[I0_test<nM]\n",
        "y_test = y_test[I0_test<nM]\n",
        "\n",
        "I_test = torch.tensor(I_test, dtype=torch.long).to(device)\n",
        "J_test = torch.tensor(J_test, dtype=torch.long).to(device)\n",
        "y_test = torch.tensor( np.sign(y_test-.5) ).to(device)\n",
        "n_test = len(I_test)\n",
        "print(n_test)"
      ],
      "metadata": {
        "colab": {
          "base_uri": "https://localhost:8080/"
        },
        "id": "cpu3PkEDSaea",
        "outputId": "523a40e6-1dc2-4e45-b688-82ecf786d779"
      },
      "execution_count": 24,
      "outputs": [
        {
          "output_type": "stream",
          "name": "stdout",
          "text": [
            "91606\n"
          ]
        }
      ]
    },
    {
      "cell_type": "code",
      "source": [
        "#I_test = I_test.type(torch.long)\n",
        "#J_test = J_test.type(torch.long)\n",
        "\n",
        "# compute the features of the Kronecker kernel\n",
        "XI_test = X_cn[I_test,:].to(device)\n",
        "YJ_test = Y_cn[J_test,:].to(device)\n",
        "print(XI_test.shape,YJ_test.shape)\n",
        "\n",
        "def U_test(w): \n",
        "  #w = w.reshape(rP,rM)\n",
        "  return torch.sum( (Y_cn@w)[J_test,:] * XI_test, axis=1 )\n",
        "\n",
        "pr_f = torch.sign( U_test(w_bfgs).detach() + b_bfgs.detach() )"
      ],
      "metadata": {
        "colab": {
          "base_uri": "https://localhost:8080/"
        },
        "id": "ImAOHUUTpGgV",
        "outputId": "68469b53-1be2-40f6-fed4-b8e853e2c3ac"
      },
      "execution_count": 25,
      "outputs": [
        {
          "output_type": "stream",
          "name": "stdout",
          "text": [
            "torch.Size([91606, 500]) torch.Size([91606, 1647])\n"
          ]
        }
      ]
    },
    {
      "cell_type": "code",
      "source": [
        "print(\"accuracy\", torch.sum( y_test == pr_f ) / len(y_test) )"
      ],
      "metadata": {
        "colab": {
          "base_uri": "https://localhost:8080/"
        },
        "id": "SU7PsFSgrD8u",
        "outputId": "0f3ea0d0-fd4e-434e-dcd0-8cef7fb07351"
      },
      "execution_count": 26,
      "outputs": [
        {
          "output_type": "stream",
          "name": "stdout",
          "text": [
            "accuracy tensor(0.9684, device='cuda:0')\n"
          ]
        }
      ]
    },
    {
      "cell_type": "code",
      "source": [
        "# plot confusion matrix\n",
        "import matplotlib.pyplot as plt\n",
        "from sklearn.datasets import make_classification\n",
        "from sklearn.metrics import confusion_matrix, ConfusionMatrixDisplay\n",
        "\n",
        "labels = [-1., 1.]\n",
        "cm = confusion_matrix(y_test.cpu().numpy(), pr_f.cpu().numpy(),labels = labels)\n",
        "disp = ConfusionMatrixDisplay(confusion_matrix=cm,\n",
        "                              display_labels=labels)\n",
        "disp.plot()\n",
        "\n",
        "plt.show()"
      ],
      "metadata": {
        "colab": {
          "base_uri": "https://localhost:8080/",
          "height": 449
        },
        "id": "JsSz4V0ehm0K",
        "outputId": "476edaf9-abef-480b-e1b9-f5da9cd3de68"
      },
      "execution_count": 27,
      "outputs": [
        {
          "output_type": "display_data",
          "data": {
            "text/plain": [
              "<Figure size 640x480 with 2 Axes>"
            ],
            "image/png": "[encoded data removed]"
          },
          "metadata": {}
        }
      ]
    },
    {
      "cell_type": "markdown",
      "source": [
        "Vérification test/train"
      ],
      "metadata": {
        "id": "bo_skyDQddZR"
      }
    },
    {
      "cell_type": "code",
      "source": [
        "S_train = set(map(tuple, train))\n",
        "S_test = set(map(tuple, test))\n",
        "print(\"number of pairs in train and test:\",len(S_train.intersection(S_test)))"
      ],
      "metadata": {
        "colab": {
          "base_uri": "https://localhost:8080/"
        },
        "id": "yn919bCddcaS",
        "outputId": "37b39cf3-8ebf-4815-de8c-08358bbb7a2d"
      },
      "execution_count": 28,
      "outputs": [
        {
          "output_type": "stream",
          "name": "stdout",
          "text": [
            "number of pairs in train and test: 0\n"
          ]
        }
      ]
    },
    {
      "cell_type": "markdown",
      "source": [
        "Plot accuracy in function of lambda"
      ],
      "metadata": {
        "id": "8Bi3j5rtsYyk"
      }
    },
    {
      "cell_type": "code",
      "source": [
        "# calculate accuraccy for differetn lmabda\n",
        "lambdas = np.logspace(-12, 3, num=16)\n",
        "accs = []\n",
        "for lamb in lambdas:\n",
        "  def g(w,b): return Loss(-y * (U(w)+b)) + lamb/2 * (w**2).sum() \n",
        "\n",
        "  # L-BFGS\n",
        "  def closure():\n",
        "      lbfgs.zero_grad()\n",
        "      objective = g(w_bfgs,b_bfgs)\n",
        "      objective.backward()\n",
        "      return objective\n",
        "\n",
        "  w_bfgs = torch.randn(rP,rM).to(device)\n",
        "  b_bfgs = torch.randn(1).to(device)\n",
        "  w_bfgs.requires_grad = True\n",
        "  b_bfgs.requires_grad = True\n",
        "\n",
        "  lbfgs = optim.LBFGS([w_bfgs,b_bfgs],\n",
        "                      history_size=10,\n",
        "                      max_iter=4,\n",
        "                      line_search_fn=\"strong_wolfe\")\n",
        "  niter = 20\n",
        "  history_lbfgs = []\n",
        "  tic = time.perf_counter()\n",
        "  for i in range(niter):\n",
        "      history_lbfgs.append(g(w_bfgs,b_bfgs).item())\n",
        "      lbfgs.step(closure)\n",
        "  print(f\"time: {time.perf_counter() - tic:0.4f} seconds\")\n",
        "  print( g(w_bfgs,b_bfgs) )\n",
        "\n",
        "  pr_f = torch.sign( U_test(w_bfgs).detach() + b_bfgs.detach() )\n",
        "  acc = torch.sum( y_test == pr_f ) / len(y_test)\n",
        "  accs.append(acc.item())\n",
        "  print(\"lambda=\",lamb,\"accuracy=\",acc.item())"
      ],
      "metadata": {
        "id": "cObqn232seZA",
        "colab": {
          "base_uri": "https://localhost:8080/"
        },
        "outputId": "8b9d4ce5-f702-4c09-a3de-9f9d6357dac7"
      },
      "execution_count": null,
      "outputs": [
        {
          "output_type": "stream",
          "name": "stdout",
          "text": [
            "time: 3.7788 seconds\n",
            "tensor(0.0619, device='cuda:0', dtype=torch.float64, grad_fn=<AddBackward0>)\n",
            "lambda= 1e-12 accuracy= 0.9554287195205688\n",
            "time: 3.7252 seconds\n",
            "tensor(0.0532, device='cuda:0', dtype=torch.float64, grad_fn=<AddBackward0>)\n",
            "lambda= 1e-11 accuracy= 0.9560727477073669\n",
            "time: 3.7150 seconds\n",
            "tensor(0.0550, device='cuda:0', dtype=torch.float64, grad_fn=<AddBackward0>)\n",
            "lambda= 1e-10 accuracy= 0.957273542881012\n",
            "time: 3.8657 seconds\n",
            "tensor(0.0132, device='cuda:0', dtype=torch.float64, grad_fn=<AddBackward0>)\n",
            "lambda= 1e-09 accuracy= 0.9607667922973633\n",
            "time: 3.7200 seconds\n",
            "tensor(0.0543, device='cuda:0', dtype=torch.float64, grad_fn=<AddBackward0>)\n",
            "lambda= 1e-08 accuracy= 0.9561273455619812\n",
            "time: 3.7613 seconds\n",
            "tensor(0.0940, device='cuda:0', dtype=torch.float64, grad_fn=<AddBackward0>)\n",
            "lambda= 1e-07 accuracy= 0.9573827385902405\n",
            "time: 3.6731 seconds\n",
            "tensor(0.2427, device='cuda:0', dtype=torch.float64, grad_fn=<AddBackward0>)\n",
            "lambda= 1e-06 accuracy= 0.9572080373764038\n",
            "time: 3.8603 seconds\n",
            "tensor(0.2280, device='cuda:0', dtype=torch.float64, grad_fn=<AddBackward0>)\n",
            "lambda= 1e-05 accuracy= 0.956061840057373\n",
            "time: 3.7005 seconds\n",
            "tensor(0.5250, device='cuda:0', dtype=torch.float64, grad_fn=<AddBackward0>)\n",
            "lambda= 0.0001 accuracy= 0.8942427635192871\n",
            "time: 3.0861 seconds\n",
            "tensor(0.8745, device='cuda:0', dtype=torch.float64, grad_fn=<AddBackward0>)\n",
            "lambda= 0.001 accuracy= 0.6461039781570435\n",
            "time: 1.6670 seconds\n",
            "tensor(0.9866, device='cuda:0', dtype=torch.float64, grad_fn=<AddBackward0>)\n",
            "lambda= 0.01 accuracy= 0.5216034054756165\n",
            "time: 1.3741 seconds\n",
            "tensor(0.9987, device='cuda:0', dtype=torch.float64, grad_fn=<AddBackward0>)\n",
            "lambda= 0.1 accuracy= 0.5000218152999878\n",
            "time: 1.2751 seconds\n",
            "tensor(0.9999, device='cuda:0', dtype=torch.float64, grad_fn=<AddBackward0>)\n",
            "lambda= 1.0 accuracy= 0.5\n",
            "time: 1.2750 seconds\n",
            "tensor(1.0000, device='cuda:0', dtype=torch.float64, grad_fn=<AddBackward0>)\n",
            "lambda= 10.0 accuracy= 0.5\n",
            "time: 1.5358 seconds\n",
            "tensor(1.0000, device='cuda:0', dtype=torch.float64, grad_fn=<AddBackward0>)\n",
            "lambda= 100.0 accuracy= 0.5\n",
            "time: 1.2736 seconds\n",
            "tensor(1.0000, device='cuda:0', dtype=torch.float64, grad_fn=<AddBackward0>)\n",
            "lambda= 1000.0 accuracy= 0.5\n"
          ]
        }
      ]
    },
    {
      "cell_type": "code",
      "source": [
        "plt.plot(lambdas,accs)\n",
        "plt.xscale('log')\n",
        "plt.show()"
      ],
      "metadata": {
        "colab": {
          "base_uri": "https://localhost:8080/",
          "height": 434
        },
        "id": "-2H0tF-wxS-r",
        "outputId": "3bb26aed-dbcd-48a2-eaa3-8747c66025cb"
      },
      "execution_count": null,
      "outputs": [
        {
          "output_type": "display_data",
          "data": {
            "text/plain": [
              "<Figure size 640x480 with 1 Axes>"
            ],
            "image/png": "[encoded data removed]"
          },
          "metadata": {}
        }
      ]
    },
    {
      "cell_type": "markdown",
      "source": [
        "# Platt scaling\n",
        "\n",
        "Once the weight $w$ have been computed, Platt scaling compute a probability using the formula\n",
        "$$\n",
        "    p_i := \\sigma(-y_i ( s \\langle x_i,w \\rangle + t ))\n",
        "    \\text{ where }\n",
        "    \\sigma(u)=\\frac{e^u}{1+e^u}\n",
        "$$\n",
        "where the scale $s$ (leven of confidence in some sense) and offset $t$ needs to be optimized. They are found by minimlizing the same energy as the logistic classification.\n",
        "$$\n",
        "    \\min_{s,t} E(s,t) := \\sum_i \\ell(-y_i ( s \\langle x_i,w \\rangle + t)) \n",
        "    = L( - y \\odot (s m  + t ) )\n",
        "$$\n",
        "where $\\ell(u) := \\log( 1 + e^u )$ and $m:=Xw$."
      ],
      "metadata": {
        "id": "XItkW-qtsoT3"
      }
    },
    {
      "cell_type": "code",
      "source": [
        "m = U_test(w_bfgs).detach() # do not forget to detach (do not backprop through it)!"
      ],
      "metadata": {
        "id": "sOtgAHyUsstp"
      },
      "execution_count": 29,
      "outputs": []
    },
    {
      "cell_type": "code",
      "source": [
        "def E(s,t): return 1/n * torch.sum( torch.log( 1+torch.exp(-y_test*(s*m+t)) ) )"
      ],
      "metadata": {
        "id": "T1LpbvnWsvJA"
      },
      "execution_count": 30,
      "outputs": []
    },
    {
      "cell_type": "code",
      "source": [
        "# L-BFGS\n",
        "def closure():\n",
        "    lbfgs.zero_grad()\n",
        "    objective = E(s,t)\n",
        "    objective.backward()\n",
        "    return objective\n",
        "s = torch.ones(1).to(device)\n",
        "t = torch.zeros(1).to(device)\n",
        "s.requires_grad = True\n",
        "t.requires_grad = True\n",
        "lbfgs = optim.LBFGS([s,t],\n",
        "                    history_size=10,\n",
        "                    max_iter=4,\n",
        "                    line_search_fn=\"strong_wolfe\")\n",
        "niter = 20\n",
        "history_lbfgs = []\n",
        "for i in range(niter):\n",
        "    history_lbfgs.append(E(s,t).item())\n",
        "    lbfgs.step(closure)"
      ],
      "metadata": {
        "id": "G5aqVFyzsxfO"
      },
      "execution_count": 31,
      "outputs": []
    },
    {
      "cell_type": "code",
      "source": [
        "plt.plot( history_lbfgs, '.-' ) "
      ],
      "metadata": {
        "colab": {
          "base_uri": "https://localhost:8080/",
          "height": 448
        },
        "id": "oVc8ouJQtTzU",
        "outputId": "a11b2e73-8c66-4677-aeff-f33b35473bef"
      },
      "execution_count": 32,
      "outputs": [
        {
          "output_type": "execute_result",
          "data": {
            "text/plain": [
              "[<matplotlib.lines.Line2D at 0x7f533c2876a0>]"
            ]
          },
          "metadata": {},
          "execution_count": 32
        },
        {
          "output_type": "display_data",
          "data": {
            "text/plain": [
              "<Figure size 640x480 with 1 Axes>"
            ],
            "image/png": "[encoded data removed]"
          },
          "metadata": {}
        }
      ]
    },
    {
      "cell_type": "code",
      "source": [
        "print(E(s,t))"
      ],
      "metadata": {
        "colab": {
          "base_uri": "https://localhost:8080/"
        },
        "id": "Gz0ht6JotYWx",
        "outputId": "b629b7de-d89f-4ea1-8701-52cd5a31d243"
      },
      "execution_count": 33,
      "outputs": [
        {
          "output_type": "stream",
          "name": "stdout",
          "text": [
            "tensor(0.0255, device='cuda:0', dtype=torch.float64, grad_fn=<MulBackward0>)\n"
          ]
        }
      ]
    },
    {
      "cell_type": "code",
      "source": [
        "def sigma(u): return torch.exp(u) / (1+torch.exp(u))\n",
        "p = sigma( (s*m+t) ).detach()"
      ],
      "metadata": {
        "id": "nRBh0dK6tZ3v"
      },
      "execution_count": 34,
      "outputs": []
    },
    {
      "cell_type": "code",
      "source": [
        "plt.plot( m.cpu().numpy(), (y_test.cpu()+1)/2, 'ro' )\n",
        "\n",
        "plt.plot( m.cpu().numpy(), p.cpu().numpy(), '.' )"
      ],
      "metadata": {
        "colab": {
          "base_uri": "https://localhost:8080/",
          "height": 448
        },
        "id": "8HjQGAOLtcE6",
        "outputId": "363c1323-6a07-4f3a-8eec-438b0ba4d2d3"
      },
      "execution_count": 35,
      "outputs": [
        {
          "output_type": "execute_result",
          "data": {
            "text/plain": [
              "[<matplotlib.lines.Line2D at 0x7f533c25f760>]"
            ]
          },
          "metadata": {},
          "execution_count": 35
        },
        {
          "output_type": "display_data",
          "data": {
            "text/plain": [
              "<Figure size 640x480 with 1 Axes>"
            ],
            "image/png": "[encoded data removed]"
          },
          "metadata": {}
        }
      ]
    },
    {
      "cell_type": "code",
      "source": [
        "# plot distribution (density) of p when y_test=1\n",
        "plt.hist(p.cpu().numpy()[y_test.cpu().numpy()==1],bins=10,alpha=0.8);\n",
        "plt.hist(p.cpu().numpy()[y_test.cpu()==-1],bins=10,alpha=0.5);\n",
        "plt.show()"
      ],
      "metadata": {
        "colab": {
          "base_uri": "https://localhost:8080/",
          "height": 430
        },
        "id": "l09_xnLBQy99",
        "outputId": "bee8a31d-8f24-4947-ef8f-a2c08373baf4"
      },
      "execution_count": 36,
      "outputs": [
        {
          "output_type": "display_data",
          "data": {
            "text/plain": [
              "<Figure size 640x480 with 1 Axes>"
            ],
            "image/png": "[encoded data removed]"
          },
          "metadata": {}
        }
      ]
    },
    {
      "cell_type": "code",
      "source": [
        "# plot ROC curve et afficher roc auc\n",
        "from sklearn.metrics import roc_curve, auc\n",
        "fpr, tpr, thresholds = roc_curve(y_test.cpu().numpy(), p.cpu().numpy())\n",
        "roc_auc = auc(fpr, tpr)\n",
        "plt.figure()\n",
        "lw = 2\n",
        "\n",
        "plt.plot(fpr, tpr, color='darkorange',\n",
        "            lw=lw, label='ROC curve (area = %0.2f)' % roc_auc)\n",
        "plt.plot([0, 1], [0, 1], color='navy', lw=lw, linestyle='--')\n",
        "plt.xlim([0.0, 1.0])\n",
        "\n",
        "plt.ylim([0.0, 1.05])\n",
        "plt.xlabel('False Positive Rate')\n",
        "plt.ylabel('True Positive Rate')\n",
        "plt.title('Receiver operating characteristic')\n",
        "plt.legend(loc=\"lower right\")\n",
        "plt.show()"
      ],
      "metadata": {
        "colab": {
          "base_uri": "https://localhost:8080/",
          "height": 472
        },
        "id": "AKNGjgW4j2kZ",
        "outputId": "5d158242-1fb9-4319-b61a-edacdb15cbef"
      },
      "execution_count": 37,
      "outputs": [
        {
          "output_type": "display_data",
          "data": {
            "text/plain": [
              "<Figure size 640x480 with 1 Axes>"
            ],
            "image/png": "[encoded data removed]"
          },
          "metadata": {}
        }
      ]
    },
    {
      "cell_type": "code",
      "source": [
        "# plot PR curve et afficher AUPR\n",
        "from sklearn.metrics import precision_recall_curve\n",
        "from sklearn.metrics import average_precision_score\n",
        "precision, recall, thresholds = precision_recall_curve(y_test.cpu().numpy(), p.cpu().numpy())\n",
        "average_precision = average_precision_score(y_test.cpu().numpy(), p.cpu().numpy())\n",
        "plt.figure()\n",
        "lw = 2\n",
        "plt.plot(recall, precision, color='darkorange',\n",
        "            lw=lw, label='PR curve (area = %0.2f)' % average_precision)\n",
        "plt.xlim([0.0, 1.0])\n",
        "plt.ylim([0.0, 1.05])\n",
        "plt.xlabel('Recall')\n",
        "plt.ylabel('Precision')\n",
        "plt.title('Precision-Recall curve')\n",
        "plt.legend(loc=\"lower right\")\n",
        "plt.show()"
      ],
      "metadata": {
        "colab": {
          "base_uri": "https://localhost:8080/",
          "height": 472
        },
        "id": "qxFNKc2Cj5U7",
        "outputId": "7ee29669-f274-437c-e342-68a655ab80ac"
      },
      "execution_count": 38,
      "outputs": [
        {
          "output_type": "display_data",
          "data": {
            "text/plain": [
              "<Figure size 640x480 with 1 Axes>"
            ],
            "image/png": "[encoded data removed]"
          },
          "metadata": {}
        }
      ]
    },
    {
      "cell_type": "markdown",
      "source": [
        "# faire tsne sur les features (de petites dim) avec les mol pour lesquelles il y a des erreurs et rajouter mes 20 mols"
      ],
      "metadata": {
        "id": "Etyn7-zBKWJb"
      }
    },
    {
      "cell_type": "code",
      "execution_count": 39,
      "metadata": {
        "id": "ZAlJHREVHb-r",
        "colab": {
          "base_uri": "https://localhost:8080/"
        },
        "outputId": "ba1e4704-4380-4e42-eb8a-183f23e45660"
      },
      "outputs": [
        {
          "output_type": "stream",
          "name": "stdout",
          "text": [
            "91606 2892\n"
          ]
        }
      ],
      "source": [
        "I_false = (I_test[y_test != pr_f])\n",
        "print(len(I_test),len(I_false))"
      ]
    },
    {
      "cell_type": "code",
      "source": [
        "smiles_test = list(set(np.array(smiles)[I_test.cpu()]))\n",
        "smiles_false = list(set(np.array(smiles)[I_false.cpu()]))"
      ],
      "metadata": {
        "id": "5R33jxtW9vSE"
      },
      "execution_count": 40,
      "outputs": []
    },
    {
      "cell_type": "code",
      "source": [
        "!wget -q https://github.com/Guichaoua/chemogenomic/raw/main/data/20_mol.csv\n",
        "!mv 20_mol.csv data/"
      ],
      "metadata": {
        "id": "hvoffuOxkyzN"
      },
      "execution_count": 5,
      "outputs": []
    },
    {
      "cell_type": "code",
      "source": [
        "df_20mol =  pd.read_csv(\"data/20_mol.csv\") \n",
        "df_20mol"
      ],
      "metadata": {
        "colab": {
          "base_uri": "https://localhost:8080/",
          "height": 677
        },
        "id": "ErpbPbOjlshq",
        "outputId": "75329198-cba4-4437-f683-0e6c4c3f7d6c"
      },
      "execution_count": 6,
      "outputs": [
        {
          "output_type": "execute_result",
          "data": {
            "text/plain": [
              "    DBID                                              smile\n",
              "0   1_10  Cl.O=C(c1ccc(Nc2nccc(n2)c2cc3c(cccc3)s2)cc1)N1...\n",
              "1   1_11                  O=C(N)Nc1sc(cc1C(=O)N)c1ccc(cc1)F\n",
              "2   1_12  C1=CC=C(C(=C1)N)SC(=C(C#N)C(=C(N)SC2=CC=CC=C2N...\n",
              "3   1_13      Cc1c(ccc(c1)I)Nc1c(cc(c(F)c1F)F)C(NOCC1CC1)=O\n",
              "4   1_14  O[C@@H]1[C@@H](CO)O[C@@H](N2C3=C(C4=NC=N3)C(C(...\n",
              "5   1_15             Nc1ncnc2n(nc(c3ccc(cc3)Cl)c21)C(C)(C)C\n",
              "6   1_16         CN1C=C(C=C2C(=O)NC3=CC=CN=C23)C2=C1C=CC=C2\n",
              "7    1_1  C1CC(C1)(C2=CC=C(C=C2)C3=C(C=C4C(=N3)C=CN5C4=N...\n",
              "8    1_2  COC1=C(C(=CC=C1)F)C2=NCC3=CN=C(N=C3C4=C2C=C(C=...\n",
              "9    1_3  CCS(=O)(=O)NC1=CC2=C(C=C1)NC(=O)C2=C(C3=CC=CC=...\n",
              "10   1_4  N1(CCN(CC1)CCO)c1nc(nc(c1)Nc1sc(cn1)C(Nc1c(ccc...\n",
              "11   1_5  ClC1=CC(N)=CC(NC2=C3C(N(C(C)C)C=N3)=NC(N[C@H](...\n",
              "12   1_6  O=C1c2c3c([nH]c4ccccc34)c3[nH]c4ccccc4c3c2C(=O)N1\n",
              "13   1_7  O=C1NC(=O)c2c3c4c(cccc4)n4C5OC(n6c7ccccc7c(c21...\n",
              "14   1_8     O=C1c2c(c3ccccc3)cc3[nH]c4ccc(O)cc4c3c2C(N1)=O\n",
              "15   1_9  O/N=C(C1=CC=CC=C1N2)/C2=C3/C(NC4=C3C=CC(Br)=C4)=O\n",
              "16   2_2  O=C1N(N(C2=NC(NC3=CC=C(C=C3)N4CCN(CC4)C)=NC=C2...\n",
              "17   2_3  O=C(N[C@@H]1CNCCC1)C2=C(C=C(S2)C3=CC=CC(F)=C3)...\n",
              "18   2_4  CC1CN(CC(O1)C)CC2=CC=C(C=C2)C=CC3=NNC4=C3C=CC(...\n",
              "19   2_5  CC1=CC(=NN1)NC2=CC(=NC(=N2)SC3=CC=C(C=C3)NC(=O..."
            ],
            "text/html": [
              "\n",
              "  <div id=\"df-86398d11-4301-4fa8-8245-99705834330d\">\n",
              "    <div class=\"colab-df-container\">\n",
              "      <div>\n",
              "<style scoped>\n",
              "    .dataframe tbody tr th:only-of-type {\n",
              "        vertical-align: middle;\n",
              "    }\n",
              "\n",
              "    .dataframe tbody tr th {\n",
              "        vertical-align: top;\n",
              "    }\n",
              "\n",
              "    .dataframe thead th {\n",
              "        text-align: right;\n",
              "    }\n",
              "</style>\n",
              "<table border=\"1\" class=\"dataframe\">\n",
              "  <thead>\n",
              "    <tr style=\"text-align: right;\">\n",
              "      <th></th>\n",
              "      <th>DBID</th>\n",
              "      <th>smile</th>\n",
              "    </tr>\n",
              "  </thead>\n",
              "  <tbody>\n",
              "    <tr>\n",
              "      <th>0</th>\n",
              "      <td>1_10</td>\n",
              "      <td>Cl.O=C(c1ccc(Nc2nccc(n2)c2cc3c(cccc3)s2)cc1)N1...</td>\n",
              "    </tr>\n",
              "    <tr>\n",
              "      <th>1</th>\n",
              "      <td>1_11</td>\n",
              "      <td>O=C(N)Nc1sc(cc1C(=O)N)c1ccc(cc1)F</td>\n",
              "    </tr>\n",
              "    <tr>\n",
              "      <th>2</th>\n",
              "      <td>1_12</td>\n",
              "      <td>C1=CC=C(C(=C1)N)SC(=C(C#N)C(=C(N)SC2=CC=CC=C2N...</td>\n",
              "    </tr>\n",
              "    <tr>\n",
              "      <th>3</th>\n",
              "      <td>1_13</td>\n",
              "      <td>Cc1c(ccc(c1)I)Nc1c(cc(c(F)c1F)F)C(NOCC1CC1)=O</td>\n",
              "    </tr>\n",
              "    <tr>\n",
              "      <th>4</th>\n",
              "      <td>1_14</td>\n",
              "      <td>O[C@@H]1[C@@H](CO)O[C@@H](N2C3=C(C4=NC=N3)C(C(...</td>\n",
              "    </tr>\n",
              "    <tr>\n",
              "      <th>5</th>\n",
              "      <td>1_15</td>\n",
              "      <td>Nc1ncnc2n(nc(c3ccc(cc3)Cl)c21)C(C)(C)C</td>\n",
              "    </tr>\n",
              "    <tr>\n",
              "      <th>6</th>\n",
              "      <td>1_16</td>\n",
              "      <td>CN1C=C(C=C2C(=O)NC3=CC=CN=C23)C2=C1C=CC=C2</td>\n",
              "    </tr>\n",
              "    <tr>\n",
              "      <th>7</th>\n",
              "      <td>1_1</td>\n",
              "      <td>C1CC(C1)(C2=CC=C(C=C2)C3=C(C=C4C(=N3)C=CN5C4=N...</td>\n",
              "    </tr>\n",
              "    <tr>\n",
              "      <th>8</th>\n",
              "      <td>1_2</td>\n",
              "      <td>COC1=C(C(=CC=C1)F)C2=NCC3=CN=C(N=C3C4=C2C=C(C=...</td>\n",
              "    </tr>\n",
              "    <tr>\n",
              "      <th>9</th>\n",
              "      <td>1_3</td>\n",
              "      <td>CCS(=O)(=O)NC1=CC2=C(C=C1)NC(=O)C2=C(C3=CC=CC=...</td>\n",
              "    </tr>\n",
              "    <tr>\n",
              "      <th>10</th>\n",
              "      <td>1_4</td>\n",
              "      <td>N1(CCN(CC1)CCO)c1nc(nc(c1)Nc1sc(cn1)C(Nc1c(ccc...</td>\n",
              "    </tr>\n",
              "    <tr>\n",
              "      <th>11</th>\n",
              "      <td>1_5</td>\n",
              "      <td>ClC1=CC(N)=CC(NC2=C3C(N(C(C)C)C=N3)=NC(N[C@H](...</td>\n",
              "    </tr>\n",
              "    <tr>\n",
              "      <th>12</th>\n",
              "      <td>1_6</td>\n",
              "      <td>O=C1c2c3c([nH]c4ccccc34)c3[nH]c4ccccc4c3c2C(=O)N1</td>\n",
              "    </tr>\n",
              "    <tr>\n",
              "      <th>13</th>\n",
              "      <td>1_7</td>\n",
              "      <td>O=C1NC(=O)c2c3c4c(cccc4)n4C5OC(n6c7ccccc7c(c21...</td>\n",
              "    </tr>\n",
              "    <tr>\n",
              "      <th>14</th>\n",
              "      <td>1_8</td>\n",
              "      <td>O=C1c2c(c3ccccc3)cc3[nH]c4ccc(O)cc4c3c2C(N1)=O</td>\n",
              "    </tr>\n",
              "    <tr>\n",
              "      <th>15</th>\n",
              "      <td>1_9</td>\n",
              "      <td>O/N=C(C1=CC=CC=C1N2)/C2=C3/C(NC4=C3C=CC(Br)=C4)=O</td>\n",
              "    </tr>\n",
              "    <tr>\n",
              "      <th>16</th>\n",
              "      <td>2_2</td>\n",
              "      <td>O=C1N(N(C2=NC(NC3=CC=C(C=C3)N4CCN(CC4)C)=NC=C2...</td>\n",
              "    </tr>\n",
              "    <tr>\n",
              "      <th>17</th>\n",
              "      <td>2_3</td>\n",
              "      <td>O=C(N[C@@H]1CNCCC1)C2=C(C=C(S2)C3=CC=CC(F)=C3)...</td>\n",
              "    </tr>\n",
              "    <tr>\n",
              "      <th>18</th>\n",
              "      <td>2_4</td>\n",
              "      <td>CC1CN(CC(O1)C)CC2=CC=C(C=C2)C=CC3=NNC4=C3C=CC(...</td>\n",
              "    </tr>\n",
              "    <tr>\n",
              "      <th>19</th>\n",
              "      <td>2_5</td>\n",
              "      <td>CC1=CC(=NN1)NC2=CC(=NC(=N2)SC3=CC=C(C=C3)NC(=O...</td>\n",
              "    </tr>\n",
              "  </tbody>\n",
              "</table>\n",
              "</div>\n",
              "      <button class=\"colab-df-convert\" onclick=\"convertToInteractive('df-86398d11-4301-4fa8-8245-99705834330d')\"\n",
              "              title=\"Convert this dataframe to an interactive table.\"\n",
              "              style=\"display:none;\">\n",
              "        \n",
              "  <svg xmlns=\"http://www.w3.org/2000/svg\" height=\"24px\"viewBox=\"0 0 24 24\"\n",
              "       width=\"24px\">\n",
              "    <path d=\"M0 0h24v24H0V0z\" fill=\"none\"/>\n",
              "    <path d=\"M18.56 5.44l.94 2.06.94-2.06 2.06-.94-2.06-.94-.94-2.06-.94 2.06-2.06.94zm-11 1L8.5 8.5l.94-2.06 2.06-.94-2.06-.94L8.5 2.5l-.94 2.06-2.06.94zm10 10l.94 2.06.94-2.06 2.06-.94-2.06-.94-.94-2.06-.94 2.06-2.06.94z\"/><path d=\"M17.41 7.96l-1.37-1.37c-.4-.4-.92-.59-1.43-.59-.52 0-1.04.2-1.43.59L10.3 9.45l-7.72 7.72c-.78.78-.78 2.05 0 2.83L4 21.41c.39.39.9.59 1.41.59.51 0 1.02-.2 1.41-.59l7.78-7.78 2.81-2.81c.8-.78.8-2.07 0-2.86zM5.41 20L4 18.59l7.72-7.72 1.47 1.35L5.41 20z\"/>\n",
              "  </svg>\n",
              "      </button>\n",
              "      \n",
              "  <style>\n",
              "    .colab-df-container {\n",
              "      display:flex;\n",
              "      flex-wrap:wrap;\n",
              "      gap: 12px;\n",
              "    }\n",
              "\n",
              "    .colab-df-convert {\n",
              "      background-color: #E8F0FE;\n",
              "      border: none;\n",
              "      border-radius: 50%;\n",
              "      cursor: pointer;\n",
              "      display: none;\n",
              "      fill: #1967D2;\n",
              "      height: 32px;\n",
              "      padding: 0 0 0 0;\n",
              "      width: 32px;\n",
              "    }\n",
              "\n",
              "    .colab-df-convert:hover {\n",
              "      background-color: #E2EBFA;\n",
              "      box-shadow: 0px 1px 2px rgba(60, 64, 67, 0.3), 0px 1px 3px 1px rgba(60, 64, 67, 0.15);\n",
              "      fill: #174EA6;\n",
              "    }\n",
              "\n",
              "    [theme=dark] .colab-df-convert {\n",
              "      background-color: #3B4455;\n",
              "      fill: #D2E3FC;\n",
              "    }\n",
              "\n",
              "    [theme=dark] .colab-df-convert:hover {\n",
              "      background-color: #434B5C;\n",
              "      box-shadow: 0px 1px 3px 1px rgba(0, 0, 0, 0.15);\n",
              "      filter: drop-shadow(0px 1px 2px rgba(0, 0, 0, 0.3));\n",
              "      fill: #FFFFFF;\n",
              "    }\n",
              "  </style>\n",
              "\n",
              "      <script>\n",
              "        const buttonEl =\n",
              "          document.querySelector('#df-86398d11-4301-4fa8-8245-99705834330d button.colab-df-convert');\n",
              "        buttonEl.style.display =\n",
              "          google.colab.kernel.accessAllowed ? 'block' : 'none';\n",
              "\n",
              "        async function convertToInteractive(key) {\n",
              "          const element = document.querySelector('#df-86398d11-4301-4fa8-8245-99705834330d');\n",
              "          const dataTable =\n",
              "            await google.colab.kernel.invokeFunction('convertToInteractive',\n",
              "                                                     [key], {});\n",
              "          if (!dataTable) return;\n",
              "\n",
              "          const docLinkHtml = 'Like what you see? Visit the ' +\n",
              "            '<a target=\"_blank\" href=https://colab.research.google.com/notebooks/data_table.ipynb>data table notebook</a>'\n",
              "            + ' to learn more about interactive tables.';\n",
              "          element.innerHTML = '';\n",
              "          dataTable['output_type'] = 'display_data';\n",
              "          await google.colab.output.renderOutput(dataTable, element);\n",
              "          const docLink = document.createElement('div');\n",
              "          docLink.innerHTML = docLinkHtml;\n",
              "          element.appendChild(docLink);\n",
              "        }\n",
              "      </script>\n",
              "    </div>\n",
              "  </div>\n",
              "  "
            ]
          },
          "metadata": {},
          "execution_count": 6
        }
      ]
    },
    {
      "cell_type": "code",
      "source": [
        "smiles = smiles_false + df_20mol.smile.to_list() "
      ],
      "metadata": {
        "id": "iIqrM1myl37u"
      },
      "execution_count": null,
      "outputs": []
    },
    {
      "cell_type": "code",
      "source": [
        "from rdkit import Chem\n",
        "from rdkit.Chem import AllChem\n",
        "import progressbar\n",
        "nM =  len(smiles) #100000 #\n",
        "MorganFP = np.zeros((nM,1024))\n",
        "for i in progressbar.progressbar(range(nM)):\n",
        "    # Convert SMILES to RDKit molecule object\n",
        "    mol = Chem.MolFromSmiles(smiles[i])    \n",
        "    # Generate Morgan fingerprint of the molecule\n",
        "    fp = AllChem.GetMorganFingerprintAsBitVect(mol, 2, nBits=1024)\n",
        "    # Convert the fingerprint to a numpy array\n",
        "    arr = np.zeros((1,))\n",
        "    AllChem.DataStructs.ConvertToNumpyArray(fp, arr)\n",
        "    MorganFP[i,:] = arr\n",
        "MorganFP = MorganFP.astype(int)"
      ],
      "metadata": {
        "colab": {
          "base_uri": "https://localhost:8080/"
        },
        "id": "dCJOEMvmmXN4",
        "outputId": "5d9fc5f1-e020-4c5a-ad82-e5454a3b3378"
      },
      "execution_count": null,
      "outputs": [
        {
          "output_type": "stream",
          "name": "stderr",
          "text": [
            "100% (2603 of 2603) |####################| Elapsed Time: 0:00:01 Time:  0:00:01\n"
          ]
        }
      ]
    },
    {
      "cell_type": "code",
      "source": [
        "# go to GPU to compute the kernel\n",
        "MorganFP = torch.tensor(MorganFP, dtype=mytype).to(device)"
      ],
      "metadata": {
        "id": "iEBP_vxpmuEv"
      },
      "execution_count": null,
      "outputs": []
    },
    {
      "cell_type": "code",
      "source": [
        "tic = time.perf_counter()\n",
        "K_2 = ( MorganFP @ MorganFP.T ) / ( 1024 - (1-MorganFP) @ (1-MorganFP.T) )\n",
        "print(f\"time: {time.perf_counter() - tic:0.4f} seconds\")"
      ],
      "metadata": {
        "colab": {
          "base_uri": "https://localhost:8080/"
        },
        "id": "6Pty3UrZmx_j",
        "outputId": "557b1346-5804-470a-cd4c-9ddc29a439fc"
      },
      "execution_count": null,
      "outputs": [
        {
          "output_type": "stream",
          "name": "stdout",
          "text": [
            "time: 0.0006 seconds\n"
          ]
        }
      ]
    },
    {
      "cell_type": "code",
      "source": [
        "D = torch.sqrt(1-K_2)"
      ],
      "metadata": {
        "id": "8Oam4gyjm5t-"
      },
      "execution_count": null,
      "outputs": []
    },
    {
      "cell_type": "code",
      "source": [
        "# faire tsne avec matrice de distance DM\n",
        "import sklearn\n",
        "from sklearn.manifold import TSNE\n",
        "\n",
        "\n",
        "# Visualisation using T-SNE on distance matrix\n",
        "# Fit D_mol_Morgan into an embedded space of dimension 2 and return that transformed output Y.\n",
        "\n",
        "perp = 10 # increase for less randomness\n",
        "Y = sklearn.manifold.TSNE(n_components=2, perplexity=perp, init=\"random\", metric = \"precomputed\").fit_transform(D.cpu().numpy())\n",
        "\n",
        "plt.scatter(Y[:,0], Y[:,1],c=[True]*(len(smiles_2)-20)+[False]*20);"
      ],
      "metadata": {
        "colab": {
          "base_uri": "https://localhost:8080/",
          "height": 430
        },
        "id": "sNXCM2KZnI9U",
        "outputId": "6cfe2532-7501-47f3-b678-6ff2575b1ff8"
      },
      "execution_count": null,
      "outputs": [
        {
          "output_type": "display_data",
          "data": {
            "text/plain": [
              "<Figure size 640x480 with 1 Axes>"
            ],
            "image/png": "[encoded data removed]"
          },
          "metadata": {}
        }
      ]
    },
    {
      "cell_type": "markdown",
      "source": [
        "add the name of the 20_mol"
      ],
      "metadata": {
        "id": "WCNPcTjAq3gV"
      }
    },
    {
      "cell_type": "markdown",
      "source": [
        "See if the 20 mol are in the database. similarity for mol in the database ?"
      ],
      "metadata": {
        "id": "4ySxQug7qLdn"
      }
    },
    {
      "cell_type": "code",
      "source": [
        "pd.merge(df_20mol, df, left_on='smile',right_on='smiles')"
      ],
      "metadata": {
        "colab": {
          "base_uri": "https://localhost:8080/",
          "height": 111
        },
        "id": "Mcp5FVoiqbqd",
        "outputId": "a1012795-20f6-4117-dc4a-a74b69b87323"
      },
      "execution_count": 8,
      "outputs": [
        {
          "output_type": "execute_result",
          "data": {
            "text/plain": [
              "Empty DataFrame\n",
              "Columns: [DBID, smile, smiles, fasta, ChEMBL ID, PubChem ID, IUPHAR ID, Ligand names, Target, uniprot, mean, pIC50, pKi, pKd, measure, score, interaction+, indsmiles, indfasta]\n",
              "Index: []"
            ],
            "text/html": [
              "\n",
              "  <div id=\"df-a320d011-0fcd-46c6-b2a7-a086154fa4de\">\n",
              "    <div class=\"colab-df-container\">\n",
              "      <div>\n",
              "<style scoped>\n",
              "    .dataframe tbody tr th:only-of-type {\n",
              "        vertical-align: middle;\n",
              "    }\n",
              "\n",
              "    .dataframe tbody tr th {\n",
              "        vertical-align: top;\n",
              "    }\n",
              "\n",
              "    .dataframe thead th {\n",
              "        text-align: right;\n",
              "    }\n",
              "</style>\n",
              "<table border=\"1\" class=\"dataframe\">\n",
              "  <thead>\n",
              "    <tr style=\"text-align: right;\">\n",
              "      <th></th>\n",
              "      <th>DBID</th>\n",
              "      <th>smile</th>\n",
              "      <th>smiles</th>\n",
              "      <th>fasta</th>\n",
              "      <th>ChEMBL ID</th>\n",
              "      <th>PubChem ID</th>\n",
              "      <th>IUPHAR ID</th>\n",
              "      <th>Ligand names</th>\n",
              "      <th>Target</th>\n",
              "      <th>uniprot</th>\n",
              "      <th>mean</th>\n",
              "      <th>pIC50</th>\n",
              "      <th>pKi</th>\n",
              "      <th>pKd</th>\n",
              "      <th>measure</th>\n",
              "      <th>score</th>\n",
              "      <th>interaction+</th>\n",
              "      <th>indsmiles</th>\n",
              "      <th>indfasta</th>\n",
              "    </tr>\n",
              "  </thead>\n",
              "  <tbody>\n",
              "  </tbody>\n",
              "</table>\n",
              "</div>\n",
              "      <button class=\"colab-df-convert\" onclick=\"convertToInteractive('df-a320d011-0fcd-46c6-b2a7-a086154fa4de')\"\n",
              "              title=\"Convert this dataframe to an interactive table.\"\n",
              "              style=\"display:none;\">\n",
              "        \n",
              "  <svg xmlns=\"http://www.w3.org/2000/svg\" height=\"24px\"viewBox=\"0 0 24 24\"\n",
              "       width=\"24px\">\n",
              "    <path d=\"M0 0h24v24H0V0z\" fill=\"none\"/>\n",
              "    <path d=\"M18.56 5.44l.94 2.06.94-2.06 2.06-.94-2.06-.94-.94-2.06-.94 2.06-2.06.94zm-11 1L8.5 8.5l.94-2.06 2.06-.94-2.06-.94L8.5 2.5l-.94 2.06-2.06.94zm10 10l.94 2.06.94-2.06 2.06-.94-2.06-.94-.94-2.06-.94 2.06-2.06.94z\"/><path d=\"M17.41 7.96l-1.37-1.37c-.4-.4-.92-.59-1.43-.59-.52 0-1.04.2-1.43.59L10.3 9.45l-7.72 7.72c-.78.78-.78 2.05 0 2.83L4 21.41c.39.39.9.59 1.41.59.51 0 1.02-.2 1.41-.59l7.78-7.78 2.81-2.81c.8-.78.8-2.07 0-2.86zM5.41 20L4 18.59l7.72-7.72 1.47 1.35L5.41 20z\"/>\n",
              "  </svg>\n",
              "      </button>\n",
              "      \n",
              "  <style>\n",
              "    .colab-df-container {\n",
              "      display:flex;\n",
              "      flex-wrap:wrap;\n",
              "      gap: 12px;\n",
              "    }\n",
              "\n",
              "    .colab-df-convert {\n",
              "      background-color: #E8F0FE;\n",
              "      border: none;\n",
              "      border-radius: 50%;\n",
              "      cursor: pointer;\n",
              "      display: none;\n",
              "      fill: #1967D2;\n",
              "      height: 32px;\n",
              "      padding: 0 0 0 0;\n",
              "      width: 32px;\n",
              "    }\n",
              "\n",
              "    .colab-df-convert:hover {\n",
              "      background-color: #E2EBFA;\n",
              "      box-shadow: 0px 1px 2px rgba(60, 64, 67, 0.3), 0px 1px 3px 1px rgba(60, 64, 67, 0.15);\n",
              "      fill: #174EA6;\n",
              "    }\n",
              "\n",
              "    [theme=dark] .colab-df-convert {\n",
              "      background-color: #3B4455;\n",
              "      fill: #D2E3FC;\n",
              "    }\n",
              "\n",
              "    [theme=dark] .colab-df-convert:hover {\n",
              "      background-color: #434B5C;\n",
              "      box-shadow: 0px 1px 3px 1px rgba(0, 0, 0, 0.15);\n",
              "      filter: drop-shadow(0px 1px 2px rgba(0, 0, 0, 0.3));\n",
              "      fill: #FFFFFF;\n",
              "    }\n",
              "  </style>\n",
              "\n",
              "      <script>\n",
              "        const buttonEl =\n",
              "          document.querySelector('#df-a320d011-0fcd-46c6-b2a7-a086154fa4de button.colab-df-convert');\n",
              "        buttonEl.style.display =\n",
              "          google.colab.kernel.accessAllowed ? 'block' : 'none';\n",
              "\n",
              "        async function convertToInteractive(key) {\n",
              "          const element = document.querySelector('#df-a320d011-0fcd-46c6-b2a7-a086154fa4de');\n",
              "          const dataTable =\n",
              "            await google.colab.kernel.invokeFunction('convertToInteractive',\n",
              "                                                     [key], {});\n",
              "          if (!dataTable) return;\n",
              "\n",
              "          const docLinkHtml = 'Like what you see? Visit the ' +\n",
              "            '<a target=\"_blank\" href=https://colab.research.google.com/notebooks/data_table.ipynb>data table notebook</a>'\n",
              "            + ' to learn more about interactive tables.';\n",
              "          element.innerHTML = '';\n",
              "          dataTable['output_type'] = 'display_data';\n",
              "          await google.colab.output.renderOutput(dataTable, element);\n",
              "          const docLink = document.createElement('div');\n",
              "          docLink.innerHTML = docLinkHtml;\n",
              "          element.appendChild(docLink);\n",
              "        }\n",
              "      </script>\n",
              "    </div>\n",
              "  </div>\n",
              "  "
            ]
          },
          "metadata": {},
          "execution_count": 8
        }
      ]
    },
    {
      "cell_type": "markdown",
      "source": [
        "TSNE with 4 colors : mol in train, mol in test miscategorized, mol in test well categorized, 20 mol"
      ],
      "metadata": {
        "id": "8FfiSyHnqbys"
      }
    },
    {
      "cell_type": "code",
      "source": [],
      "metadata": {
        "id": "17gi9toOniju"
      },
      "execution_count": null,
      "outputs": []
    }
  ],
  "metadata": {
    "accelerator": "GPU",
    "colab": {
      "provenance": []
    },
    "gpuClass": "standard",
    "kernelspec": {
      "display_name": "Python 3",
      "name": "python3"
    },
    "language_info": {
      "name": "python"
    }
  },
  "nbformat": 4,
  "nbformat_minor": 0
}